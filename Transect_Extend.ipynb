{
 "cells": [
  {
   "cell_type": "code",
   "execution_count": null,
   "metadata": {},
   "outputs": [],
   "source": [
    "import geopandas as gpd \n",
    "from shapely.geometry import LineString"
   ]
  },
  {
   "cell_type": "code",
   "execution_count": null,
   "metadata": {},
   "outputs": [],
   "source": [
    "MHWL = gpd.read_file('nz-MHWL.shp')\n",
    "transect_rates = gpd.read_file('AOI_rates.shp')"
   ]
  },
  {
   "cell_type": "code",
   "execution_count": null,
   "metadata": {},
   "outputs": [],
   "source": [
    "extended_transects = gpd.GeoDataFrame(columns =['transect_id','intersect_point'], geometry='geometry')"
   ]
  },
  {
   "cell_type": "code",
   "execution_count": null,
   "metadata": {},
   "outputs": [],
   "source": [
    "for index, transect in transect_rates.interrows():\n",
    "    if transect['geometry'].intersects(MHWL.unary_union):\n",
    "        extended_transects = extended_transects.append({'transect_id':transect['id'], \n",
    "                                                        'intersect_point': None, \n",
    "                                                        'geometry': transect['geometry']}, \n",
    "                                                        ignore_index=True)\n",
    "    else:\n",
    "        intersect_point = transect ['geometry'].intersection(MHWL.unary_union)\n",
    "        extended_line = LineString([transect['geometry'].coords[0], intersect_point])\n",
    "        extended_transects = extended_transects.append({'transect_id': transect['id'], \n",
    "                                                        'intersect_point': intersect_point, \n",
    "                                                        'geometry': extended_line}, \n",
    "                                                        ignore_index=True)"
   ]
  },
  {
   "cell_type": "code",
   "execution_count": null,
   "metadata": {},
   "outputs": [],
   "source": [
    "extended_transects.to_file('extended_transects.geojson')"
   ]
  }
 ],
 "metadata": {
  "kernelspec": {
   "display_name": "environment",
   "language": "python",
   "name": "python3"
  },
  "language_info": {
   "name": "python",
   "version": "3.9.18"
  }
 },
 "nbformat": 4,
 "nbformat_minor": 2
}
