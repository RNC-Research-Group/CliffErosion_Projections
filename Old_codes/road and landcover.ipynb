{
 "cells": [
  {
   "cell_type": "code",
   "execution_count": 10,
   "metadata": {},
   "outputs": [
    {
     "name": "stdout",
     "output_type": "stream",
     "text": [
      "Results saved to: C:/Users/lalit/OneDrive - The University of Auckland\\Masters (23)/Shapefiles/results.csv\n"
     ]
    }
   ],
   "source": [
    "import os\n",
    "import geopandas as gpd\n",
    "import pandas as pd\n",
    "\n",
    "# Folder containing hazard shapefiles\n",
    "hazard_folder_path = \"C:/Users/lalit/GitHub/Shoreline_Projections/Projected_Shoreline_Polygons\"\n",
    "\n",
    "# Load road shapefile\n",
    "road_shapefile_path = \"C:/Users/lalit/OneDrive - The University of Auckland/Masters (23)/Shapefiles/Asset_Shapefiles/Roads.shp\"\n",
    "roads = gpd.read_file(road_shapefile_path)\n",
    "\n",
    "# Ensure road GeoDataFrame has the same coordinate reference system (CRS) as the hazards\n",
    "roads = roads.to_crs(hazards.crs)\n",
    "\n",
    "# Initialize a list to store results\n",
    "results = []\n",
    "\n",
    "# List all shapefiles in the folder\n",
    "hazard_files = [f for f in os.listdir(hazard_folder_path) if f.endswith('.shp')]\n",
    "\n",
    "# Loop through each hazard shapefile\n",
    "for hazard_file in hazard_files:\n",
    "    # Construct the full path to the hazard shapefile\n",
    "    hazard_shapefile_path = os.path.join(hazard_folder_path, hazard_file)\n",
    "\n",
    "    # Load hazard shapefile\n",
    "    hazards = gpd.read_file(hazard_shapefile_path)\n",
    "\n",
    "    # Ensure hazard GeoDataFrame has the same CRS as the roads\n",
    "    hazards = hazards.to_crs(roads.crs)\n",
    "\n",
    "    # Perform spatial join to find overlapping features\n",
    "    overlap = gpd.overlay(roads, hazards, how='intersection')\n",
    "\n",
    "    # Calculate the length of the overlapping segments in kilometers\n",
    "    overlap['length_km'] = overlap.geometry.length / 1000\n",
    "\n",
    "    # Total length of overlapping segments for the current hazard shapefile\n",
    "    hazard_overlap_length_km = overlap['length_km'].sum()\n",
    "\n",
    "    # Add results to the list\n",
    "    results.append({'HazardFileName': hazard_file, 'RoadOverlap': hazard_overlap_length_km})\n",
    "\n",
    "# Create a DataFrame from the results\n",
    "result_df = pd.DataFrame(results)\n",
    "\n",
    "# Save the DataFrame to a CSV file\n",
    "csv_output_path = \"C:/Users/lalit/OneDrive - The University of Auckland/Masters (23)/Shapefiles/results.csv\"\n",
    "result_df.to_csv(csv_output_path, index=False)\n",
    "\n",
    "# Display the path to the saved CSV file\n",
    "print(f\"Results saved to: {csv_output_path}\")"
   ]
  },
  {
   "cell_type": "code",
   "execution_count": 13,
   "metadata": {},
   "outputs": [
    {
     "name": "stdout",
     "output_type": "stream",
     "text": [
      "Results saved to CSV: C:/Users/lalit/OneDrive - The University of Auckland\\Masters (23)/Shapefiles/results_land.csv\n"
     ]
    }
   ],
   "source": [
    "import os\n",
    "import geopandas as gpd\n",
    "import pandas as pd\n",
    "\n",
    "# Folder containing hazard shapefiles\n",
    "hazard_folder_path = \"C:/Users/lalit/GitHub/Shoreline_Projections/Projected_Shoreline_Polygons\"\n",
    "\n",
    "# Load land area shapefile\n",
    "land_area_shapefile_path = \"C:/Users/lalit/OneDrive - The University of Auckland/Masters (23)/Shapefiles/Asset_Shapefiles/LUCAS.shp\"\n",
    "land_areas = gpd.read_file(land_area_shapefile_path)\n",
    "\n",
    "# Ensure land area GeoDataFrame has the same coordinate reference system (CRS) as the hazards\n",
    "land_areas = land_areas.to_crs(hazards.crs)\n",
    "\n",
    "# Initialize a list to store results\n",
    "results = []\n",
    "\n",
    "# List all shapefiles in the folder\n",
    "hazard_files = [f for f in os.listdir(hazard_folder_path) if f.endswith('.shp')]\n",
    "\n",
    "# Loop through each hazard shapefile\n",
    "for hazard_file in hazard_files:\n",
    "    # Construct the full path to the hazard shapefile\n",
    "    hazard_shapefile_path = os.path.join(hazard_folder_path, hazard_file)\n",
    "\n",
    "    # Load hazard shapefile\n",
    "    hazards = gpd.read_file(hazard_shapefile_path)\n",
    "\n",
    "    # Ensure hazard GeoDataFrame has the same CRS as the land areas\n",
    "    hazards = hazards.to_crs(land_areas.crs)\n",
    "\n",
    "    # Perform spatial join to find overlapping features\n",
    "    overlap = gpd.overlay(land_areas, hazards, how='intersection')\n",
    "\n",
    "    # Calculate the area of the overlapping features in square kilometers\n",
    "    overlap['area_km2'] = overlap.geometry.area / 1e6  # Convert square meters to square kilometers\n",
    "\n",
    "    # Total area of overlapping features for the current hazard shapefile\n",
    "    hazard_overlap_area_km2 = overlap['area_km2'].sum()\n",
    "\n",
    "    # Add results to the list\n",
    "    results.append({'HazardFileName': hazard_file, 'LandAreaOverlap': hazard_overlap_area_km2})\n",
    "\n",
    "# Create a DataFrame from the results\n",
    "result_df = pd.DataFrame(results)\n",
    "\n",
    "# Save the DataFrame to a CSV file\n",
    "csv_output_path = \"C:/Users/lalit/OneDrive - The University of Auckland/Masters (23)/Shapefiles/results_land.csv\"\n",
    "result_df.to_csv(csv_output_path, index=False)\n",
    "\n",
    "# Display the path to the saved CSV file\n",
    "print(f\"Results saved to CSV: {csv_output_path}\")"
   ]
  }
 ],
 "metadata": {
  "kernelspec": {
   "display_name": "environment",
   "language": "python",
   "name": "python3"
  },
  "language_info": {
   "codemirror_mode": {
    "name": "ipython",
    "version": 3
   },
   "file_extension": ".py",
   "mimetype": "text/x-python",
   "name": "python",
   "nbconvert_exporter": "python",
   "pygments_lexer": "ipython3",
   "version": "3.9.18"
  }
 },
 "nbformat": 4,
 "nbformat_minor": 2
}
