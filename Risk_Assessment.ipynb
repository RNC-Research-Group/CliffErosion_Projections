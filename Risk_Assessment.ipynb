{
 "cells": [
  {
   "cell_type": "code",
   "execution_count": 1,
   "metadata": {},
   "outputs": [
    {
     "data": {
      "text/html": [
       "<pre>✔️ 812 ms (2024-10-03T11:47:47/2024-10-03T11:47:48)</pre>"
      ],
      "text/plain": [
       "<IPython.core.display.HTML object>"
      ]
     },
     "metadata": {},
     "output_type": "display_data"
    }
   ],
   "source": [
    "%load_ext autotime\n",
    "import pandas as pd\n",
    "import os\n",
    "import geopandas as gpd\n",
    "from glob import glob\n",
    "from shapely.validation import make_valid\n",
    "from tqdm.auto import tqdm\n",
    "import time"
   ]
  },
  {
   "cell_type": "code",
   "execution_count": 2,
   "metadata": {},
   "outputs": [
    {
     "data": {
      "text/html": [
       "<pre>✔️ 32 ms (2024-10-03T11:47:48/2024-10-03T11:47:48)</pre>"
      ],
      "text/plain": [
       "<IPython.core.display.HTML object>"
      ]
     },
     "metadata": {},
     "output_type": "display_data"
    },
    {
     "data": {
      "text/html": [
       "<div>\n",
       "<style scoped>\n",
       "    .dataframe tbody tr th:only-of-type {\n",
       "        vertical-align: middle;\n",
       "    }\n",
       "\n",
       "    .dataframe tbody tr th {\n",
       "        vertical-align: top;\n",
       "    }\n",
       "\n",
       "    .dataframe thead th {\n",
       "        text-align: right;\n",
       "    }\n",
       "</style>\n",
       "<table border=\"1\" class=\"dataframe\">\n",
       "  <thead>\n",
       "    <tr style=\"text-align: right;\">\n",
       "      <th></th>\n",
       "      <th>filepath</th>\n",
       "      <th>filename</th>\n",
       "      <th>filesize_GB</th>\n",
       "    </tr>\n",
       "  </thead>\n",
       "  <tbody>\n",
       "    <tr>\n",
       "      <th>0</th>\n",
       "      <td>Asset Directory\\DOC\\Covenant_Areas.shp</td>\n",
       "      <td>Covenant_Areas</td>\n",
       "      <td>0.003984</td>\n",
       "    </tr>\n",
       "    <tr>\n",
       "      <th>1</th>\n",
       "      <td>Asset Directory\\DOC\\DOC_Campsites.shp</td>\n",
       "      <td>DOC_Campsites</td>\n",
       "      <td>0.000008</td>\n",
       "    </tr>\n",
       "    <tr>\n",
       "      <th>2</th>\n",
       "      <td>Asset Directory\\DOC\\DOC_Marine_Reserves.shp</td>\n",
       "      <td>DOC_Marine_Reserves</td>\n",
       "      <td>0.001981</td>\n",
       "    </tr>\n",
       "    <tr>\n",
       "      <th>3</th>\n",
       "      <td>Asset Directory\\DOC\\DOC_Offices.shp</td>\n",
       "      <td>DOC_Offices</td>\n",
       "      <td>0.000003</td>\n",
       "    </tr>\n",
       "    <tr>\n",
       "      <th>4</th>\n",
       "      <td>Asset Directory\\DOC\\DOC_Public_Conservation_La...</td>\n",
       "      <td>DOC_Public_Conservation_Land</td>\n",
       "      <td>0.139802</td>\n",
       "    </tr>\n",
       "    <tr>\n",
       "      <th>5</th>\n",
       "      <td>Asset Directory\\DOC\\DOC_Sanctuaries_to_Protect...</td>\n",
       "      <td>DOC_Sanctuaries_to_Protect_Marine_Mammals</td>\n",
       "      <td>0.003158</td>\n",
       "    </tr>\n",
       "    <tr>\n",
       "      <th>6</th>\n",
       "      <td>Asset Directory\\DOC\\Ecological_Districts.shp</td>\n",
       "      <td>Ecological_Districts</td>\n",
       "      <td>0.002513</td>\n",
       "    </tr>\n",
       "    <tr>\n",
       "      <th>7</th>\n",
       "      <td>Asset Directory\\DOC\\Internationally_Recognised...</td>\n",
       "      <td>Internationally_Recognised_Areas</td>\n",
       "      <td>0.004694</td>\n",
       "    </tr>\n",
       "    <tr>\n",
       "      <th>8</th>\n",
       "      <td>Asset Directory\\Koordinate\\new-zealand-2022-es...</td>\n",
       "      <td>new-zealand-2022-estimated-resident-population...</td>\n",
       "      <td>0.026755</td>\n",
       "    </tr>\n",
       "    <tr>\n",
       "      <th>9</th>\n",
       "      <td>Asset Directory\\Koordinate\\nz-cadastral-survey...</td>\n",
       "      <td>nz-cadastral-survey-network-marks</td>\n",
       "      <td>0.032303</td>\n",
       "    </tr>\n",
       "    <tr>\n",
       "      <th>10</th>\n",
       "      <td>Asset Directory\\Koordinate\\nz-mangrove-polygon...</td>\n",
       "      <td>nz-mangrove-polygons-topo-150k</td>\n",
       "      <td>0.001988</td>\n",
       "    </tr>\n",
       "    <tr>\n",
       "      <th>11</th>\n",
       "      <td>Asset Directory\\Koordinate\\nz-orchard-polygons...</td>\n",
       "      <td>nz-orchard-polygons-topo-150k</td>\n",
       "      <td>0.001614</td>\n",
       "    </tr>\n",
       "    <tr>\n",
       "      <th>12</th>\n",
       "      <td>Asset Directory\\Koordinate\\nz-swamp-polygons-t...</td>\n",
       "      <td>nz-swamp-polygons-topo-150k</td>\n",
       "      <td>0.009095</td>\n",
       "    </tr>\n",
       "    <tr>\n",
       "      <th>13</th>\n",
       "      <td>Asset Directory\\Koordinate\\nz-trig-points-topo...</td>\n",
       "      <td>nz-trig-points-topo-150k</td>\n",
       "      <td>0.000162</td>\n",
       "    </tr>\n",
       "    <tr>\n",
       "      <th>14</th>\n",
       "      <td>Asset Directory\\Koordinate\\nz-vineyard-polygon...</td>\n",
       "      <td>nz-vineyard-polygons-topo-150k</td>\n",
       "      <td>0.001280</td>\n",
       "    </tr>\n",
       "    <tr>\n",
       "      <th>15</th>\n",
       "      <td>Asset Directory\\Koordinate\\nz-walking-and-biki...</td>\n",
       "      <td>nz-walking-and-biking-tracks</td>\n",
       "      <td>0.038141</td>\n",
       "    </tr>\n",
       "    <tr>\n",
       "      <th>16</th>\n",
       "      <td>Asset Directory\\Koordinate\\nzlri-land-use-capa...</td>\n",
       "      <td>nzlri-land-use-capability-2021</td>\n",
       "      <td>0.164578</td>\n",
       "    </tr>\n",
       "    <tr>\n",
       "      <th>17</th>\n",
       "      <td>Asset Directory\\Koordinate\\protected-areas\\pro...</td>\n",
       "      <td>protected-areas</td>\n",
       "      <td>0.134675</td>\n",
       "    </tr>\n",
       "    <tr>\n",
       "      <th>18</th>\n",
       "      <td>Asset Directory\\Koordinate\\smap-soil-drainage-...</td>\n",
       "      <td>smap-soil-drainage-dec-2023</td>\n",
       "      <td>0.699233</td>\n",
       "    </tr>\n",
       "    <tr>\n",
       "      <th>19</th>\n",
       "      <td>Asset Directory\\lds-new-zealand-17layers-SHP\\l...</td>\n",
       "      <td>location-and-extent-of-nzs-aquifers-2015</td>\n",
       "      <td>0.004463</td>\n",
       "    </tr>\n",
       "    <tr>\n",
       "      <th>20</th>\n",
       "      <td>Asset Directory\\lds-new-zealand-17layers-SHP\\n...</td>\n",
       "      <td>nz-road-centrelines-topo-150k</td>\n",
       "      <td>0.116422</td>\n",
       "    </tr>\n",
       "    <tr>\n",
       "      <th>21</th>\n",
       "      <td>Asset Directory\\lds-new-zealand-17layers-SHP\\l...</td>\n",
       "      <td>linz-managed-crown-property</td>\n",
       "      <td>0.041728</td>\n",
       "    </tr>\n",
       "    <tr>\n",
       "      <th>22</th>\n",
       "      <td>Asset Directory\\lds-new-zealand-17layers-SHP\\n...</td>\n",
       "      <td>nz-airport-polygons-topo-150k</td>\n",
       "      <td>0.000086</td>\n",
       "    </tr>\n",
       "    <tr>\n",
       "      <th>23</th>\n",
       "      <td>Asset Directory\\lds-new-zealand-17layers-SHP\\n...</td>\n",
       "      <td>nz-building-outlines</td>\n",
       "      <td>0.636510</td>\n",
       "    </tr>\n",
       "    <tr>\n",
       "      <th>24</th>\n",
       "      <td>Asset Directory\\lds-new-zealand-17layers-SHP\\n...</td>\n",
       "      <td>nz-cemetery-polygons-topo-150k</td>\n",
       "      <td>0.000071</td>\n",
       "    </tr>\n",
       "    <tr>\n",
       "      <th>25</th>\n",
       "      <td>Asset Directory\\lds-new-zealand-17layers-SHP\\n...</td>\n",
       "      <td>nz-coastlines-topo-150k</td>\n",
       "      <td>0.007487</td>\n",
       "    </tr>\n",
       "    <tr>\n",
       "      <th>26</th>\n",
       "      <td>Asset Directory\\lds-new-zealand-17layers-SHP\\n...</td>\n",
       "      <td>nz-drain-centrelines-topo-150k</td>\n",
       "      <td>0.006491</td>\n",
       "    </tr>\n",
       "    <tr>\n",
       "      <th>27</th>\n",
       "      <td>Asset Directory\\lds-new-zealand-17layers-SHP\\n...</td>\n",
       "      <td>nz-facilities</td>\n",
       "      <td>0.000758</td>\n",
       "    </tr>\n",
       "    <tr>\n",
       "      <th>28</th>\n",
       "      <td>Asset Directory\\lds-new-zealand-17layers-SHP\\n...</td>\n",
       "      <td>nz-gas-valve-points-topo-150k</td>\n",
       "      <td>0.000002</td>\n",
       "    </tr>\n",
       "    <tr>\n",
       "      <th>29</th>\n",
       "      <td>Asset Directory\\lds-new-zealand-17layers-SHP\\n...</td>\n",
       "      <td>nz-geodetic-marks</td>\n",
       "      <td>0.003710</td>\n",
       "    </tr>\n",
       "    <tr>\n",
       "      <th>30</th>\n",
       "      <td>Asset Directory\\lds-new-zealand-17layers-SHP\\n...</td>\n",
       "      <td>nz-historic-site-points-topo-150k</td>\n",
       "      <td>0.000007</td>\n",
       "    </tr>\n",
       "    <tr>\n",
       "      <th>31</th>\n",
       "      <td>Asset Directory\\lds-new-zealand-17layers-SHP\\n...</td>\n",
       "      <td>nz-monument-points-topo-150k</td>\n",
       "      <td>0.000008</td>\n",
       "    </tr>\n",
       "    <tr>\n",
       "      <th>32</th>\n",
       "      <td>Asset Directory\\lds-new-zealand-17layers-SHP\\n...</td>\n",
       "      <td>nz-pa-points-topo-150k</td>\n",
       "      <td>0.000060</td>\n",
       "    </tr>\n",
       "    <tr>\n",
       "      <th>33</th>\n",
       "      <td>Asset Directory\\lds-new-zealand-17layers-SHP\\n...</td>\n",
       "      <td>nz-powerline-centrelines-topo-150k</td>\n",
       "      <td>0.001789</td>\n",
       "    </tr>\n",
       "    <tr>\n",
       "      <th>34</th>\n",
       "      <td>Asset Directory\\lds-new-zealand-17layers-SHP\\n...</td>\n",
       "      <td>nz-primary-road-parcels</td>\n",
       "      <td>0.236777</td>\n",
       "    </tr>\n",
       "    <tr>\n",
       "      <th>35</th>\n",
       "      <td>Asset Directory\\lds-new-zealand-17layers-SHP\\n...</td>\n",
       "      <td>nz-rail-station-points-topo-150k</td>\n",
       "      <td>0.000005</td>\n",
       "    </tr>\n",
       "    <tr>\n",
       "      <th>36</th>\n",
       "      <td>Asset Directory\\lds-new-zealand-17layers-SHP\\n...</td>\n",
       "      <td>nz-railway-centre-lines</td>\n",
       "      <td>0.001587</td>\n",
       "    </tr>\n",
       "    <tr>\n",
       "      <th>37</th>\n",
       "      <td>Asset Directory\\lds-new-zealand-17layers-SHP\\n...</td>\n",
       "      <td>nz-residential-area-polygons-topo-1250k</td>\n",
       "      <td>0.000555</td>\n",
       "    </tr>\n",
       "    <tr>\n",
       "      <th>38</th>\n",
       "      <td>Asset Directory\\lds-new-zealand-17layers-SHP\\n...</td>\n",
       "      <td>nz-telephone-centrelines-topo-150k</td>\n",
       "      <td>0.000062</td>\n",
       "    </tr>\n",
       "    <tr>\n",
       "      <th>39</th>\n",
       "      <td>Asset Directory\\lds-new-zealand-17layers-SHP\\n...</td>\n",
       "      <td>nz-track-centrelines-topo-150k</td>\n",
       "      <td>0.074558</td>\n",
       "    </tr>\n",
       "    <tr>\n",
       "      <th>40</th>\n",
       "      <td>Asset Directory\\lds-new-zealand-17layers-SHP\\n...</td>\n",
       "      <td>nz-well-points-topo-150k</td>\n",
       "      <td>0.000003</td>\n",
       "    </tr>\n",
       "    <tr>\n",
       "      <th>41</th>\n",
       "      <td>Asset Directory\\lds-new-zealand-17layers-SHP\\n...</td>\n",
       "      <td>nz-windmill-points-topo-150k</td>\n",
       "      <td>0.000022</td>\n",
       "    </tr>\n",
       "    <tr>\n",
       "      <th>42</th>\n",
       "      <td>Asset Directory\\LUCAS NZ Land Use\\lucas-nz-lan...</td>\n",
       "      <td>lucas-nz-land-use-map-1990-2008-2012-2016-v011</td>\n",
       "      <td>1.435426</td>\n",
       "    </tr>\n",
       "  </tbody>\n",
       "</table>\n",
       "</div>"
      ],
      "text/plain": [
       "                                             filepath  \\\n",
       "0              Asset Directory\\DOC\\Covenant_Areas.shp   \n",
       "1               Asset Directory\\DOC\\DOC_Campsites.shp   \n",
       "2         Asset Directory\\DOC\\DOC_Marine_Reserves.shp   \n",
       "3                 Asset Directory\\DOC\\DOC_Offices.shp   \n",
       "4   Asset Directory\\DOC\\DOC_Public_Conservation_La...   \n",
       "5   Asset Directory\\DOC\\DOC_Sanctuaries_to_Protect...   \n",
       "6        Asset Directory\\DOC\\Ecological_Districts.shp   \n",
       "7   Asset Directory\\DOC\\Internationally_Recognised...   \n",
       "8   Asset Directory\\Koordinate\\new-zealand-2022-es...   \n",
       "9   Asset Directory\\Koordinate\\nz-cadastral-survey...   \n",
       "10  Asset Directory\\Koordinate\\nz-mangrove-polygon...   \n",
       "11  Asset Directory\\Koordinate\\nz-orchard-polygons...   \n",
       "12  Asset Directory\\Koordinate\\nz-swamp-polygons-t...   \n",
       "13  Asset Directory\\Koordinate\\nz-trig-points-topo...   \n",
       "14  Asset Directory\\Koordinate\\nz-vineyard-polygon...   \n",
       "15  Asset Directory\\Koordinate\\nz-walking-and-biki...   \n",
       "16  Asset Directory\\Koordinate\\nzlri-land-use-capa...   \n",
       "17  Asset Directory\\Koordinate\\protected-areas\\pro...   \n",
       "18  Asset Directory\\Koordinate\\smap-soil-drainage-...   \n",
       "19  Asset Directory\\lds-new-zealand-17layers-SHP\\l...   \n",
       "20  Asset Directory\\lds-new-zealand-17layers-SHP\\n...   \n",
       "21  Asset Directory\\lds-new-zealand-17layers-SHP\\l...   \n",
       "22  Asset Directory\\lds-new-zealand-17layers-SHP\\n...   \n",
       "23  Asset Directory\\lds-new-zealand-17layers-SHP\\n...   \n",
       "24  Asset Directory\\lds-new-zealand-17layers-SHP\\n...   \n",
       "25  Asset Directory\\lds-new-zealand-17layers-SHP\\n...   \n",
       "26  Asset Directory\\lds-new-zealand-17layers-SHP\\n...   \n",
       "27  Asset Directory\\lds-new-zealand-17layers-SHP\\n...   \n",
       "28  Asset Directory\\lds-new-zealand-17layers-SHP\\n...   \n",
       "29  Asset Directory\\lds-new-zealand-17layers-SHP\\n...   \n",
       "30  Asset Directory\\lds-new-zealand-17layers-SHP\\n...   \n",
       "31  Asset Directory\\lds-new-zealand-17layers-SHP\\n...   \n",
       "32  Asset Directory\\lds-new-zealand-17layers-SHP\\n...   \n",
       "33  Asset Directory\\lds-new-zealand-17layers-SHP\\n...   \n",
       "34  Asset Directory\\lds-new-zealand-17layers-SHP\\n...   \n",
       "35  Asset Directory\\lds-new-zealand-17layers-SHP\\n...   \n",
       "36  Asset Directory\\lds-new-zealand-17layers-SHP\\n...   \n",
       "37  Asset Directory\\lds-new-zealand-17layers-SHP\\n...   \n",
       "38  Asset Directory\\lds-new-zealand-17layers-SHP\\n...   \n",
       "39  Asset Directory\\lds-new-zealand-17layers-SHP\\n...   \n",
       "40  Asset Directory\\lds-new-zealand-17layers-SHP\\n...   \n",
       "41  Asset Directory\\lds-new-zealand-17layers-SHP\\n...   \n",
       "42  Asset Directory\\LUCAS NZ Land Use\\lucas-nz-lan...   \n",
       "\n",
       "                                             filename  filesize_GB  \n",
       "0                                      Covenant_Areas     0.003984  \n",
       "1                                       DOC_Campsites     0.000008  \n",
       "2                                 DOC_Marine_Reserves     0.001981  \n",
       "3                                         DOC_Offices     0.000003  \n",
       "4                        DOC_Public_Conservation_Land     0.139802  \n",
       "5           DOC_Sanctuaries_to_Protect_Marine_Mammals     0.003158  \n",
       "6                                Ecological_Districts     0.002513  \n",
       "7                    Internationally_Recognised_Areas     0.004694  \n",
       "8   new-zealand-2022-estimated-resident-population...     0.026755  \n",
       "9                   nz-cadastral-survey-network-marks     0.032303  \n",
       "10                     nz-mangrove-polygons-topo-150k     0.001988  \n",
       "11                      nz-orchard-polygons-topo-150k     0.001614  \n",
       "12                        nz-swamp-polygons-topo-150k     0.009095  \n",
       "13                           nz-trig-points-topo-150k     0.000162  \n",
       "14                     nz-vineyard-polygons-topo-150k     0.001280  \n",
       "15                       nz-walking-and-biking-tracks     0.038141  \n",
       "16                     nzlri-land-use-capability-2021     0.164578  \n",
       "17                                    protected-areas     0.134675  \n",
       "18                        smap-soil-drainage-dec-2023     0.699233  \n",
       "19           location-and-extent-of-nzs-aquifers-2015     0.004463  \n",
       "20                      nz-road-centrelines-topo-150k     0.116422  \n",
       "21                        linz-managed-crown-property     0.041728  \n",
       "22                      nz-airport-polygons-topo-150k     0.000086  \n",
       "23                               nz-building-outlines     0.636510  \n",
       "24                     nz-cemetery-polygons-topo-150k     0.000071  \n",
       "25                            nz-coastlines-topo-150k     0.007487  \n",
       "26                     nz-drain-centrelines-topo-150k     0.006491  \n",
       "27                                      nz-facilities     0.000758  \n",
       "28                      nz-gas-valve-points-topo-150k     0.000002  \n",
       "29                                  nz-geodetic-marks     0.003710  \n",
       "30                  nz-historic-site-points-topo-150k     0.000007  \n",
       "31                       nz-monument-points-topo-150k     0.000008  \n",
       "32                             nz-pa-points-topo-150k     0.000060  \n",
       "33                 nz-powerline-centrelines-topo-150k     0.001789  \n",
       "34                            nz-primary-road-parcels     0.236777  \n",
       "35                   nz-rail-station-points-topo-150k     0.000005  \n",
       "36                            nz-railway-centre-lines     0.001587  \n",
       "37            nz-residential-area-polygons-topo-1250k     0.000555  \n",
       "38                 nz-telephone-centrelines-topo-150k     0.000062  \n",
       "39                     nz-track-centrelines-topo-150k     0.074558  \n",
       "40                           nz-well-points-topo-150k     0.000003  \n",
       "41                       nz-windmill-points-topo-150k     0.000022  \n",
       "42     lucas-nz-land-use-map-1990-2008-2012-2016-v011     1.435426  "
      ]
     },
     "execution_count": 2,
     "metadata": {},
     "output_type": "execute_result"
    }
   ],
   "source": [
    "files = pd.DataFrame({\"filepath\": glob(\"Asset Directory/**/*.shp\", recursive=True)})\n",
    "files[\"filename\"] = files[\"filepath\"].apply(lambda x: os.path.basename(x).replace(\".shp\", \"\"))\n",
    "files[\"filesize_GB\"] = files[\"filepath\"].apply(lambda x: os.path.getsize(x) / 1e9)\n",
    "files"
   ]
  },
  {
   "cell_type": "code",
   "execution_count": 3,
   "metadata": {},
   "outputs": [
    {
     "data": {
      "text/html": [
       "<pre>✔️ 187 ms (2024-10-03T11:47:54/2024-10-03T11:47:55)</pre>"
      ],
      "text/plain": [
       "<IPython.core.display.HTML object>"
      ]
     },
     "metadata": {},
     "output_type": "display_data"
    }
   ],
   "source": [
    "df = gpd.read_file(\"Projections/JackettIsland_projection_output_polygon.shp\")\n",
    "df.geometry = df.geometry.apply(make_valid)\n",
    "poly = df.unary_union"
   ]
  },
  {
   "cell_type": "code",
   "execution_count": 4,
   "metadata": {},
   "outputs": [
    {
     "data": {
      "text/html": [
       "<pre>✔️ 41 min 9 s (2024-10-03T11:48:08/2024-10-03T12:29:17)</pre>"
      ],
      "text/plain": [
       "<IPython.core.display.HTML object>"
      ]
     },
     "metadata": {},
     "output_type": "display_data"
    },
    {
     "data": {
      "application/vnd.jupyter.widget-view+json": {
       "model_id": "ed54d48a13934e66aced6c7229a7e56b",
       "version_major": 2,
       "version_minor": 0
      },
      "text/plain": [
       "  0%|          | 0/43 [00:00<?, ?it/s]"
      ]
     },
     "metadata": {},
     "output_type": "display_data"
    },
    {
     "name": "stdout",
     "output_type": "stream",
     "text": [
      "Now processing Covenant_Areas\n",
      "Time to read file: 0.6575894355773926\n",
      "Time to clip: 0.005000114440917969\n",
      "Now processing DOC_Campsites\n"
     ]
    },
    {
     "name": "stderr",
     "output_type": "stream",
     "text": [
      "c:\\Users\\lalit\\anaconda3\\envs\\environment\\lib\\site-packages\\geopandas\\io\\file.py:608: UserWarning: You are attempting to write an empty DataFrame to file. For some drivers, this operation may fail.\n",
      "  _to_file_fiona(df, filename, driver, schema, crs, mode, **kwargs)\n"
     ]
    },
    {
     "name": "stdout",
     "output_type": "stream",
     "text": [
      "Time to read file: 0.15509033203125\n",
      "Time to clip: 0.0040149688720703125\n",
      "Now processing DOC_Marine_Reserves\n"
     ]
    },
    {
     "name": "stderr",
     "output_type": "stream",
     "text": [
      "c:\\Users\\lalit\\anaconda3\\envs\\environment\\lib\\site-packages\\geopandas\\io\\file.py:608: UserWarning: You are attempting to write an empty DataFrame to file. For some drivers, this operation may fail.\n",
      "  _to_file_fiona(df, filename, driver, schema, crs, mode, **kwargs)\n"
     ]
    },
    {
     "name": "stdout",
     "output_type": "stream",
     "text": [
      "Time to read file: 0.2105700969696045\n",
      "Time to clip: 0.0029997825622558594\n",
      "Now processing DOC_Offices\n"
     ]
    },
    {
     "name": "stderr",
     "output_type": "stream",
     "text": [
      "c:\\Users\\lalit\\anaconda3\\envs\\environment\\lib\\site-packages\\geopandas\\io\\file.py:608: UserWarning: You are attempting to write an empty DataFrame to file. For some drivers, this operation may fail.\n",
      "  _to_file_fiona(df, filename, driver, schema, crs, mode, **kwargs)\n",
      "c:\\Users\\lalit\\anaconda3\\envs\\environment\\lib\\site-packages\\geopandas\\io\\file.py:608: UserWarning: You are attempting to write an empty DataFrame to file. For some drivers, this operation may fail.\n",
      "  _to_file_fiona(df, filename, driver, schema, crs, mode, **kwargs)\n"
     ]
    },
    {
     "name": "stdout",
     "output_type": "stream",
     "text": [
      "Time to read file: 0.08083844184875488\n",
      "Time to clip: 0.0\n",
      "Now processing DOC_Public_Conservation_Land\n",
      "Time to read file: 14.283609867095947\n",
      "Time to clip: 0.047972917556762695\n",
      "Now processing DOC_Sanctuaries_to_Protect_Marine_Mammals\n"
     ]
    },
    {
     "name": "stderr",
     "output_type": "stream",
     "text": [
      "c:\\Users\\lalit\\anaconda3\\envs\\environment\\lib\\site-packages\\geopandas\\io\\file.py:608: UserWarning: You are attempting to write an empty DataFrame to file. For some drivers, this operation may fail.\n",
      "  _to_file_fiona(df, filename, driver, schema, crs, mode, **kwargs)\n"
     ]
    },
    {
     "name": "stdout",
     "output_type": "stream",
     "text": [
      "Time to read file: 0.43379831314086914\n",
      "Time to clip: 0.0\n",
      "Now processing Ecological_Districts\n"
     ]
    },
    {
     "name": "stderr",
     "output_type": "stream",
     "text": [
      "c:\\Users\\lalit\\anaconda3\\envs\\environment\\lib\\site-packages\\geopandas\\io\\file.py:608: UserWarning: You are attempting to write an empty DataFrame to file. For some drivers, this operation may fail.\n",
      "  _to_file_fiona(df, filename, driver, schema, crs, mode, **kwargs)\n"
     ]
    },
    {
     "name": "stdout",
     "output_type": "stream",
     "text": [
      "Time to read file: 0.2996983528137207\n",
      "Time to clip: 0.0\n",
      "Now processing Internationally_Recognised_Areas\n"
     ]
    },
    {
     "name": "stderr",
     "output_type": "stream",
     "text": [
      "c:\\Users\\lalit\\anaconda3\\envs\\environment\\lib\\site-packages\\geopandas\\io\\file.py:608: UserWarning: You are attempting to write an empty DataFrame to file. For some drivers, this operation may fail.\n",
      "  _to_file_fiona(df, filename, driver, schema, crs, mode, **kwargs)\n"
     ]
    },
    {
     "name": "stdout",
     "output_type": "stream",
     "text": [
      "Time to read file: 0.4364469051361084\n",
      "Time to clip: 0.0030510425567626953\n",
      "Now processing new-zealand-2022-estimated-resident-population-grid-250-metr\n"
     ]
    },
    {
     "name": "stderr",
     "output_type": "stream",
     "text": [
      "c:\\Users\\lalit\\anaconda3\\envs\\environment\\lib\\site-packages\\geopandas\\io\\file.py:608: UserWarning: You are attempting to write an empty DataFrame to file. For some drivers, this operation may fail.\n",
      "  _to_file_fiona(df, filename, driver, schema, crs, mode, **kwargs)\n"
     ]
    },
    {
     "name": "stdout",
     "output_type": "stream",
     "text": [
      "Time to read file: 36.835906982421875\n",
      "Time to clip: 0.12985944747924805\n",
      "Now processing nz-cadastral-survey-network-marks\n",
      "Time to read file: 220.52263617515564\n",
      "Time to clip: 0.9072792530059814\n",
      "Now processing nz-mangrove-polygons-topo-150k\n"
     ]
    },
    {
     "name": "stderr",
     "output_type": "stream",
     "text": [
      "c:\\Users\\lalit\\anaconda3\\envs\\environment\\lib\\site-packages\\geopandas\\geodataframe.py:1543: SettingWithCopyWarning: \n",
      "A value is trying to be set on a copy of a slice from a DataFrame.\n",
      "Try using .loc[row_indexer,col_indexer] = value instead\n",
      "\n",
      "See the caveats in the documentation: https://pandas.pydata.org/pandas-docs/stable/user_guide/indexing.html#returning-a-view-versus-a-copy\n",
      "  super().__setitem__(key, value)\n",
      "c:\\Users\\lalit\\anaconda3\\envs\\environment\\lib\\site-packages\\geopandas\\geodataframe.py:1543: SettingWithCopyWarning: \n",
      "A value is trying to be set on a copy of a slice from a DataFrame.\n",
      "Try using .loc[row_indexer,col_indexer] = value instead\n",
      "\n",
      "See the caveats in the documentation: https://pandas.pydata.org/pandas-docs/stable/user_guide/indexing.html#returning-a-view-versus-a-copy\n",
      "  super().__setitem__(key, value)\n"
     ]
    },
    {
     "name": "stdout",
     "output_type": "stream",
     "text": [
      "Time to read file: 1.3817648887634277\n"
     ]
    },
    {
     "name": "stderr",
     "output_type": "stream",
     "text": [
      "c:\\Users\\lalit\\anaconda3\\envs\\environment\\lib\\site-packages\\geopandas\\io\\file.py:608: UserWarning: You are attempting to write an empty DataFrame to file. For some drivers, this operation may fail.\n",
      "  _to_file_fiona(df, filename, driver, schema, crs, mode, **kwargs)\n"
     ]
    },
    {
     "name": "stdout",
     "output_type": "stream",
     "text": [
      "Time to clip: 0.0\n",
      "Now processing nz-orchard-polygons-topo-150k\n",
      "Time to read file: 1.0849478244781494\n",
      "Time to clip: 0.0\n",
      "Now processing nz-swamp-polygons-topo-150k\n"
     ]
    },
    {
     "name": "stderr",
     "output_type": "stream",
     "text": [
      "c:\\Users\\lalit\\anaconda3\\envs\\environment\\lib\\site-packages\\geopandas\\io\\file.py:608: UserWarning: You are attempting to write an empty DataFrame to file. For some drivers, this operation may fail.\n",
      "  _to_file_fiona(df, filename, driver, schema, crs, mode, **kwargs)\n"
     ]
    },
    {
     "name": "stdout",
     "output_type": "stream",
     "text": [
      "Time to read file: 2.9996585845947266\n",
      "Time to clip: 0.019196271896362305\n",
      "Now processing nz-trig-points-topo-150k\n"
     ]
    },
    {
     "name": "stderr",
     "output_type": "stream",
     "text": [
      "c:\\Users\\lalit\\anaconda3\\envs\\environment\\lib\\site-packages\\geopandas\\io\\file.py:608: UserWarning: You are attempting to write an empty DataFrame to file. For some drivers, this operation may fail.\n",
      "  _to_file_fiona(df, filename, driver, schema, crs, mode, **kwargs)\n"
     ]
    },
    {
     "name": "stdout",
     "output_type": "stream",
     "text": [
      "Time to read file: 1.4742803573608398\n",
      "Time to clip: 0.008552789688110352\n"
     ]
    },
    {
     "name": "stderr",
     "output_type": "stream",
     "text": [
      "c:\\Users\\lalit\\anaconda3\\envs\\environment\\lib\\site-packages\\geopandas\\io\\file.py:608: UserWarning: You are attempting to write an empty DataFrame to file. For some drivers, this operation may fail.\n",
      "  _to_file_fiona(df, filename, driver, schema, crs, mode, **kwargs)\n"
     ]
    },
    {
     "name": "stdout",
     "output_type": "stream",
     "text": [
      "Now processing nz-vineyard-polygons-topo-150k\n",
      "Time to read file: 0.5670125484466553\n",
      "Time to clip: 0.015622854232788086\n"
     ]
    },
    {
     "name": "stderr",
     "output_type": "stream",
     "text": [
      "c:\\Users\\lalit\\anaconda3\\envs\\environment\\lib\\site-packages\\geopandas\\io\\file.py:608: UserWarning: You are attempting to write an empty DataFrame to file. For some drivers, this operation may fail.\n",
      "  _to_file_fiona(df, filename, driver, schema, crs, mode, **kwargs)\n"
     ]
    },
    {
     "name": "stdout",
     "output_type": "stream",
     "text": [
      "Now processing nz-walking-and-biking-tracks\n",
      "Time to read file: 13.894965171813965\n",
      "Time to clip: 0.04753541946411133\n"
     ]
    },
    {
     "name": "stderr",
     "output_type": "stream",
     "text": [
      "c:\\Users\\lalit\\anaconda3\\envs\\environment\\lib\\site-packages\\geopandas\\io\\file.py:608: UserWarning: You are attempting to write an empty DataFrame to file. For some drivers, this operation may fail.\n",
      "  _to_file_fiona(df, filename, driver, schema, crs, mode, **kwargs)\n"
     ]
    },
    {
     "name": "stdout",
     "output_type": "stream",
     "text": [
      "Now processing nzlri-land-use-capability-2021\n",
      "Time to read file: 128.03805828094482\n",
      "Time to clip: 0.1616065502166748\n",
      "Now processing protected-areas\n",
      "Time to read file: 19.696423530578613\n",
      "Time to clip: 0.07410764694213867\n",
      "Now processing smap-soil-drainage-dec-2023\n"
     ]
    },
    {
     "name": "stderr",
     "output_type": "stream",
     "text": [
      "c:\\Users\\lalit\\anaconda3\\envs\\environment\\lib\\site-packages\\geopandas\\io\\file.py:608: UserWarning: You are attempting to write an empty DataFrame to file. For some drivers, this operation may fail.\n",
      "  _to_file_fiona(df, filename, driver, schema, crs, mode, **kwargs)\n"
     ]
    },
    {
     "name": "stdout",
     "output_type": "stream",
     "text": [
      "Time to read file: 93.57328796386719\n",
      "Time to clip: 0.3025174140930176\n",
      "Now processing location-and-extent-of-nzs-aquifers-2015\n"
     ]
    },
    {
     "name": "stderr",
     "output_type": "stream",
     "text": [
      "c:\\Users\\lalit\\anaconda3\\envs\\environment\\lib\\site-packages\\geopandas\\io\\file.py:608: UserWarning: You are attempting to write an empty DataFrame to file. For some drivers, this operation may fail.\n",
      "  _to_file_fiona(df, filename, driver, schema, crs, mode, **kwargs)\n"
     ]
    },
    {
     "name": "stdout",
     "output_type": "stream",
     "text": [
      "Time to read file: 1.084507942199707\n",
      "Time to clip: 0.016620397567749023\n",
      "Now processing nz-road-centrelines-topo-150k\n",
      "Time to read file: 41.68052530288696\n",
      "Time to clip: 0.1305835247039795\n"
     ]
    },
    {
     "name": "stderr",
     "output_type": "stream",
     "text": [
      "c:\\Users\\lalit\\anaconda3\\envs\\environment\\lib\\site-packages\\geopandas\\io\\file.py:608: UserWarning: You are attempting to write an empty DataFrame to file. For some drivers, this operation may fail.\n",
      "  _to_file_fiona(df, filename, driver, schema, crs, mode, **kwargs)\n"
     ]
    },
    {
     "name": "stdout",
     "output_type": "stream",
     "text": [
      "Now processing linz-managed-crown-property\n",
      "Time to read file: 9.381311416625977\n",
      "Time to clip: 0.03725409507751465\n",
      "Now processing nz-airport-polygons-topo-150k\n"
     ]
    },
    {
     "name": "stderr",
     "output_type": "stream",
     "text": [
      "c:\\Users\\lalit\\anaconda3\\envs\\environment\\lib\\site-packages\\geopandas\\io\\file.py:608: UserWarning: You are attempting to write an empty DataFrame to file. For some drivers, this operation may fail.\n",
      "  _to_file_fiona(df, filename, driver, schema, crs, mode, **kwargs)\n"
     ]
    },
    {
     "name": "stdout",
     "output_type": "stream",
     "text": [
      "Time to read file: 0.23345303535461426\n"
     ]
    },
    {
     "name": "stderr",
     "output_type": "stream",
     "text": [
      "c:\\Users\\lalit\\anaconda3\\envs\\environment\\lib\\site-packages\\geopandas\\io\\file.py:608: UserWarning: You are attempting to write an empty DataFrame to file. For some drivers, this operation may fail.\n",
      "  _to_file_fiona(df, filename, driver, schema, crs, mode, **kwargs)\n"
     ]
    },
    {
     "name": "stdout",
     "output_type": "stream",
     "text": [
      "Time to clip: 0.001249074935913086\n",
      "Now processing nz-building-outlines\n",
      "Time to read file: 1247.7034087181091\n",
      "Time to clip: 6.2032248973846436\n",
      "Now processing nz-cemetery-polygons-topo-150k\n",
      "Time to read file: 6.710112810134888\n",
      "Time to clip: 0.004109382629394531\n",
      "Now processing nz-coastlines-topo-150k\n"
     ]
    },
    {
     "name": "stderr",
     "output_type": "stream",
     "text": [
      "c:\\Users\\lalit\\anaconda3\\envs\\environment\\lib\\site-packages\\geopandas\\io\\file.py:608: UserWarning: You are attempting to write an empty DataFrame to file. For some drivers, this operation may fail.\n",
      "  _to_file_fiona(df, filename, driver, schema, crs, mode, **kwargs)\n"
     ]
    },
    {
     "name": "stdout",
     "output_type": "stream",
     "text": [
      "Time to read file: 0.8499479293823242\n",
      "Time to clip: 0.0\n"
     ]
    },
    {
     "name": "stderr",
     "output_type": "stream",
     "text": [
      "c:\\Users\\lalit\\anaconda3\\envs\\environment\\lib\\site-packages\\geopandas\\io\\file.py:608: UserWarning: You are attempting to write an empty DataFrame to file. For some drivers, this operation may fail.\n",
      "  _to_file_fiona(df, filename, driver, schema, crs, mode, **kwargs)\n"
     ]
    },
    {
     "name": "stdout",
     "output_type": "stream",
     "text": [
      "Now processing nz-drain-centrelines-topo-150k\n",
      "Time to read file: 8.229501724243164\n",
      "Time to clip: 0.03169727325439453\n",
      "Now processing nz-facilities\n"
     ]
    },
    {
     "name": "stderr",
     "output_type": "stream",
     "text": [
      "c:\\Users\\lalit\\anaconda3\\envs\\environment\\lib\\site-packages\\geopandas\\io\\file.py:608: UserWarning: You are attempting to write an empty DataFrame to file. For some drivers, this operation may fail.\n",
      "  _to_file_fiona(df, filename, driver, schema, crs, mode, **kwargs)\n"
     ]
    },
    {
     "name": "stdout",
     "output_type": "stream",
     "text": [
      "Time to read file: 0.9186968803405762\n",
      "Time to clip: 0.0\n",
      "Now processing nz-gas-valve-points-topo-150k\n"
     ]
    },
    {
     "name": "stderr",
     "output_type": "stream",
     "text": [
      "c:\\Users\\lalit\\anaconda3\\envs\\environment\\lib\\site-packages\\geopandas\\io\\file.py:608: UserWarning: You are attempting to write an empty DataFrame to file. For some drivers, this operation may fail.\n",
      "  _to_file_fiona(df, filename, driver, schema, crs, mode, **kwargs)\n",
      "c:\\Users\\lalit\\anaconda3\\envs\\environment\\lib\\site-packages\\geopandas\\io\\file.py:608: UserWarning: You are attempting to write an empty DataFrame to file. For some drivers, this operation may fail.\n",
      "  _to_file_fiona(df, filename, driver, schema, crs, mode, **kwargs)\n"
     ]
    },
    {
     "name": "stdout",
     "output_type": "stream",
     "text": [
      "Time to read file: 0.0525052547454834\n",
      "Time to clip: 0.0\n",
      "Now processing nz-geodetic-marks\n",
      "Time to read file: 37.18420958518982\n",
      "Time to clip: 0.08342719078063965\n"
     ]
    },
    {
     "name": "stderr",
     "output_type": "stream",
     "text": [
      "c:\\Users\\lalit\\anaconda3\\envs\\environment\\lib\\site-packages\\geopandas\\geodataframe.py:1543: SettingWithCopyWarning: \n",
      "A value is trying to be set on a copy of a slice from a DataFrame.\n",
      "Try using .loc[row_indexer,col_indexer] = value instead\n",
      "\n",
      "See the caveats in the documentation: https://pandas.pydata.org/pandas-docs/stable/user_guide/indexing.html#returning-a-view-versus-a-copy\n",
      "  super().__setitem__(key, value)\n",
      "c:\\Users\\lalit\\anaconda3\\envs\\environment\\lib\\site-packages\\geopandas\\geodataframe.py:1543: SettingWithCopyWarning: \n",
      "A value is trying to be set on a copy of a slice from a DataFrame.\n",
      "Try using .loc[row_indexer,col_indexer] = value instead\n",
      "\n",
      "See the caveats in the documentation: https://pandas.pydata.org/pandas-docs/stable/user_guide/indexing.html#returning-a-view-versus-a-copy\n",
      "  super().__setitem__(key, value)\n"
     ]
    },
    {
     "name": "stdout",
     "output_type": "stream",
     "text": [
      "Now processing nz-historic-site-points-topo-150k\n",
      "Time to read file: 0.15124940872192383\n",
      "Time to clip: 0.0\n",
      "Now processing nz-monument-points-topo-150k\n"
     ]
    },
    {
     "name": "stderr",
     "output_type": "stream",
     "text": [
      "c:\\Users\\lalit\\anaconda3\\envs\\environment\\lib\\site-packages\\geopandas\\io\\file.py:608: UserWarning: You are attempting to write an empty DataFrame to file. For some drivers, this operation may fail.\n",
      "  _to_file_fiona(df, filename, driver, schema, crs, mode, **kwargs)\n"
     ]
    },
    {
     "name": "stdout",
     "output_type": "stream",
     "text": [
      "Time to read file: 0.1028432846069336\n",
      "Time to clip: 0.0\n",
      "Now processing nz-pa-points-topo-150k\n"
     ]
    },
    {
     "name": "stderr",
     "output_type": "stream",
     "text": [
      "c:\\Users\\lalit\\anaconda3\\envs\\environment\\lib\\site-packages\\geopandas\\io\\file.py:608: UserWarning: You are attempting to write an empty DataFrame to file. For some drivers, this operation may fail.\n",
      "  _to_file_fiona(df, filename, driver, schema, crs, mode, **kwargs)\n"
     ]
    },
    {
     "name": "stdout",
     "output_type": "stream",
     "text": [
      "Time to read file: 0.46387338638305664\n",
      "Time to clip: 0.015583515167236328\n",
      "Now processing nz-powerline-centrelines-topo-150k\n"
     ]
    },
    {
     "name": "stderr",
     "output_type": "stream",
     "text": [
      "c:\\Users\\lalit\\anaconda3\\envs\\environment\\lib\\site-packages\\geopandas\\io\\file.py:608: UserWarning: You are attempting to write an empty DataFrame to file. For some drivers, this operation may fail.\n",
      "  _to_file_fiona(df, filename, driver, schema, crs, mode, **kwargs)\n"
     ]
    },
    {
     "name": "stdout",
     "output_type": "stream",
     "text": [
      "Time to read file: 1.4558734893798828\n",
      "Time to clip: 0.015666484832763672\n",
      "Now processing nz-primary-road-parcels\n"
     ]
    },
    {
     "name": "stderr",
     "output_type": "stream",
     "text": [
      "c:\\Users\\lalit\\anaconda3\\envs\\environment\\lib\\site-packages\\geopandas\\io\\file.py:608: UserWarning: You are attempting to write an empty DataFrame to file. For some drivers, this operation may fail.\n",
      "  _to_file_fiona(df, filename, driver, schema, crs, mode, **kwargs)\n"
     ]
    },
    {
     "name": "stdout",
     "output_type": "stream",
     "text": [
      "Time to read file: 98.54371881484985\n"
     ]
    },
    {
     "name": "stderr",
     "output_type": "stream",
     "text": [
      "c:\\Users\\lalit\\anaconda3\\envs\\environment\\lib\\site-packages\\geopandas\\io\\file.py:608: UserWarning: You are attempting to write an empty DataFrame to file. For some drivers, this operation may fail.\n",
      "  _to_file_fiona(df, filename, driver, schema, crs, mode, **kwargs)\n"
     ]
    },
    {
     "name": "stdout",
     "output_type": "stream",
     "text": [
      "Time to clip: 0.33359384536743164\n",
      "Now processing nz-rail-station-points-topo-150k\n",
      "Time to read file: 0.41604089736938477\n",
      "Time to clip: 0.0\n"
     ]
    },
    {
     "name": "stderr",
     "output_type": "stream",
     "text": [
      "c:\\Users\\lalit\\anaconda3\\envs\\environment\\lib\\site-packages\\geopandas\\io\\file.py:608: UserWarning: You are attempting to write an empty DataFrame to file. For some drivers, this operation may fail.\n",
      "  _to_file_fiona(df, filename, driver, schema, crs, mode, **kwargs)\n"
     ]
    },
    {
     "name": "stdout",
     "output_type": "stream",
     "text": [
      "Now processing nz-railway-centre-lines\n",
      "Time to read file: 0.39395666122436523\n",
      "Time to clip: 0.0\n",
      "Now processing nz-residential-area-polygons-topo-1250k\n"
     ]
    },
    {
     "name": "stderr",
     "output_type": "stream",
     "text": [
      "c:\\Users\\lalit\\anaconda3\\envs\\environment\\lib\\site-packages\\geopandas\\io\\file.py:608: UserWarning: You are attempting to write an empty DataFrame to file. For some drivers, this operation may fail.\n",
      "  _to_file_fiona(df, filename, driver, schema, crs, mode, **kwargs)\n"
     ]
    },
    {
     "name": "stdout",
     "output_type": "stream",
     "text": [
      "Time to read file: 0.2910923957824707\n",
      "Time to clip: 0.0\n",
      "Now processing nz-telephone-centrelines-topo-150k\n"
     ]
    },
    {
     "name": "stderr",
     "output_type": "stream",
     "text": [
      "c:\\Users\\lalit\\anaconda3\\envs\\environment\\lib\\site-packages\\geopandas\\io\\file.py:608: UserWarning: You are attempting to write an empty DataFrame to file. For some drivers, this operation may fail.\n",
      "  _to_file_fiona(df, filename, driver, schema, crs, mode, **kwargs)\n"
     ]
    },
    {
     "name": "stdout",
     "output_type": "stream",
     "text": [
      "Time to read file: 0.12209081649780273\n",
      "Time to clip: 0.0\n",
      "Now processing nz-track-centrelines-topo-150k\n"
     ]
    },
    {
     "name": "stderr",
     "output_type": "stream",
     "text": [
      "c:\\Users\\lalit\\anaconda3\\envs\\environment\\lib\\site-packages\\geopandas\\io\\file.py:608: UserWarning: You are attempting to write an empty DataFrame to file. For some drivers, this operation may fail.\n",
      "  _to_file_fiona(df, filename, driver, schema, crs, mode, **kwargs)\n"
     ]
    },
    {
     "name": "stdout",
     "output_type": "stream",
     "text": [
      "Time to read file: 22.920761346817017\n",
      "Time to clip: 0.09838461875915527\n",
      "Now processing nz-well-points-topo-150k\n",
      "Time to read file: 0.10055232048034668\n"
     ]
    },
    {
     "name": "stderr",
     "output_type": "stream",
     "text": [
      "c:\\Users\\lalit\\anaconda3\\envs\\environment\\lib\\site-packages\\geopandas\\io\\file.py:608: UserWarning: You are attempting to write an empty DataFrame to file. For some drivers, this operation may fail.\n",
      "  _to_file_fiona(df, filename, driver, schema, crs, mode, **kwargs)\n",
      "c:\\Users\\lalit\\anaconda3\\envs\\environment\\lib\\site-packages\\geopandas\\io\\file.py:608: UserWarning: You are attempting to write an empty DataFrame to file. For some drivers, this operation may fail.\n",
      "  _to_file_fiona(df, filename, driver, schema, crs, mode, **kwargs)\n"
     ]
    },
    {
     "name": "stdout",
     "output_type": "stream",
     "text": [
      "Time to clip: 0.0\n",
      "Now processing nz-windmill-points-topo-150k\n",
      "Time to read file: 0.17473959922790527\n",
      "Time to clip: 0.001999378204345703\n",
      "Now processing lucas-nz-land-use-map-1990-2008-2012-2016-v011\n"
     ]
    },
    {
     "name": "stderr",
     "output_type": "stream",
     "text": [
      "c:\\Users\\lalit\\anaconda3\\envs\\environment\\lib\\site-packages\\geopandas\\io\\file.py:608: UserWarning: You are attempting to write an empty DataFrame to file. For some drivers, this operation may fail.\n",
      "  _to_file_fiona(df, filename, driver, schema, crs, mode, **kwargs)\n"
     ]
    },
    {
     "name": "stdout",
     "output_type": "stream",
     "text": [
      "Time to read file: 434.4261837005615\n",
      "Time to clip: 1.6348981857299805\n"
     ]
    }
   ],
   "source": [
    "for row in tqdm(files.itertuples(index=False), total=len(files)):\n",
    "  print(f\"Now processing {row.filename}\")\n",
    "  start = time.time()\n",
    "  asset = gpd.read_file(row.filepath)#, engine=\"pyogrio\", use_arrow=True)\n",
    "  print(f\"Time to read file: {time.time() - start}\")\n",
    "  start = time.time()\n",
    "  clipped_asset = gpd.clip(asset, poly)\n",
    "  print(f\"Time to clip: {time.time() - start}\")\n",
    "  clipped_asset[\"affected_area\"] = clipped_asset.area\n",
    "  clipped_asset[\"affected_length\"] = clipped_asset.length\n",
    "  clipped_asset.to_file(\"JackettIsland_affected_assets.gpkg\", layer=row.filename, driver='GPKG')"
   ]
  },
  {
   "cell_type": "code",
   "execution_count": 6,
   "metadata": {},
   "outputs": [
    {
     "data": {
      "text/html": [
       "<pre>✔️ 0 ns (2024-10-03T12:34:25/2024-10-03T12:34:25)</pre>"
      ],
      "text/plain": [
       "<IPython.core.display.HTML object>"
      ]
     },
     "metadata": {},
     "output_type": "display_data"
    },
    {
     "ename": "AttributeError",
     "evalue": "module 'geopandas' has no attribute 'list_layers'",
     "output_type": "error",
     "traceback": [
      "\u001b[1;31m---------------------------------------------------------------------------\u001b[0m",
      "\u001b[1;31mAttributeError\u001b[0m                            Traceback (most recent call last)",
      "\u001b[1;32m~\\AppData\\Local\\Temp\\ipykernel_13344\\1494616106.py\u001b[0m in \u001b[0;36m<cell line: 1>\u001b[1;34m()\u001b[0m\n\u001b[1;32m----> 1\u001b[1;33m \u001b[0mgpd\u001b[0m\u001b[1;33m.\u001b[0m\u001b[0mlist_layers\u001b[0m\u001b[1;33m(\u001b[0m\u001b[1;34m\"JackettIsland_affected_assets.gpkg\"\u001b[0m\u001b[1;33m)\u001b[0m\u001b[1;33m\u001b[0m\u001b[1;33m\u001b[0m\u001b[0m\n\u001b[0m",
      "\u001b[1;31mAttributeError\u001b[0m: module 'geopandas' has no attribute 'list_layers'"
     ]
    }
   ],
   "source": [
    "gpd.list_layers(\"JackettIsland_affected_assets.gpkg\")"
   ]
  }
 ],
 "metadata": {
  "kernelspec": {
   "display_name": "Python 3",
   "language": "python",
   "name": "python3"
  },
  "language_info": {
   "codemirror_mode": {
    "name": "ipython",
    "version": 3
   },
   "file_extension": ".py",
   "mimetype": "text/x-python",
   "name": "python",
   "nbconvert_exporter": "python",
   "pygments_lexer": "ipython3",
   "version": "3.9.18"
  }
 },
 "nbformat": 4,
 "nbformat_minor": 2
}
