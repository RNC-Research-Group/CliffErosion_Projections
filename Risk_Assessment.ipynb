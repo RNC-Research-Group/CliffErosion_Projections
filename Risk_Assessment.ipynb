{
 "cells": [
  {
   "cell_type": "code",
   "execution_count": 1,
   "metadata": {},
   "outputs": [
    {
     "data": {
      "text/html": [
       "<pre>✔️ 636 ms (2024-11-29T16:52:59/2024-11-29T16:53:00)</pre>"
      ],
      "text/plain": [
       "<IPython.core.display.HTML object>"
      ]
     },
     "metadata": {},
     "output_type": "display_data"
    }
   ],
   "source": [
    "%load_ext autotime\n",
    "import pandas as pd\n",
    "import os\n",
    "import geopandas as gpd\n",
    "from glob import glob\n",
    "from shapely.validation import make_valid\n",
    "from tqdm.auto import tqdm\n",
    "import time\n",
    "pd.set_option(\"display.max_colwidth\", 100)"
   ]
  },
  {
   "cell_type": "code",
   "execution_count": 2,
   "metadata": {},
   "outputs": [
    {
     "data": {
      "text/html": [
       "<pre>✔️ 18.4 ms (2024-11-29T16:53:00/2024-11-29T16:53:00)</pre>"
      ],
      "text/plain": [
       "<IPython.core.display.HTML object>"
      ]
     },
     "metadata": {},
     "output_type": "display_data"
    },
    {
     "data": {
      "text/html": [
       "<div>\n",
       "<style scoped>\n",
       "    .dataframe tbody tr th:only-of-type {\n",
       "        vertical-align: middle;\n",
       "    }\n",
       "\n",
       "    .dataframe tbody tr th {\n",
       "        vertical-align: top;\n",
       "    }\n",
       "\n",
       "    .dataframe thead th {\n",
       "        text-align: right;\n",
       "    }\n",
       "</style>\n",
       "<table border=\"1\" class=\"dataframe\">\n",
       "  <thead>\n",
       "    <tr style=\"text-align: right;\">\n",
       "      <th></th>\n",
       "      <th>filepath</th>\n",
       "      <th>filename</th>\n",
       "      <th>filesize_GB</th>\n",
       "    </tr>\n",
       "  </thead>\n",
       "  <tbody>\n",
       "    <tr>\n",
       "      <th>0</th>\n",
       "      <td>Asset Directory/LUCAS NZ Land Use/lucas-nz-land-use-map-1990-2008-2012-2016-v011.shp</td>\n",
       "      <td>lucas-nz-land-use-map-1990-2008-2012-2016-v011</td>\n",
       "      <td>1.435426</td>\n",
       "    </tr>\n",
       "    <tr>\n",
       "      <th>1</th>\n",
       "      <td>Asset Directory/Koordinate/smap-soil-drainage-dec-2023/smap-soil-drainage-dec-2023.shp</td>\n",
       "      <td>smap-soil-drainage-dec-2023</td>\n",
       "      <td>0.699233</td>\n",
       "    </tr>\n",
       "    <tr>\n",
       "      <th>2</th>\n",
       "      <td>Asset Directory/lds-new-zealand-17layers-SHP/nz-building-outlines/nz-building-outlines.shp</td>\n",
       "      <td>nz-building-outlines</td>\n",
       "      <td>0.636510</td>\n",
       "    </tr>\n",
       "    <tr>\n",
       "      <th>3</th>\n",
       "      <td>Asset Directory/lris-fsl-soil-drainage-class-SHP/fsl-soil-drainage-class.shp</td>\n",
       "      <td>fsl-soil-drainage-class</td>\n",
       "      <td>0.164699</td>\n",
       "    </tr>\n",
       "    <tr>\n",
       "      <th>4</th>\n",
       "      <td>Asset Directory/Koordinate/nzlri-land-use-capability-2021/nzlri-land-use-capability-2021.shp</td>\n",
       "      <td>nzlri-land-use-capability-2021</td>\n",
       "      <td>0.164578</td>\n",
       "    </tr>\n",
       "    <tr>\n",
       "      <th>5</th>\n",
       "      <td>Asset Directory/DOC/DOC_Public_Conservation_Land.shp</td>\n",
       "      <td>DOC_Public_Conservation_Land</td>\n",
       "      <td>0.139802</td>\n",
       "    </tr>\n",
       "    <tr>\n",
       "      <th>6</th>\n",
       "      <td>Asset Directory/Koordinate/protected-areas/protected-areas.shp</td>\n",
       "      <td>protected-areas</td>\n",
       "      <td>0.134675</td>\n",
       "    </tr>\n",
       "    <tr>\n",
       "      <th>7</th>\n",
       "      <td>Asset Directory/NationalRoadCentrelineDataset/roads.shp</td>\n",
       "      <td>roads</td>\n",
       "      <td>0.130881</td>\n",
       "    </tr>\n",
       "    <tr>\n",
       "      <th>8</th>\n",
       "      <td>Asset Directory/lds-new-zealand-17layers-SHP/nz-road-centrelines-topo-150k.shp</td>\n",
       "      <td>nz-road-centrelines-topo-150k</td>\n",
       "      <td>0.116422</td>\n",
       "    </tr>\n",
       "    <tr>\n",
       "      <th>9</th>\n",
       "      <td>Asset Directory/lds-new-zealand-17layers-SHP/nz-track-centrelines-topo-150k/nz-track-centrelines...</td>\n",
       "      <td>nz-track-centrelines-topo-150k</td>\n",
       "      <td>0.074558</td>\n",
       "    </tr>\n",
       "    <tr>\n",
       "      <th>10</th>\n",
       "      <td>Asset Directory/lds-new-zealand-17layers-SHP/linz-managed-crown-property/linz-managed-crown-prop...</td>\n",
       "      <td>linz-managed-crown-property</td>\n",
       "      <td>0.041728</td>\n",
       "    </tr>\n",
       "    <tr>\n",
       "      <th>11</th>\n",
       "      <td>Asset Directory/Koordinate/nz-walking-and-biking-tracks/nz-walking-and-biking-tracks.shp</td>\n",
       "      <td>nz-walking-and-biking-tracks</td>\n",
       "      <td>0.038141</td>\n",
       "    </tr>\n",
       "    <tr>\n",
       "      <th>12</th>\n",
       "      <td>Asset Directory/lds-new-zealand-17layers-SHP/nz-drain-centrelines-topo-150k/nz-drain-centrelines...</td>\n",
       "      <td>nz-drain-centrelines-topo-150k</td>\n",
       "      <td>0.006491</td>\n",
       "    </tr>\n",
       "    <tr>\n",
       "      <th>13</th>\n",
       "      <td>Asset Directory/DOC/Internationally_Recognised_Areas.shp</td>\n",
       "      <td>Internationally_Recognised_Areas</td>\n",
       "      <td>0.004694</td>\n",
       "    </tr>\n",
       "    <tr>\n",
       "      <th>14</th>\n",
       "      <td>Asset Directory/DOC/Covenant_Areas.shp</td>\n",
       "      <td>Covenant_Areas</td>\n",
       "      <td>0.003984</td>\n",
       "    </tr>\n",
       "    <tr>\n",
       "      <th>15</th>\n",
       "      <td>Asset Directory/lds-new-zealand-17layers-SHP/nz-geodetic-marks/nz-geodetic-marks.shp</td>\n",
       "      <td>nz-geodetic-marks</td>\n",
       "      <td>0.003710</td>\n",
       "    </tr>\n",
       "    <tr>\n",
       "      <th>16</th>\n",
       "      <td>Asset Directory/KiwiRailTrack.zip</td>\n",
       "      <td>KiwiRailTrack</td>\n",
       "      <td>0.003440</td>\n",
       "    </tr>\n",
       "    <tr>\n",
       "      <th>17</th>\n",
       "      <td>Asset Directory/DOC/DOC_Sanctuaries_to_Protect_Marine_Mammals.shp</td>\n",
       "      <td>DOC_Sanctuaries_to_Protect_Marine_Mammals</td>\n",
       "      <td>0.003158</td>\n",
       "    </tr>\n",
       "    <tr>\n",
       "      <th>18</th>\n",
       "      <td>Asset Directory/DOC/Ecological_Districts.shp</td>\n",
       "      <td>Ecological_Districts</td>\n",
       "      <td>0.002513</td>\n",
       "    </tr>\n",
       "    <tr>\n",
       "      <th>19</th>\n",
       "      <td>Asset Directory/DOC/DOC_Marine_Reserves.shp</td>\n",
       "      <td>DOC_Marine_Reserves</td>\n",
       "      <td>0.001981</td>\n",
       "    </tr>\n",
       "    <tr>\n",
       "      <th>20</th>\n",
       "      <td>Asset Directory/lds-new-zealand-17layers-SHP/nz-powerline-centrelines-topo-150k/nz-powerline-cen...</td>\n",
       "      <td>nz-powerline-centrelines-topo-150k</td>\n",
       "      <td>0.001789</td>\n",
       "    </tr>\n",
       "    <tr>\n",
       "      <th>21</th>\n",
       "      <td>Asset Directory/lds-new-zealand-17layers-SHP/nz-railway-centre-lines/nz-railway-centre-lines.shp</td>\n",
       "      <td>nz-railway-centre-lines</td>\n",
       "      <td>0.001587</td>\n",
       "    </tr>\n",
       "    <tr>\n",
       "      <th>22</th>\n",
       "      <td>Asset Directory/lds-new-zealand-17layers-SHP/nz-facilities/nz-facilities.shp</td>\n",
       "      <td>nz-facilities</td>\n",
       "      <td>0.000758</td>\n",
       "    </tr>\n",
       "    <tr>\n",
       "      <th>23</th>\n",
       "      <td>Asset Directory/Transpower Transmission Lines.zip</td>\n",
       "      <td>Transpower Transmission Lines</td>\n",
       "      <td>0.000558</td>\n",
       "    </tr>\n",
       "    <tr>\n",
       "      <th>24</th>\n",
       "      <td>Asset Directory/lds-new-zealand-17layers-SHP/nz-residential-area-polygons-topo-1250k/nz-resident...</td>\n",
       "      <td>nz-residential-area-polygons-topo-1250k</td>\n",
       "      <td>0.000555</td>\n",
       "    </tr>\n",
       "    <tr>\n",
       "      <th>25</th>\n",
       "      <td>Asset Directory/zone_substations.gpkg</td>\n",
       "      <td>zone_substations</td>\n",
       "      <td>0.000254</td>\n",
       "    </tr>\n",
       "    <tr>\n",
       "      <th>26</th>\n",
       "      <td>Asset Directory/Water and Wastewater/wwtp.gpkg</td>\n",
       "      <td>wwtp</td>\n",
       "      <td>0.000209</td>\n",
       "    </tr>\n",
       "    <tr>\n",
       "      <th>27</th>\n",
       "      <td>Asset Directory/Water and Wastewater/wtp.gpkg</td>\n",
       "      <td>wtp</td>\n",
       "      <td>0.000156</td>\n",
       "    </tr>\n",
       "    <tr>\n",
       "      <th>28</th>\n",
       "      <td>Asset Directory/CAA NZ_Aerodromes.geojson</td>\n",
       "      <td>CAA NZ_Aerodromes</td>\n",
       "      <td>0.000152</td>\n",
       "    </tr>\n",
       "    <tr>\n",
       "      <th>29</th>\n",
       "      <td>Asset Directory/lds-new-zealand-17layers-SHP/nz-airport-polygons-topo-150k/nz-airport-polygons-t...</td>\n",
       "      <td>nz-airport-polygons-topo-150k</td>\n",
       "      <td>0.000086</td>\n",
       "    </tr>\n",
       "    <tr>\n",
       "      <th>30</th>\n",
       "      <td>Asset Directory/lds-new-zealand-17layers-SHP/nz-cemetery-polygons-topo-150k/nz-cemetery-polygons...</td>\n",
       "      <td>nz-cemetery-polygons-topo-150k</td>\n",
       "      <td>0.000071</td>\n",
       "    </tr>\n",
       "    <tr>\n",
       "      <th>31</th>\n",
       "      <td>Asset Directory/lds-new-zealand-17layers-SHP/nz-telephone-centrelines-topo-150k/nz-telephone-cen...</td>\n",
       "      <td>nz-telephone-centrelines-topo-150k</td>\n",
       "      <td>0.000062</td>\n",
       "    </tr>\n",
       "    <tr>\n",
       "      <th>32</th>\n",
       "      <td>Asset Directory/lds-new-zealand-17layers-SHP/nz-pa-points-topo-150k/nz-pa-points-topo-150k.shp</td>\n",
       "      <td>nz-pa-points-topo-150k</td>\n",
       "      <td>0.000060</td>\n",
       "    </tr>\n",
       "    <tr>\n",
       "      <th>33</th>\n",
       "      <td>Asset Directory/lds-new-zealand-17layers-SHP/nz-windmill-points-topo-150k/nz-windmill-points-top...</td>\n",
       "      <td>nz-windmill-points-topo-150k</td>\n",
       "      <td>0.000022</td>\n",
       "    </tr>\n",
       "    <tr>\n",
       "      <th>34</th>\n",
       "      <td>Asset Directory/lds-new-zealand-17layers-SHP/nz-monument-points-topo-150k/nz-monument-points-top...</td>\n",
       "      <td>nz-monument-points-topo-150k</td>\n",
       "      <td>0.000008</td>\n",
       "    </tr>\n",
       "    <tr>\n",
       "      <th>35</th>\n",
       "      <td>Asset Directory/DOC/DOC_Campsites.shp</td>\n",
       "      <td>DOC_Campsites</td>\n",
       "      <td>0.000008</td>\n",
       "    </tr>\n",
       "    <tr>\n",
       "      <th>36</th>\n",
       "      <td>Asset Directory/lds-new-zealand-17layers-SHP/nz-historic-site-points-topo-150k/nz-historic-site-...</td>\n",
       "      <td>nz-historic-site-points-topo-150k</td>\n",
       "      <td>0.000007</td>\n",
       "    </tr>\n",
       "    <tr>\n",
       "      <th>37</th>\n",
       "      <td>Asset Directory/lds-new-zealand-17layers-SHP/nz-rail-station-points-topo-150k/nz-rail-station-po...</td>\n",
       "      <td>nz-rail-station-points-topo-150k</td>\n",
       "      <td>0.000005</td>\n",
       "    </tr>\n",
       "    <tr>\n",
       "      <th>38</th>\n",
       "      <td>Asset Directory/Generation/generation_NZ.shp</td>\n",
       "      <td>generation_NZ</td>\n",
       "      <td>0.000004</td>\n",
       "    </tr>\n",
       "    <tr>\n",
       "      <th>39</th>\n",
       "      <td>Asset Directory/DOC/DOC_Offices.shp</td>\n",
       "      <td>DOC_Offices</td>\n",
       "      <td>0.000003</td>\n",
       "    </tr>\n",
       "    <tr>\n",
       "      <th>40</th>\n",
       "      <td>Asset Directory/lds-new-zealand-17layers-SHP/nz-well-points-topo-150k/nz-well-points-topo-150k.shp</td>\n",
       "      <td>nz-well-points-topo-150k</td>\n",
       "      <td>0.000003</td>\n",
       "    </tr>\n",
       "    <tr>\n",
       "      <th>41</th>\n",
       "      <td>Asset Directory/lds-new-zealand-17layers-SHP/nz-gas-valve-points-topo-150k/nz-gas-valve-points-t...</td>\n",
       "      <td>nz-gas-valve-points-topo-150k</td>\n",
       "      <td>0.000002</td>\n",
       "    </tr>\n",
       "  </tbody>\n",
       "</table>\n",
       "</div>"
      ],
      "text/plain": [
       "                                                                                               filepath  \\\n",
       "0                  Asset Directory/LUCAS NZ Land Use/lucas-nz-land-use-map-1990-2008-2012-2016-v011.shp   \n",
       "1                Asset Directory/Koordinate/smap-soil-drainage-dec-2023/smap-soil-drainage-dec-2023.shp   \n",
       "2            Asset Directory/lds-new-zealand-17layers-SHP/nz-building-outlines/nz-building-outlines.shp   \n",
       "3                          Asset Directory/lris-fsl-soil-drainage-class-SHP/fsl-soil-drainage-class.shp   \n",
       "4          Asset Directory/Koordinate/nzlri-land-use-capability-2021/nzlri-land-use-capability-2021.shp   \n",
       "5                                                  Asset Directory/DOC/DOC_Public_Conservation_Land.shp   \n",
       "6                                        Asset Directory/Koordinate/protected-areas/protected-areas.shp   \n",
       "7                                               Asset Directory/NationalRoadCentrelineDataset/roads.shp   \n",
       "8                        Asset Directory/lds-new-zealand-17layers-SHP/nz-road-centrelines-topo-150k.shp   \n",
       "9   Asset Directory/lds-new-zealand-17layers-SHP/nz-track-centrelines-topo-150k/nz-track-centrelines...   \n",
       "10  Asset Directory/lds-new-zealand-17layers-SHP/linz-managed-crown-property/linz-managed-crown-prop...   \n",
       "11             Asset Directory/Koordinate/nz-walking-and-biking-tracks/nz-walking-and-biking-tracks.shp   \n",
       "12  Asset Directory/lds-new-zealand-17layers-SHP/nz-drain-centrelines-topo-150k/nz-drain-centrelines...   \n",
       "13                                             Asset Directory/DOC/Internationally_Recognised_Areas.shp   \n",
       "14                                                               Asset Directory/DOC/Covenant_Areas.shp   \n",
       "15                 Asset Directory/lds-new-zealand-17layers-SHP/nz-geodetic-marks/nz-geodetic-marks.shp   \n",
       "16                                                                    Asset Directory/KiwiRailTrack.zip   \n",
       "17                                    Asset Directory/DOC/DOC_Sanctuaries_to_Protect_Marine_Mammals.shp   \n",
       "18                                                         Asset Directory/DOC/Ecological_Districts.shp   \n",
       "19                                                          Asset Directory/DOC/DOC_Marine_Reserves.shp   \n",
       "20  Asset Directory/lds-new-zealand-17layers-SHP/nz-powerline-centrelines-topo-150k/nz-powerline-cen...   \n",
       "21     Asset Directory/lds-new-zealand-17layers-SHP/nz-railway-centre-lines/nz-railway-centre-lines.shp   \n",
       "22                         Asset Directory/lds-new-zealand-17layers-SHP/nz-facilities/nz-facilities.shp   \n",
       "23                                                    Asset Directory/Transpower Transmission Lines.zip   \n",
       "24  Asset Directory/lds-new-zealand-17layers-SHP/nz-residential-area-polygons-topo-1250k/nz-resident...   \n",
       "25                                                                Asset Directory/zone_substations.gpkg   \n",
       "26                                                       Asset Directory/Water and Wastewater/wwtp.gpkg   \n",
       "27                                                        Asset Directory/Water and Wastewater/wtp.gpkg   \n",
       "28                                                            Asset Directory/CAA NZ_Aerodromes.geojson   \n",
       "29  Asset Directory/lds-new-zealand-17layers-SHP/nz-airport-polygons-topo-150k/nz-airport-polygons-t...   \n",
       "30  Asset Directory/lds-new-zealand-17layers-SHP/nz-cemetery-polygons-topo-150k/nz-cemetery-polygons...   \n",
       "31  Asset Directory/lds-new-zealand-17layers-SHP/nz-telephone-centrelines-topo-150k/nz-telephone-cen...   \n",
       "32       Asset Directory/lds-new-zealand-17layers-SHP/nz-pa-points-topo-150k/nz-pa-points-topo-150k.shp   \n",
       "33  Asset Directory/lds-new-zealand-17layers-SHP/nz-windmill-points-topo-150k/nz-windmill-points-top...   \n",
       "34  Asset Directory/lds-new-zealand-17layers-SHP/nz-monument-points-topo-150k/nz-monument-points-top...   \n",
       "35                                                                Asset Directory/DOC/DOC_Campsites.shp   \n",
       "36  Asset Directory/lds-new-zealand-17layers-SHP/nz-historic-site-points-topo-150k/nz-historic-site-...   \n",
       "37  Asset Directory/lds-new-zealand-17layers-SHP/nz-rail-station-points-topo-150k/nz-rail-station-po...   \n",
       "38                                                         Asset Directory/Generation/generation_NZ.shp   \n",
       "39                                                                  Asset Directory/DOC/DOC_Offices.shp   \n",
       "40   Asset Directory/lds-new-zealand-17layers-SHP/nz-well-points-topo-150k/nz-well-points-topo-150k.shp   \n",
       "41  Asset Directory/lds-new-zealand-17layers-SHP/nz-gas-valve-points-topo-150k/nz-gas-valve-points-t...   \n",
       "\n",
       "                                          filename  filesize_GB  \n",
       "0   lucas-nz-land-use-map-1990-2008-2012-2016-v011     1.435426  \n",
       "1                      smap-soil-drainage-dec-2023     0.699233  \n",
       "2                             nz-building-outlines     0.636510  \n",
       "3                          fsl-soil-drainage-class     0.164699  \n",
       "4                   nzlri-land-use-capability-2021     0.164578  \n",
       "5                     DOC_Public_Conservation_Land     0.139802  \n",
       "6                                  protected-areas     0.134675  \n",
       "7                                            roads     0.130881  \n",
       "8                    nz-road-centrelines-topo-150k     0.116422  \n",
       "9                   nz-track-centrelines-topo-150k     0.074558  \n",
       "10                     linz-managed-crown-property     0.041728  \n",
       "11                    nz-walking-and-biking-tracks     0.038141  \n",
       "12                  nz-drain-centrelines-topo-150k     0.006491  \n",
       "13                Internationally_Recognised_Areas     0.004694  \n",
       "14                                  Covenant_Areas     0.003984  \n",
       "15                               nz-geodetic-marks     0.003710  \n",
       "16                                   KiwiRailTrack     0.003440  \n",
       "17       DOC_Sanctuaries_to_Protect_Marine_Mammals     0.003158  \n",
       "18                            Ecological_Districts     0.002513  \n",
       "19                             DOC_Marine_Reserves     0.001981  \n",
       "20              nz-powerline-centrelines-topo-150k     0.001789  \n",
       "21                         nz-railway-centre-lines     0.001587  \n",
       "22                                   nz-facilities     0.000758  \n",
       "23                   Transpower Transmission Lines     0.000558  \n",
       "24         nz-residential-area-polygons-topo-1250k     0.000555  \n",
       "25                                zone_substations     0.000254  \n",
       "26                                            wwtp     0.000209  \n",
       "27                                             wtp     0.000156  \n",
       "28                               CAA NZ_Aerodromes     0.000152  \n",
       "29                   nz-airport-polygons-topo-150k     0.000086  \n",
       "30                  nz-cemetery-polygons-topo-150k     0.000071  \n",
       "31              nz-telephone-centrelines-topo-150k     0.000062  \n",
       "32                          nz-pa-points-topo-150k     0.000060  \n",
       "33                    nz-windmill-points-topo-150k     0.000022  \n",
       "34                    nz-monument-points-topo-150k     0.000008  \n",
       "35                                   DOC_Campsites     0.000008  \n",
       "36               nz-historic-site-points-topo-150k     0.000007  \n",
       "37                nz-rail-station-points-topo-150k     0.000005  \n",
       "38                                   generation_NZ     0.000004  \n",
       "39                                     DOC_Offices     0.000003  \n",
       "40                        nz-well-points-topo-150k     0.000003  \n",
       "41                   nz-gas-valve-points-topo-150k     0.000002  "
      ]
     },
     "execution_count": 2,
     "metadata": {},
     "output_type": "execute_result"
    }
   ],
   "source": [
    "files = pd.DataFrame({\"filepath\": glob(\"Asset Directory/**\", recursive=True)})\n",
    "files = files[files[\"filepath\"].str.endswith((\".shp\", \".zip\", \".gpkg\", \".geojson\"))]\n",
    "files[\"filename\"] = files[\"filepath\"].apply(lambda x: os.path.splitext(os.path.basename(x))[0])\n",
    "files[\"filesize_GB\"] = files[\"filepath\"].apply(lambda x: os.path.getsize(x) / 1e9)\n",
    "files.sort_values(\"filesize_GB\", ascending=False).reset_index(drop=True)"
   ]
  },
  {
   "cell_type": "code",
   "execution_count": 3,
   "metadata": {},
   "outputs": [
    {
     "data": {
      "text/html": [
       "<pre>✔️ 8.39 s (2024-11-29T16:53:00/2024-11-29T16:53:09)</pre>"
      ],
      "text/plain": [
       "<IPython.core.display.HTML object>"
      ]
     },
     "metadata": {},
     "output_type": "display_data"
    },
    {
     "data": {
      "application/vnd.jupyter.widget-view+json": {
       "model_id": "ddf64c0f55ce4898afa41ff64d7bdd74",
       "version_major": 2,
       "version_minor": 0
      },
      "text/plain": [
       "  0%|          | 0/6 [00:00<?, ?it/s]"
      ]
     },
     "metadata": {},
     "output_type": "display_data"
    }
   ],
   "source": [
    "polys = []\n",
    "for f in tqdm(glob(\"Projections/*_polygon.shp\")):\n",
    "  df = gpd.read_file(f)\n",
    "  df.geometry = df.geometry.apply(make_valid)\n",
    "  polys.append(df.union_all())"
   ]
  },
  {
   "cell_type": "code",
   "execution_count": 4,
   "metadata": {},
   "outputs": [
    {
     "data": {
      "text/html": [
       "<pre>✔️ 7 min 8 s (2024-11-29T16:53:09/2024-11-29T17:00:17)</pre>"
      ],
      "text/plain": [
       "<IPython.core.display.HTML object>"
      ]
     },
     "metadata": {},
     "output_type": "display_data"
    },
    {
     "data": {
      "application/vnd.jupyter.widget-view+json": {
       "model_id": "6b3b2ce97b0a4f41ab18edbb4f95bf82",
       "version_major": 2,
       "version_minor": 0
      },
      "text/plain": [
       "  0%|          | 0/42 [00:00<?, ?it/s]"
      ]
     },
     "metadata": {},
     "output_type": "display_data"
    },
    {
     "name": "stdout",
     "output_type": "stream",
     "text": [
      "Now processing wtp\n",
      "Time to read file: 0.013204097747802734\n"
     ]
    },
    {
     "data": {
      "application/vnd.jupyter.widget-view+json": {
       "model_id": "0a23cae1518c40e1ae1f250342f55e9e",
       "version_major": 2,
       "version_minor": 0
      },
      "text/plain": [
       "  0%|          | 0/6 [00:00<?, ?it/s]"
      ]
     },
     "metadata": {},
     "output_type": "display_data"
    },
    {
     "name": "stdout",
     "output_type": "stream",
     "text": [
      "Time to clip: 0.06435036659240723\n",
      "No intersection for wtp\n",
      "Now processing wwtp\n",
      "Time to read file: 0.016733407974243164\n"
     ]
    },
    {
     "data": {
      "application/vnd.jupyter.widget-view+json": {
       "model_id": "47d05e9adab54eaba3728a9c47febfcb",
       "version_major": 2,
       "version_minor": 0
      },
      "text/plain": [
       "  0%|          | 0/6 [00:00<?, ?it/s]"
      ]
     },
     "metadata": {},
     "output_type": "display_data"
    },
    {
     "name": "stdout",
     "output_type": "stream",
     "text": [
      "Time to clip: 0.05875706672668457\n",
      "No intersection for wwtp\n",
      "Now processing generation_NZ\n",
      "Time to read file: 0.03314995765686035\n"
     ]
    },
    {
     "data": {
      "application/vnd.jupyter.widget-view+json": {
       "model_id": "a08fd4479f1c417ab5bf5cf023cd5401",
       "version_major": 2,
       "version_minor": 0
      },
      "text/plain": [
       "  0%|          | 0/6 [00:00<?, ?it/s]"
      ]
     },
     "metadata": {},
     "output_type": "display_data"
    },
    {
     "name": "stdout",
     "output_type": "stream",
     "text": [
      "Time to clip: 0.020328283309936523\n",
      "No intersection for generation_NZ\n",
      "Now processing fsl-soil-drainage-class\n",
      "Time to read file: 1.4611835479736328\n"
     ]
    },
    {
     "data": {
      "application/vnd.jupyter.widget-view+json": {
       "model_id": "656c0550eea8424f8109524fcb3de185",
       "version_major": 2,
       "version_minor": 0
      },
      "text/plain": [
       "  0%|          | 0/6 [00:00<?, ?it/s]"
      ]
     },
     "metadata": {},
     "output_type": "display_data"
    },
    {
     "name": "stdout",
     "output_type": "stream",
     "text": [
      "Time to clip: 12.097550630569458\n",
      "Now processing lucas-nz-land-use-map-1990-2008-2012-2016-v011\n",
      "Time to read file: 20.970423936843872\n"
     ]
    },
    {
     "data": {
      "application/vnd.jupyter.widget-view+json": {
       "model_id": "9f763ecff6de4058b24e81a845ccf042",
       "version_major": 2,
       "version_minor": 0
      },
      "text/plain": [
       "  0%|          | 0/6 [00:00<?, ?it/s]"
      ]
     },
     "metadata": {},
     "output_type": "display_data"
    },
    {
     "name": "stdout",
     "output_type": "stream",
     "text": [
      "Time to clip: 63.75152540206909\n",
      "Now processing nz-railway-centre-lines\n",
      "Time to read file: 0.7124054431915283\n"
     ]
    },
    {
     "data": {
      "application/vnd.jupyter.widget-view+json": {
       "model_id": "f2d032683b4e471ba40e96958345bf17",
       "version_major": 2,
       "version_minor": 0
      },
      "text/plain": [
       "  0%|          | 0/6 [00:00<?, ?it/s]"
      ]
     },
     "metadata": {},
     "output_type": "display_data"
    },
    {
     "name": "stdout",
     "output_type": "stream",
     "text": [
      "Time to clip: 0.4053514003753662\n",
      "Now processing nz-monument-points-topo-150k\n",
      "Time to read file: 0.01467442512512207\n"
     ]
    },
    {
     "data": {
      "application/vnd.jupyter.widget-view+json": {
       "model_id": "606a23d129354a7a84fb1dad05fddb8e",
       "version_major": 2,
       "version_minor": 0
      },
      "text/plain": [
       "  0%|          | 0/6 [00:00<?, ?it/s]"
      ]
     },
     "metadata": {},
     "output_type": "display_data"
    },
    {
     "name": "stdout",
     "output_type": "stream",
     "text": [
      "Time to clip: 0.06416010856628418\n",
      "Now processing nz-track-centrelines-topo-150k\n",
      "Time to read file: 0.5883979797363281\n"
     ]
    },
    {
     "data": {
      "application/vnd.jupyter.widget-view+json": {
       "model_id": "bca85f44784341988f426f09e6dfce07",
       "version_major": 2,
       "version_minor": 0
      },
      "text/plain": [
       "  0%|          | 0/6 [00:00<?, ?it/s]"
      ]
     },
     "metadata": {},
     "output_type": "display_data"
    },
    {
     "name": "stdout",
     "output_type": "stream",
     "text": [
      "Time to clip: 1.4606459140777588\n",
      "Now processing linz-managed-crown-property\n",
      "Time to read file: 0.21620774269104004\n"
     ]
    },
    {
     "data": {
      "application/vnd.jupyter.widget-view+json": {
       "model_id": "5d53fe57ff184e16aa90603090b58a08",
       "version_major": 2,
       "version_minor": 0
      },
      "text/plain": [
       "  0%|          | 0/6 [00:00<?, ?it/s]"
      ]
     },
     "metadata": {},
     "output_type": "display_data"
    },
    {
     "name": "stdout",
     "output_type": "stream",
     "text": [
      "Time to clip: 1.0152344703674316\n",
      "Now processing nz-drain-centrelines-topo-150k\n",
      "Time to read file: 0.16248798370361328\n"
     ]
    },
    {
     "data": {
      "application/vnd.jupyter.widget-view+json": {
       "model_id": "55c02a4a07b043fbb8f3b2c5c80bcf7a",
       "version_major": 2,
       "version_minor": 0
      },
      "text/plain": [
       "  0%|          | 0/6 [00:00<?, ?it/s]"
      ]
     },
     "metadata": {},
     "output_type": "display_data"
    },
    {
     "name": "stdout",
     "output_type": "stream",
     "text": [
      "Time to clip: 0.7009332180023193\n",
      "Now processing nz-rail-station-points-topo-150k\n",
      "Time to read file: 0.019617319107055664\n"
     ]
    },
    {
     "data": {
      "application/vnd.jupyter.widget-view+json": {
       "model_id": "958cd708bd5649c1898a80c193c0d4c1",
       "version_major": 2,
       "version_minor": 0
      },
      "text/plain": [
       "  0%|          | 0/6 [00:00<?, ?it/s]"
      ]
     },
     "metadata": {},
     "output_type": "display_data"
    },
    {
     "name": "stdout",
     "output_type": "stream",
     "text": [
      "Time to clip: 0.04840898513793945\n",
      "No intersection for nz-rail-station-points-topo-150k\n",
      "Now processing nz-telephone-centrelines-topo-150k\n",
      "Time to read file: 0.010326385498046875\n"
     ]
    },
    {
     "data": {
      "application/vnd.jupyter.widget-view+json": {
       "model_id": "041dc3f9fb8348d6a4c7057bba812888",
       "version_major": 2,
       "version_minor": 0
      },
      "text/plain": [
       "  0%|          | 0/6 [00:00<?, ?it/s]"
      ]
     },
     "metadata": {},
     "output_type": "display_data"
    },
    {
     "name": "stdout",
     "output_type": "stream",
     "text": [
      "Time to clip: 0.08869576454162598\n",
      "No intersection for nz-telephone-centrelines-topo-150k\n",
      "Now processing nz-facilities\n",
      "Time to read file: 0.04053831100463867\n"
     ]
    },
    {
     "data": {
      "application/vnd.jupyter.widget-view+json": {
       "model_id": "c7ec289cd4ba42e6850b62c95c93a7f2",
       "version_major": 2,
       "version_minor": 0
      },
      "text/plain": [
       "  0%|          | 0/6 [00:00<?, ?it/s]"
      ]
     },
     "metadata": {},
     "output_type": "display_data"
    },
    {
     "name": "stdout",
     "output_type": "stream",
     "text": [
      "Time to clip: 0.22593402862548828\n",
      "Now processing nz-road-centrelines-topo-150k\n",
      "Time to read file: 1.2151381969451904\n"
     ]
    },
    {
     "data": {
      "application/vnd.jupyter.widget-view+json": {
       "model_id": "e98d074550ee49a4a606256ad9f92132",
       "version_major": 2,
       "version_minor": 0
      },
      "text/plain": [
       "  0%|          | 0/6 [00:00<?, ?it/s]"
      ]
     },
     "metadata": {},
     "output_type": "display_data"
    },
    {
     "name": "stdout",
     "output_type": "stream",
     "text": [
      "Time to clip: 1.6613290309906006\n",
      "Now processing nz-windmill-points-topo-150k\n",
      "Time to read file: 0.0690619945526123\n"
     ]
    },
    {
     "data": {
      "application/vnd.jupyter.widget-view+json": {
       "model_id": "aeab988784ad446b85053c1d4e5a9313",
       "version_major": 2,
       "version_minor": 0
      },
      "text/plain": [
       "  0%|          | 0/6 [00:00<?, ?it/s]"
      ]
     },
     "metadata": {},
     "output_type": "display_data"
    },
    {
     "name": "stdout",
     "output_type": "stream",
     "text": [
      "Time to clip: 0.050069332122802734\n",
      "No intersection for nz-windmill-points-topo-150k\n",
      "Now processing nz-powerline-centrelines-topo-150k\n",
      "Time to read file: 0.0407414436340332\n"
     ]
    },
    {
     "data": {
      "application/vnd.jupyter.widget-view+json": {
       "model_id": "40723f879d344adcb70589756932bd89",
       "version_major": 2,
       "version_minor": 0
      },
      "text/plain": [
       "  0%|          | 0/6 [00:00<?, ?it/s]"
      ]
     },
     "metadata": {},
     "output_type": "display_data"
    },
    {
     "name": "stdout",
     "output_type": "stream",
     "text": [
      "Time to clip: 0.12376189231872559\n",
      "Now processing nz-well-points-topo-150k\n",
      "Time to read file: 0.010604619979858398\n"
     ]
    },
    {
     "data": {
      "application/vnd.jupyter.widget-view+json": {
       "model_id": "4105a05fdf6c4990a8605e69267ee2d9",
       "version_major": 2,
       "version_minor": 0
      },
      "text/plain": [
       "  0%|          | 0/6 [00:00<?, ?it/s]"
      ]
     },
     "metadata": {},
     "output_type": "display_data"
    },
    {
     "name": "stdout",
     "output_type": "stream",
     "text": [
      "Time to clip: 0.04877805709838867\n",
      "No intersection for nz-well-points-topo-150k\n",
      "Now processing nz-building-outlines\n",
      "Time to read file: 52.803967237472534\n"
     ]
    },
    {
     "data": {
      "application/vnd.jupyter.widget-view+json": {
       "model_id": "cd7ea40a43a243cd8515ebdf93d79afa",
       "version_major": 2,
       "version_minor": 0
      },
      "text/plain": [
       "  0%|          | 0/6 [00:00<?, ?it/s]"
      ]
     },
     "metadata": {},
     "output_type": "display_data"
    },
    {
     "name": "stdout",
     "output_type": "stream",
     "text": [
      "Time to clip: 182.74533247947693\n",
      "Now processing nz-geodetic-marks\n",
      "Time to read file: 2.911104440689087\n"
     ]
    },
    {
     "data": {
      "application/vnd.jupyter.widget-view+json": {
       "model_id": "d797575980bb4520982157542aa25e94",
       "version_major": 2,
       "version_minor": 0
      },
      "text/plain": [
       "  0%|          | 0/6 [00:00<?, ?it/s]"
      ]
     },
     "metadata": {},
     "output_type": "display_data"
    },
    {
     "name": "stdout",
     "output_type": "stream",
     "text": [
      "Time to clip: 0.230255126953125\n",
      "Now processing nz-cemetery-polygons-topo-150k\n",
      "Time to read file: 0.06600713729858398\n"
     ]
    },
    {
     "data": {
      "application/vnd.jupyter.widget-view+json": {
       "model_id": "a5178451dce9400886844c94845d71d0",
       "version_major": 2,
       "version_minor": 0
      },
      "text/plain": [
       "  0%|          | 0/6 [00:00<?, ?it/s]"
      ]
     },
     "metadata": {},
     "output_type": "display_data"
    },
    {
     "name": "stdout",
     "output_type": "stream",
     "text": [
      "Time to clip: 0.1061863899230957\n",
      "No intersection for nz-cemetery-polygons-topo-150k\n",
      "Now processing nz-historic-site-points-topo-150k\n",
      "Time to read file: 0.01199030876159668\n"
     ]
    },
    {
     "data": {
      "application/vnd.jupyter.widget-view+json": {
       "model_id": "488205878e684c52a48f0a20ef5f1400",
       "version_major": 2,
       "version_minor": 0
      },
      "text/plain": [
       "  0%|          | 0/6 [00:00<?, ?it/s]"
      ]
     },
     "metadata": {},
     "output_type": "display_data"
    },
    {
     "name": "stdout",
     "output_type": "stream",
     "text": [
      "Time to clip: 0.056061744689941406\n",
      "Now processing nz-residential-area-polygons-topo-1250k\n",
      "Time to read file: 0.018428802490234375\n"
     ]
    },
    {
     "data": {
      "application/vnd.jupyter.widget-view+json": {
       "model_id": "f2e5c65319bc4f209ee20a6f492ee185",
       "version_major": 2,
       "version_minor": 0
      },
      "text/plain": [
       "  0%|          | 0/6 [00:00<?, ?it/s]"
      ]
     },
     "metadata": {},
     "output_type": "display_data"
    },
    {
     "name": "stdout",
     "output_type": "stream",
     "text": [
      "Time to clip: 0.4416015148162842\n",
      "Now processing nz-airport-polygons-topo-150k\n",
      "Time to read file: 0.011591911315917969\n"
     ]
    },
    {
     "data": {
      "application/vnd.jupyter.widget-view+json": {
       "model_id": "f5f02e568ff4447c8b47ddcb83eb5d78",
       "version_major": 2,
       "version_minor": 0
      },
      "text/plain": [
       "  0%|          | 0/6 [00:00<?, ?it/s]"
      ]
     },
     "metadata": {},
     "output_type": "display_data"
    },
    {
     "name": "stdout",
     "output_type": "stream",
     "text": [
      "Time to clip: 0.1128544807434082\n",
      "Now processing nz-gas-valve-points-topo-150k\n",
      "Time to read file: 0.008917808532714844\n"
     ]
    },
    {
     "data": {
      "application/vnd.jupyter.widget-view+json": {
       "model_id": "d1cbdea0c6cf477fa6d40431013cdac8",
       "version_major": 2,
       "version_minor": 0
      },
      "text/plain": [
       "  0%|          | 0/6 [00:00<?, ?it/s]"
      ]
     },
     "metadata": {},
     "output_type": "display_data"
    },
    {
     "name": "stdout",
     "output_type": "stream",
     "text": [
      "Time to clip: 0.03658246994018555\n",
      "No intersection for nz-gas-valve-points-topo-150k\n",
      "Now processing nz-pa-points-topo-150k\n",
      "Time to read file: 0.017917871475219727\n"
     ]
    },
    {
     "data": {
      "application/vnd.jupyter.widget-view+json": {
       "model_id": "c0d9e612b32340bc8f464782965d37f9",
       "version_major": 2,
       "version_minor": 0
      },
      "text/plain": [
       "  0%|          | 0/6 [00:00<?, ?it/s]"
      ]
     },
     "metadata": {},
     "output_type": "display_data"
    },
    {
     "name": "stdout",
     "output_type": "stream",
     "text": [
      "Time to clip: 0.05136561393737793\n",
      "Now processing Transpower Transmission Lines\n",
      "Time to read file: 0.025608062744140625\n"
     ]
    },
    {
     "data": {
      "application/vnd.jupyter.widget-view+json": {
       "model_id": "e897ed7e159e42f98ad13f9822c2f319",
       "version_major": 2,
       "version_minor": 0
      },
      "text/plain": [
       "  0%|          | 0/6 [00:00<?, ?it/s]"
      ]
     },
     "metadata": {},
     "output_type": "display_data"
    },
    {
     "name": "stdout",
     "output_type": "stream",
     "text": [
      "Time to clip: 0.10716080665588379\n",
      "No intersection for Transpower Transmission Lines\n",
      "Now processing DOC_Public_Conservation_Land\n",
      "Time to read file: 0.5955119132995605\n"
     ]
    },
    {
     "data": {
      "application/vnd.jupyter.widget-view+json": {
       "model_id": "9eb62192050c409ba2c195a6a2f532e5",
       "version_major": 2,
       "version_minor": 0
      },
      "text/plain": [
       "  0%|          | 0/6 [00:00<?, ?it/s]"
      ]
     },
     "metadata": {},
     "output_type": "display_data"
    },
    {
     "name": "stdout",
     "output_type": "stream",
     "text": [
      "Time to clip: 4.420260906219482\n",
      "Now processing Covenant_Areas\n",
      "Time to read file: 0.062294721603393555\n"
     ]
    },
    {
     "data": {
      "application/vnd.jupyter.widget-view+json": {
       "model_id": "a690ebf165b64ce89b5892c3f5472e7a",
       "version_major": 2,
       "version_minor": 0
      },
      "text/plain": [
       "  0%|          | 0/6 [00:00<?, ?it/s]"
      ]
     },
     "metadata": {},
     "output_type": "display_data"
    },
    {
     "name": "stdout",
     "output_type": "stream",
     "text": [
      "Time to clip: 0.2045295238494873\n",
      "Now processing DOC_Sanctuaries_to_Protect_Marine_Mammals\n",
      "Time to read file: 0.08524203300476074\n"
     ]
    },
    {
     "data": {
      "application/vnd.jupyter.widget-view+json": {
       "model_id": "beeb9605b5ab4402ac31c273d2836f05",
       "version_major": 2,
       "version_minor": 0
      },
      "text/plain": [
       "  0%|          | 0/6 [00:00<?, ?it/s]"
      ]
     },
     "metadata": {},
     "output_type": "display_data"
    },
    {
     "name": "stdout",
     "output_type": "stream",
     "text": [
      "Time to clip: 0.505976676940918\n",
      "Now processing Internationally_Recognised_Areas\n"
     ]
    },
    {
     "name": "stderr",
     "output_type": "stream",
     "text": [
      "/usr/local/lib/python3.10/dist-packages/pyogrio/raw.py:196: RuntimeWarning: Asset Directory/DOC/Internationally_Recognised_Areas.shp contains polygon(s) with rings with invalid winding order. Autocorrecting them, but that shapefile should be corrected using ogr2ogr for example.\n",
      "  return ogr_read(\n"
     ]
    },
    {
     "name": "stdout",
     "output_type": "stream",
     "text": [
      "Time to read file: 0.03331947326660156\n"
     ]
    },
    {
     "data": {
      "application/vnd.jupyter.widget-view+json": {
       "model_id": "3ed35a48ac0741df9ef80358738187d1",
       "version_major": 2,
       "version_minor": 0
      },
      "text/plain": [
       "  0%|          | 0/6 [00:00<?, ?it/s]"
      ]
     },
     "metadata": {},
     "output_type": "display_data"
    },
    {
     "name": "stdout",
     "output_type": "stream",
     "text": [
      "Time to clip: 0.38369035720825195\n",
      "Now processing DOC_Offices\n"
     ]
    },
    {
     "name": "stderr",
     "output_type": "stream",
     "text": [
      "/usr/local/lib/python3.10/dist-packages/pyogrio/geopandas.py:523: UserWarning: GeoSeries.notna() previously returned False for both missing (None) and empty geometries. Now, it only returns False for missing values. Since the calling GeoSeries contains empty geometries, the result has changed compared to previous versions of GeoPandas.\n",
      "Given a GeoSeries 's', you can use '~s.is_empty & s.notna()' to get back the old behaviour.\n",
      "\n",
      "To further ignore this warning, you can do: \n",
      "import warnings; warnings.filterwarnings('ignore', 'GeoSeries.notna', UserWarning)\n",
      "  has_z_arr = geometry[geometry.notna() & (~geometry.is_empty)].has_z\n"
     ]
    },
    {
     "name": "stdout",
     "output_type": "stream",
     "text": [
      "Time to read file: 0.019058704376220703\n"
     ]
    },
    {
     "data": {
      "application/vnd.jupyter.widget-view+json": {
       "model_id": "3d58537dd54f4101a6ffb4a19e663771",
       "version_major": 2,
       "version_minor": 0
      },
      "text/plain": [
       "  0%|          | 0/6 [00:00<?, ?it/s]"
      ]
     },
     "metadata": {},
     "output_type": "display_data"
    },
    {
     "name": "stdout",
     "output_type": "stream",
     "text": [
      "Time to clip: 0.057852983474731445\n",
      "No intersection for DOC_Offices\n",
      "Now processing DOC_Campsites\n",
      "Time to read file: 0.019517183303833008\n"
     ]
    },
    {
     "data": {
      "application/vnd.jupyter.widget-view+json": {
       "model_id": "0674b13d05794a8dbc2587c67340891b",
       "version_major": 2,
       "version_minor": 0
      },
      "text/plain": [
       "  0%|          | 0/6 [00:00<?, ?it/s]"
      ]
     },
     "metadata": {},
     "output_type": "display_data"
    },
    {
     "name": "stdout",
     "output_type": "stream",
     "text": [
      "Time to clip: 0.05138850212097168\n",
      "Now processing DOC_Marine_Reserves\n",
      "Time to read file: 0.020941734313964844\n"
     ]
    },
    {
     "data": {
      "application/vnd.jupyter.widget-view+json": {
       "model_id": "26404e0e3c1447b0846f49d3dab2054f",
       "version_major": 2,
       "version_minor": 0
      },
      "text/plain": [
       "  0%|          | 0/6 [00:00<?, ?it/s]"
      ]
     },
     "metadata": {},
     "output_type": "display_data"
    },
    {
     "name": "stdout",
     "output_type": "stream",
     "text": [
      "Time to clip: 0.21013784408569336\n",
      "Now processing Ecological_Districts\n",
      "Time to read file: 0.02041006088256836\n"
     ]
    },
    {
     "data": {
      "application/vnd.jupyter.widget-view+json": {
       "model_id": "648d3df05bd94c17a6eae190b377bdef",
       "version_major": 2,
       "version_minor": 0
      },
      "text/plain": [
       "  0%|          | 0/6 [00:00<?, ?it/s]"
      ]
     },
     "metadata": {},
     "output_type": "display_data"
    },
    {
     "name": "stdout",
     "output_type": "stream",
     "text": [
      "Time to clip: 1.1337637901306152\n",
      "Now processing zone_substations\n",
      "Time to read file: 0.02100825309753418\n"
     ]
    },
    {
     "data": {
      "application/vnd.jupyter.widget-view+json": {
       "model_id": "2d7acba30219478796bd3c476a418cbd",
       "version_major": 2,
       "version_minor": 0
      },
      "text/plain": [
       "  0%|          | 0/6 [00:00<?, ?it/s]"
      ]
     },
     "metadata": {},
     "output_type": "display_data"
    },
    {
     "name": "stdout",
     "output_type": "stream",
     "text": [
      "Time to clip: 0.06495475769042969\n",
      "No intersection for zone_substations\n",
      "Now processing KiwiRailTrack\n",
      "Time to read file: 0.0731499195098877\n"
     ]
    },
    {
     "data": {
      "application/vnd.jupyter.widget-view+json": {
       "model_id": "6656d37660b447bcab71bd2bb96764ae",
       "version_major": 2,
       "version_minor": 0
      },
      "text/plain": [
       "  0%|          | 0/6 [00:00<?, ?it/s]"
      ]
     },
     "metadata": {},
     "output_type": "display_data"
    },
    {
     "name": "stdout",
     "output_type": "stream",
     "text": [
      "Time to clip: 0.01829051971435547\n",
      "No intersection for KiwiRailTrack\n",
      "Now processing roads\n",
      "Time to read file: 4.495110273361206\n"
     ]
    },
    {
     "data": {
      "application/vnd.jupyter.widget-view+json": {
       "model_id": "64c0fb36957b439c8ec4fed8f8fef402",
       "version_major": 2,
       "version_minor": 0
      },
      "text/plain": [
       "  0%|          | 0/6 [00:00<?, ?it/s]"
      ]
     },
     "metadata": {},
     "output_type": "display_data"
    },
    {
     "name": "stdout",
     "output_type": "stream",
     "text": [
      "Time to clip: 1.5485517978668213\n",
      "Now processing CAA NZ_Aerodromes\n",
      "Time to read file: 0.18021917343139648\n"
     ]
    },
    {
     "data": {
      "application/vnd.jupyter.widget-view+json": {
       "model_id": "fc1db7cc370744a2895c44aff6d3cd5a",
       "version_major": 2,
       "version_minor": 0
      },
      "text/plain": [
       "  0%|          | 0/6 [00:00<?, ?it/s]"
      ]
     },
     "metadata": {},
     "output_type": "display_data"
    },
    {
     "name": "stdout",
     "output_type": "stream",
     "text": [
      "Time to clip: 0.020206928253173828\n",
      "No intersection for CAA NZ_Aerodromes\n",
      "Now processing protected-areas\n",
      "Time to read file: 0.6684367656707764\n"
     ]
    },
    {
     "data": {
      "application/vnd.jupyter.widget-view+json": {
       "model_id": "2113747b2b724128a62955bf4f39f211",
       "version_major": 2,
       "version_minor": 0
      },
      "text/plain": [
       "  0%|          | 0/6 [00:00<?, ?it/s]"
      ]
     },
     "metadata": {},
     "output_type": "display_data"
    },
    {
     "name": "stdout",
     "output_type": "stream",
     "text": [
      "Time to clip: 7.309661626815796\n",
      "Now processing nz-walking-and-biking-tracks\n",
      "Time to read file: 0.5351395606994629\n"
     ]
    },
    {
     "data": {
      "application/vnd.jupyter.widget-view+json": {
       "model_id": "f3af92c7cbbc4fb4b50392a51414ddd2",
       "version_major": 2,
       "version_minor": 0
      },
      "text/plain": [
       "  0%|          | 0/6 [00:00<?, ?it/s]"
      ]
     },
     "metadata": {},
     "output_type": "display_data"
    },
    {
     "name": "stdout",
     "output_type": "stream",
     "text": [
      "Time to clip: 2.6312873363494873\n"
     ]
    },
    {
     "name": "stderr",
     "output_type": "stream",
     "text": [
      "IOStream.flush timed out\n"
     ]
    },
    {
     "name": "stdout",
     "output_type": "stream",
     "text": [
      "Now processing smap-soil-drainage-dec-2023\n",
      "Time to read file: 20.816434144973755\n"
     ]
    },
    {
     "data": {
      "application/vnd.jupyter.widget-view+json": {
       "model_id": "7550bd8252004a37be95e688130407ca",
       "version_major": 2,
       "version_minor": 0
      },
      "text/plain": [
       "  0%|          | 0/6 [00:00<?, ?it/s]"
      ]
     },
     "metadata": {},
     "output_type": "display_data"
    },
    {
     "name": "stdout",
     "output_type": "stream",
     "text": [
      "Time to clip: 16.509073495864868\n",
      "Now processing nzlri-land-use-capability-2021\n",
      "Time to read file: 4.1943652629852295\n"
     ]
    },
    {
     "data": {
      "application/vnd.jupyter.widget-view+json": {
       "model_id": "28f1e66169d0420ea084047622135fb5",
       "version_major": 2,
       "version_minor": 0
      },
      "text/plain": [
       "  0%|          | 0/6 [00:00<?, ?it/s]"
      ]
     },
     "metadata": {},
     "output_type": "display_data"
    },
    {
     "name": "stdout",
     "output_type": "stream",
     "text": [
      "Time to clip: 12.050336122512817\n"
     ]
    }
   ],
   "source": [
    "os.unlink(\"affected_assets.gpkg\")\n",
    "for row in tqdm(files.itertuples(index=False), total=len(files)):\n",
    "  print(f\"Now processing {row.filename}\")\n",
    "  start = time.time()\n",
    "  asset = gpd.read_file(row.filepath)#, engine=\"pyogrio\", use_arrow=True)\n",
    "  print(f\"Time to read file: {time.time() - start}\")\n",
    "  start = time.time()\n",
    "  clipped_asset = pd.concat(gpd.clip(asset, poly) for poly in tqdm(polys))\n",
    "  print(f\"Time to clip: {time.time() - start}\")\n",
    "  if len(clipped_asset) == 0:\n",
    "    print(f\"No intersection for {row.filename}\")\n",
    "    continue\n",
    "  clipped_asset[\"affected_area\"] = clipped_asset.area\n",
    "  clipped_asset[\"affected_length\"] = clipped_asset.length\n",
    "  clipped_asset.to_file(\"affected_assets.gpkg\", layer=row.filename, driver='GPKG')"
   ]
  },
  {
   "cell_type": "code",
   "execution_count": 5,
   "metadata": {},
   "outputs": [
    {
     "data": {
      "text/html": [
       "<pre>✔️ 22.8 ms (2024-11-29T17:00:18/2024-11-29T17:00:18)</pre>"
      ],
      "text/plain": [
       "<IPython.core.display.HTML object>"
      ]
     },
     "metadata": {},
     "output_type": "display_data"
    },
    {
     "data": {
      "text/html": [
       "<div>\n",
       "<style scoped>\n",
       "    .dataframe tbody tr th:only-of-type {\n",
       "        vertical-align: middle;\n",
       "    }\n",
       "\n",
       "    .dataframe tbody tr th {\n",
       "        vertical-align: top;\n",
       "    }\n",
       "\n",
       "    .dataframe thead th {\n",
       "        text-align: right;\n",
       "    }\n",
       "</style>\n",
       "<table border=\"1\" class=\"dataframe\">\n",
       "  <thead>\n",
       "    <tr style=\"text-align: right;\">\n",
       "      <th></th>\n",
       "      <th>name</th>\n",
       "      <th>geometry_type</th>\n",
       "    </tr>\n",
       "  </thead>\n",
       "  <tbody>\n",
       "    <tr>\n",
       "      <th>0</th>\n",
       "      <td>fsl-soil-drainage-class</td>\n",
       "      <td>MultiPolygon</td>\n",
       "    </tr>\n",
       "    <tr>\n",
       "      <th>1</th>\n",
       "      <td>lucas-nz-land-use-map-1990-2008-2012-2016-v011</td>\n",
       "      <td>MultiPolygon</td>\n",
       "    </tr>\n",
       "    <tr>\n",
       "      <th>2</th>\n",
       "      <td>nz-railway-centre-lines</td>\n",
       "      <td>MultiLineString</td>\n",
       "    </tr>\n",
       "    <tr>\n",
       "      <th>3</th>\n",
       "      <td>nz-monument-points-topo-150k</td>\n",
       "      <td>Point</td>\n",
       "    </tr>\n",
       "    <tr>\n",
       "      <th>4</th>\n",
       "      <td>nz-track-centrelines-topo-150k</td>\n",
       "      <td>MultiLineString</td>\n",
       "    </tr>\n",
       "    <tr>\n",
       "      <th>5</th>\n",
       "      <td>linz-managed-crown-property</td>\n",
       "      <td>MultiPolygon</td>\n",
       "    </tr>\n",
       "    <tr>\n",
       "      <th>6</th>\n",
       "      <td>nz-drain-centrelines-topo-150k</td>\n",
       "      <td>MultiLineString</td>\n",
       "    </tr>\n",
       "    <tr>\n",
       "      <th>7</th>\n",
       "      <td>nz-facilities</td>\n",
       "      <td>Polygon</td>\n",
       "    </tr>\n",
       "    <tr>\n",
       "      <th>8</th>\n",
       "      <td>nz-road-centrelines-topo-150k</td>\n",
       "      <td>MultiLineString</td>\n",
       "    </tr>\n",
       "    <tr>\n",
       "      <th>9</th>\n",
       "      <td>nz-powerline-centrelines-topo-150k</td>\n",
       "      <td>MultiLineString</td>\n",
       "    </tr>\n",
       "    <tr>\n",
       "      <th>10</th>\n",
       "      <td>nz-building-outlines</td>\n",
       "      <td>MultiPolygon</td>\n",
       "    </tr>\n",
       "    <tr>\n",
       "      <th>11</th>\n",
       "      <td>nz-geodetic-marks</td>\n",
       "      <td>Point</td>\n",
       "    </tr>\n",
       "    <tr>\n",
       "      <th>12</th>\n",
       "      <td>nz-historic-site-points-topo-150k</td>\n",
       "      <td>Point</td>\n",
       "    </tr>\n",
       "    <tr>\n",
       "      <th>13</th>\n",
       "      <td>nz-residential-area-polygons-topo-1250k</td>\n",
       "      <td>MultiPolygon</td>\n",
       "    </tr>\n",
       "    <tr>\n",
       "      <th>14</th>\n",
       "      <td>nz-airport-polygons-topo-150k</td>\n",
       "      <td>MultiPolygon</td>\n",
       "    </tr>\n",
       "    <tr>\n",
       "      <th>15</th>\n",
       "      <td>nz-pa-points-topo-150k</td>\n",
       "      <td>Point</td>\n",
       "    </tr>\n",
       "    <tr>\n",
       "      <th>16</th>\n",
       "      <td>DOC_Public_Conservation_Land</td>\n",
       "      <td>MultiPolygon</td>\n",
       "    </tr>\n",
       "    <tr>\n",
       "      <th>17</th>\n",
       "      <td>Covenant_Areas</td>\n",
       "      <td>MultiPolygon</td>\n",
       "    </tr>\n",
       "    <tr>\n",
       "      <th>18</th>\n",
       "      <td>DOC_Sanctuaries_to_Protect_Marine_Mammals</td>\n",
       "      <td>MultiPolygon</td>\n",
       "    </tr>\n",
       "    <tr>\n",
       "      <th>19</th>\n",
       "      <td>Internationally_Recognised_Areas</td>\n",
       "      <td>MultiPolygon</td>\n",
       "    </tr>\n",
       "    <tr>\n",
       "      <th>20</th>\n",
       "      <td>DOC_Campsites</td>\n",
       "      <td>Point</td>\n",
       "    </tr>\n",
       "    <tr>\n",
       "      <th>21</th>\n",
       "      <td>DOC_Marine_Reserves</td>\n",
       "      <td>MultiPolygon</td>\n",
       "    </tr>\n",
       "    <tr>\n",
       "      <th>22</th>\n",
       "      <td>Ecological_Districts</td>\n",
       "      <td>MultiPolygon</td>\n",
       "    </tr>\n",
       "    <tr>\n",
       "      <th>23</th>\n",
       "      <td>roads</td>\n",
       "      <td>MultiLineString Z</td>\n",
       "    </tr>\n",
       "    <tr>\n",
       "      <th>24</th>\n",
       "      <td>protected-areas</td>\n",
       "      <td>MultiPolygon</td>\n",
       "    </tr>\n",
       "    <tr>\n",
       "      <th>25</th>\n",
       "      <td>nz-walking-and-biking-tracks</td>\n",
       "      <td>MultiLineString</td>\n",
       "    </tr>\n",
       "    <tr>\n",
       "      <th>26</th>\n",
       "      <td>smap-soil-drainage-dec-2023</td>\n",
       "      <td>MultiPolygon</td>\n",
       "    </tr>\n",
       "    <tr>\n",
       "      <th>27</th>\n",
       "      <td>nzlri-land-use-capability-2021</td>\n",
       "      <td>MultiPolygon</td>\n",
       "    </tr>\n",
       "  </tbody>\n",
       "</table>\n",
       "</div>"
      ],
      "text/plain": [
       "                                              name      geometry_type\n",
       "0                          fsl-soil-drainage-class       MultiPolygon\n",
       "1   lucas-nz-land-use-map-1990-2008-2012-2016-v011       MultiPolygon\n",
       "2                          nz-railway-centre-lines    MultiLineString\n",
       "3                     nz-monument-points-topo-150k              Point\n",
       "4                   nz-track-centrelines-topo-150k    MultiLineString\n",
       "5                      linz-managed-crown-property       MultiPolygon\n",
       "6                   nz-drain-centrelines-topo-150k    MultiLineString\n",
       "7                                    nz-facilities            Polygon\n",
       "8                    nz-road-centrelines-topo-150k    MultiLineString\n",
       "9               nz-powerline-centrelines-topo-150k    MultiLineString\n",
       "10                            nz-building-outlines       MultiPolygon\n",
       "11                               nz-geodetic-marks              Point\n",
       "12               nz-historic-site-points-topo-150k              Point\n",
       "13         nz-residential-area-polygons-topo-1250k       MultiPolygon\n",
       "14                   nz-airport-polygons-topo-150k       MultiPolygon\n",
       "15                          nz-pa-points-topo-150k              Point\n",
       "16                    DOC_Public_Conservation_Land       MultiPolygon\n",
       "17                                  Covenant_Areas       MultiPolygon\n",
       "18       DOC_Sanctuaries_to_Protect_Marine_Mammals       MultiPolygon\n",
       "19                Internationally_Recognised_Areas       MultiPolygon\n",
       "20                                   DOC_Campsites              Point\n",
       "21                             DOC_Marine_Reserves       MultiPolygon\n",
       "22                            Ecological_Districts       MultiPolygon\n",
       "23                                           roads  MultiLineString Z\n",
       "24                                 protected-areas       MultiPolygon\n",
       "25                    nz-walking-and-biking-tracks    MultiLineString\n",
       "26                     smap-soil-drainage-dec-2023       MultiPolygon\n",
       "27                  nzlri-land-use-capability-2021       MultiPolygon"
      ]
     },
     "execution_count": 5,
     "metadata": {},
     "output_type": "execute_result"
    }
   ],
   "source": [
    "gpd.list_layers(\"affected_assets.gpkg\")"
   ]
  }
 ],
 "metadata": {
  "kernelspec": {
   "display_name": "Python 3",
   "language": "python",
   "name": "python3"
  },
  "language_info": {
   "codemirror_mode": {
    "name": "ipython",
    "version": 3
   },
   "file_extension": ".py",
   "mimetype": "text/x-python",
   "name": "python",
   "nbconvert_exporter": "python",
   "pygments_lexer": "ipython3",
   "version": "3.10.12"
  }
 },
 "nbformat": 4,
 "nbformat_minor": 2
}
