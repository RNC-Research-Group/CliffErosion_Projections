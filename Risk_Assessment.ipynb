{
 "cells": [
  {
   "cell_type": "code",
   "execution_count": 1,
   "metadata": {},
   "outputs": [
    {
     "data": {
      "text/html": [
       "<pre>✔️ 310 ms (2024-11-08T17:18:57/2024-11-08T17:18:57)</pre>"
      ],
      "text/plain": [
       "<IPython.core.display.HTML object>"
      ]
     },
     "metadata": {},
     "output_type": "display_data"
    }
   ],
   "source": [
    "%load_ext autotime\n",
    "import pandas as pd\n",
    "import os\n",
    "import geopandas as gpd\n",
    "from glob import glob\n",
    "from shapely.validation import make_valid\n",
    "from tqdm.auto import tqdm\n",
    "import time\n",
    "pd.set_option(\"display.max_colwidth\", 100)"
   ]
  },
  {
   "cell_type": "code",
   "execution_count": 2,
   "metadata": {},
   "outputs": [
    {
     "data": {
      "text/html": [
       "<pre>✔️ 13.8 ms (2024-11-08T17:18:57/2024-11-08T17:18:57)</pre>"
      ],
      "text/plain": [
       "<IPython.core.display.HTML object>"
      ]
     },
     "metadata": {},
     "output_type": "display_data"
    },
    {
     "data": {
      "text/html": [
       "<div>\n",
       "<style scoped>\n",
       "    .dataframe tbody tr th:only-of-type {\n",
       "        vertical-align: middle;\n",
       "    }\n",
       "\n",
       "    .dataframe tbody tr th {\n",
       "        vertical-align: top;\n",
       "    }\n",
       "\n",
       "    .dataframe thead th {\n",
       "        text-align: right;\n",
       "    }\n",
       "</style>\n",
       "<table border=\"1\" class=\"dataframe\">\n",
       "  <thead>\n",
       "    <tr style=\"text-align: right;\">\n",
       "      <th></th>\n",
       "      <th>filepath</th>\n",
       "      <th>filename</th>\n",
       "      <th>filesize_GB</th>\n",
       "    </tr>\n",
       "  </thead>\n",
       "  <tbody>\n",
       "    <tr>\n",
       "      <th>0</th>\n",
       "      <td>Asset Directory/LUCAS NZ Land Use/lucas-nz-land-use-map-1990-2008-2012-2016-v011.shp</td>\n",
       "      <td>lucas-nz-land-use-map-1990-2008-2012-2016-v011</td>\n",
       "      <td>1.435426</td>\n",
       "    </tr>\n",
       "    <tr>\n",
       "      <th>1</th>\n",
       "      <td>Asset Directory/Koordinate/smap-soil-drainage-dec-2023/smap-soil-drainage-dec-2023.shp</td>\n",
       "      <td>smap-soil-drainage-dec-2023</td>\n",
       "      <td>0.699233</td>\n",
       "    </tr>\n",
       "    <tr>\n",
       "      <th>2</th>\n",
       "      <td>Asset Directory/lds-new-zealand-17layers-SHP/nz-building-outlines/nz-building-outlines.shp</td>\n",
       "      <td>nz-building-outlines</td>\n",
       "      <td>0.636510</td>\n",
       "    </tr>\n",
       "    <tr>\n",
       "      <th>3</th>\n",
       "      <td>Asset Directory/lris-fsl-soil-drainage-class-SHP/fsl-soil-drainage-class.shp</td>\n",
       "      <td>fsl-soil-drainage-class</td>\n",
       "      <td>0.164699</td>\n",
       "    </tr>\n",
       "    <tr>\n",
       "      <th>4</th>\n",
       "      <td>Asset Directory/Koordinate/nzlri-land-use-capability-2021/nzlri-land-use-capability-2021.shp</td>\n",
       "      <td>nzlri-land-use-capability-2021</td>\n",
       "      <td>0.164578</td>\n",
       "    </tr>\n",
       "    <tr>\n",
       "      <th>5</th>\n",
       "      <td>Asset Directory/DOC/DOC_Public_Conservation_Land.shp</td>\n",
       "      <td>DOC_Public_Conservation_Land</td>\n",
       "      <td>0.139802</td>\n",
       "    </tr>\n",
       "    <tr>\n",
       "      <th>6</th>\n",
       "      <td>Asset Directory/Koordinate/protected-areas/protected-areas.shp</td>\n",
       "      <td>protected-areas</td>\n",
       "      <td>0.134675</td>\n",
       "    </tr>\n",
       "    <tr>\n",
       "      <th>7</th>\n",
       "      <td>Asset Directory/NationalRoadCentrelineDataset/roads.shp</td>\n",
       "      <td>roads</td>\n",
       "      <td>0.130881</td>\n",
       "    </tr>\n",
       "    <tr>\n",
       "      <th>8</th>\n",
       "      <td>Asset Directory/lds-new-zealand-17layers-SHP/nz-road-centrelines-topo-150k.shp</td>\n",
       "      <td>nz-road-centrelines-topo-150k</td>\n",
       "      <td>0.116422</td>\n",
       "    </tr>\n",
       "    <tr>\n",
       "      <th>9</th>\n",
       "      <td>Asset Directory/lds-new-zealand-17layers-SHP/nz-track-centrelines-topo-150k/nz-track-centrelines...</td>\n",
       "      <td>nz-track-centrelines-topo-150k</td>\n",
       "      <td>0.074558</td>\n",
       "    </tr>\n",
       "    <tr>\n",
       "      <th>10</th>\n",
       "      <td>Asset Directory/lds-new-zealand-17layers-SHP/linz-managed-crown-property/linz-managed-crown-prop...</td>\n",
       "      <td>linz-managed-crown-property</td>\n",
       "      <td>0.041728</td>\n",
       "    </tr>\n",
       "    <tr>\n",
       "      <th>11</th>\n",
       "      <td>Asset Directory/Koordinate/nz-walking-and-biking-tracks/nz-walking-and-biking-tracks.shp</td>\n",
       "      <td>nz-walking-and-biking-tracks</td>\n",
       "      <td>0.038141</td>\n",
       "    </tr>\n",
       "    <tr>\n",
       "      <th>12</th>\n",
       "      <td>Asset Directory/lds-new-zealand-17layers-SHP/nz-drain-centrelines-topo-150k/nz-drain-centrelines...</td>\n",
       "      <td>nz-drain-centrelines-topo-150k</td>\n",
       "      <td>0.006491</td>\n",
       "    </tr>\n",
       "    <tr>\n",
       "      <th>13</th>\n",
       "      <td>Asset Directory/DOC/Internationally_Recognised_Areas.shp</td>\n",
       "      <td>Internationally_Recognised_Areas</td>\n",
       "      <td>0.004694</td>\n",
       "    </tr>\n",
       "    <tr>\n",
       "      <th>14</th>\n",
       "      <td>Asset Directory/DOC/Covenant_Areas.shp</td>\n",
       "      <td>Covenant_Areas</td>\n",
       "      <td>0.003984</td>\n",
       "    </tr>\n",
       "    <tr>\n",
       "      <th>15</th>\n",
       "      <td>Asset Directory/lds-new-zealand-17layers-SHP/nz-geodetic-marks/nz-geodetic-marks.shp</td>\n",
       "      <td>nz-geodetic-marks</td>\n",
       "      <td>0.003710</td>\n",
       "    </tr>\n",
       "    <tr>\n",
       "      <th>16</th>\n",
       "      <td>Asset Directory/KiwiRailTrack.zip</td>\n",
       "      <td>KiwiRailTrack</td>\n",
       "      <td>0.003440</td>\n",
       "    </tr>\n",
       "    <tr>\n",
       "      <th>17</th>\n",
       "      <td>Asset Directory/DOC/DOC_Sanctuaries_to_Protect_Marine_Mammals.shp</td>\n",
       "      <td>DOC_Sanctuaries_to_Protect_Marine_Mammals</td>\n",
       "      <td>0.003158</td>\n",
       "    </tr>\n",
       "    <tr>\n",
       "      <th>18</th>\n",
       "      <td>Asset Directory/DOC/Ecological_Districts.shp</td>\n",
       "      <td>Ecological_Districts</td>\n",
       "      <td>0.002513</td>\n",
       "    </tr>\n",
       "    <tr>\n",
       "      <th>19</th>\n",
       "      <td>Asset Directory/DOC/DOC_Marine_Reserves.shp</td>\n",
       "      <td>DOC_Marine_Reserves</td>\n",
       "      <td>0.001981</td>\n",
       "    </tr>\n",
       "    <tr>\n",
       "      <th>20</th>\n",
       "      <td>Asset Directory/lds-new-zealand-17layers-SHP/nz-powerline-centrelines-topo-150k/nz-powerline-cen...</td>\n",
       "      <td>nz-powerline-centrelines-topo-150k</td>\n",
       "      <td>0.001789</td>\n",
       "    </tr>\n",
       "    <tr>\n",
       "      <th>21</th>\n",
       "      <td>Asset Directory/lds-new-zealand-17layers-SHP/nz-railway-centre-lines/nz-railway-centre-lines.shp</td>\n",
       "      <td>nz-railway-centre-lines</td>\n",
       "      <td>0.001587</td>\n",
       "    </tr>\n",
       "    <tr>\n",
       "      <th>22</th>\n",
       "      <td>Asset Directory/lds-new-zealand-17layers-SHP/nz-facilities/nz-facilities.shp</td>\n",
       "      <td>nz-facilities</td>\n",
       "      <td>0.000758</td>\n",
       "    </tr>\n",
       "    <tr>\n",
       "      <th>23</th>\n",
       "      <td>Asset Directory/Transpower Transmission Lines.zip</td>\n",
       "      <td>Transpower Transmission Lines</td>\n",
       "      <td>0.000558</td>\n",
       "    </tr>\n",
       "    <tr>\n",
       "      <th>24</th>\n",
       "      <td>Asset Directory/lds-new-zealand-17layers-SHP/nz-residential-area-polygons-topo-1250k/nz-resident...</td>\n",
       "      <td>nz-residential-area-polygons-topo-1250k</td>\n",
       "      <td>0.000555</td>\n",
       "    </tr>\n",
       "    <tr>\n",
       "      <th>25</th>\n",
       "      <td>Asset Directory/zone_substations.gpkg</td>\n",
       "      <td>zone_substations</td>\n",
       "      <td>0.000254</td>\n",
       "    </tr>\n",
       "    <tr>\n",
       "      <th>26</th>\n",
       "      <td>Asset Directory/Water and Wastewater/wwtp.gpkg</td>\n",
       "      <td>wwtp</td>\n",
       "      <td>0.000209</td>\n",
       "    </tr>\n",
       "    <tr>\n",
       "      <th>27</th>\n",
       "      <td>Asset Directory/Water and Wastewater/wtp.gpkg</td>\n",
       "      <td>wtp</td>\n",
       "      <td>0.000156</td>\n",
       "    </tr>\n",
       "    <tr>\n",
       "      <th>28</th>\n",
       "      <td>Asset Directory/CAA NZ_Aerodromes.geojson</td>\n",
       "      <td>CAA NZ_Aerodromes</td>\n",
       "      <td>0.000152</td>\n",
       "    </tr>\n",
       "    <tr>\n",
       "      <th>29</th>\n",
       "      <td>Asset Directory/lds-new-zealand-17layers-SHP/nz-airport-polygons-topo-150k/nz-airport-polygons-t...</td>\n",
       "      <td>nz-airport-polygons-topo-150k</td>\n",
       "      <td>0.000086</td>\n",
       "    </tr>\n",
       "    <tr>\n",
       "      <th>30</th>\n",
       "      <td>Asset Directory/lds-new-zealand-17layers-SHP/nz-cemetery-polygons-topo-150k/nz-cemetery-polygons...</td>\n",
       "      <td>nz-cemetery-polygons-topo-150k</td>\n",
       "      <td>0.000071</td>\n",
       "    </tr>\n",
       "    <tr>\n",
       "      <th>31</th>\n",
       "      <td>Asset Directory/lds-new-zealand-17layers-SHP/nz-telephone-centrelines-topo-150k/nz-telephone-cen...</td>\n",
       "      <td>nz-telephone-centrelines-topo-150k</td>\n",
       "      <td>0.000062</td>\n",
       "    </tr>\n",
       "    <tr>\n",
       "      <th>32</th>\n",
       "      <td>Asset Directory/lds-new-zealand-17layers-SHP/nz-pa-points-topo-150k/nz-pa-points-topo-150k.shp</td>\n",
       "      <td>nz-pa-points-topo-150k</td>\n",
       "      <td>0.000060</td>\n",
       "    </tr>\n",
       "    <tr>\n",
       "      <th>33</th>\n",
       "      <td>Asset Directory/lds-new-zealand-17layers-SHP/nz-windmill-points-topo-150k/nz-windmill-points-top...</td>\n",
       "      <td>nz-windmill-points-topo-150k</td>\n",
       "      <td>0.000022</td>\n",
       "    </tr>\n",
       "    <tr>\n",
       "      <th>34</th>\n",
       "      <td>Asset Directory/lds-new-zealand-17layers-SHP/nz-monument-points-topo-150k/nz-monument-points-top...</td>\n",
       "      <td>nz-monument-points-topo-150k</td>\n",
       "      <td>0.000008</td>\n",
       "    </tr>\n",
       "    <tr>\n",
       "      <th>35</th>\n",
       "      <td>Asset Directory/DOC/DOC_Campsites.shp</td>\n",
       "      <td>DOC_Campsites</td>\n",
       "      <td>0.000008</td>\n",
       "    </tr>\n",
       "    <tr>\n",
       "      <th>36</th>\n",
       "      <td>Asset Directory/lds-new-zealand-17layers-SHP/nz-historic-site-points-topo-150k/nz-historic-site-...</td>\n",
       "      <td>nz-historic-site-points-topo-150k</td>\n",
       "      <td>0.000007</td>\n",
       "    </tr>\n",
       "    <tr>\n",
       "      <th>37</th>\n",
       "      <td>Asset Directory/lds-new-zealand-17layers-SHP/nz-rail-station-points-topo-150k/nz-rail-station-po...</td>\n",
       "      <td>nz-rail-station-points-topo-150k</td>\n",
       "      <td>0.000005</td>\n",
       "    </tr>\n",
       "    <tr>\n",
       "      <th>38</th>\n",
       "      <td>Asset Directory/Generation/generation_NZ.shp</td>\n",
       "      <td>generation_NZ</td>\n",
       "      <td>0.000004</td>\n",
       "    </tr>\n",
       "    <tr>\n",
       "      <th>39</th>\n",
       "      <td>Asset Directory/DOC/DOC_Offices.shp</td>\n",
       "      <td>DOC_Offices</td>\n",
       "      <td>0.000003</td>\n",
       "    </tr>\n",
       "    <tr>\n",
       "      <th>40</th>\n",
       "      <td>Asset Directory/lds-new-zealand-17layers-SHP/nz-well-points-topo-150k/nz-well-points-topo-150k.shp</td>\n",
       "      <td>nz-well-points-topo-150k</td>\n",
       "      <td>0.000003</td>\n",
       "    </tr>\n",
       "    <tr>\n",
       "      <th>41</th>\n",
       "      <td>Asset Directory/lds-new-zealand-17layers-SHP/nz-gas-valve-points-topo-150k/nz-gas-valve-points-t...</td>\n",
       "      <td>nz-gas-valve-points-topo-150k</td>\n",
       "      <td>0.000002</td>\n",
       "    </tr>\n",
       "  </tbody>\n",
       "</table>\n",
       "</div>"
      ],
      "text/plain": [
       "                                                                                               filepath  \\\n",
       "0                  Asset Directory/LUCAS NZ Land Use/lucas-nz-land-use-map-1990-2008-2012-2016-v011.shp   \n",
       "1                Asset Directory/Koordinate/smap-soil-drainage-dec-2023/smap-soil-drainage-dec-2023.shp   \n",
       "2            Asset Directory/lds-new-zealand-17layers-SHP/nz-building-outlines/nz-building-outlines.shp   \n",
       "3                          Asset Directory/lris-fsl-soil-drainage-class-SHP/fsl-soil-drainage-class.shp   \n",
       "4          Asset Directory/Koordinate/nzlri-land-use-capability-2021/nzlri-land-use-capability-2021.shp   \n",
       "5                                                  Asset Directory/DOC/DOC_Public_Conservation_Land.shp   \n",
       "6                                        Asset Directory/Koordinate/protected-areas/protected-areas.shp   \n",
       "7                                               Asset Directory/NationalRoadCentrelineDataset/roads.shp   \n",
       "8                        Asset Directory/lds-new-zealand-17layers-SHP/nz-road-centrelines-topo-150k.shp   \n",
       "9   Asset Directory/lds-new-zealand-17layers-SHP/nz-track-centrelines-topo-150k/nz-track-centrelines...   \n",
       "10  Asset Directory/lds-new-zealand-17layers-SHP/linz-managed-crown-property/linz-managed-crown-prop...   \n",
       "11             Asset Directory/Koordinate/nz-walking-and-biking-tracks/nz-walking-and-biking-tracks.shp   \n",
       "12  Asset Directory/lds-new-zealand-17layers-SHP/nz-drain-centrelines-topo-150k/nz-drain-centrelines...   \n",
       "13                                             Asset Directory/DOC/Internationally_Recognised_Areas.shp   \n",
       "14                                                               Asset Directory/DOC/Covenant_Areas.shp   \n",
       "15                 Asset Directory/lds-new-zealand-17layers-SHP/nz-geodetic-marks/nz-geodetic-marks.shp   \n",
       "16                                                                    Asset Directory/KiwiRailTrack.zip   \n",
       "17                                    Asset Directory/DOC/DOC_Sanctuaries_to_Protect_Marine_Mammals.shp   \n",
       "18                                                         Asset Directory/DOC/Ecological_Districts.shp   \n",
       "19                                                          Asset Directory/DOC/DOC_Marine_Reserves.shp   \n",
       "20  Asset Directory/lds-new-zealand-17layers-SHP/nz-powerline-centrelines-topo-150k/nz-powerline-cen...   \n",
       "21     Asset Directory/lds-new-zealand-17layers-SHP/nz-railway-centre-lines/nz-railway-centre-lines.shp   \n",
       "22                         Asset Directory/lds-new-zealand-17layers-SHP/nz-facilities/nz-facilities.shp   \n",
       "23                                                    Asset Directory/Transpower Transmission Lines.zip   \n",
       "24  Asset Directory/lds-new-zealand-17layers-SHP/nz-residential-area-polygons-topo-1250k/nz-resident...   \n",
       "25                                                                Asset Directory/zone_substations.gpkg   \n",
       "26                                                       Asset Directory/Water and Wastewater/wwtp.gpkg   \n",
       "27                                                        Asset Directory/Water and Wastewater/wtp.gpkg   \n",
       "28                                                            Asset Directory/CAA NZ_Aerodromes.geojson   \n",
       "29  Asset Directory/lds-new-zealand-17layers-SHP/nz-airport-polygons-topo-150k/nz-airport-polygons-t...   \n",
       "30  Asset Directory/lds-new-zealand-17layers-SHP/nz-cemetery-polygons-topo-150k/nz-cemetery-polygons...   \n",
       "31  Asset Directory/lds-new-zealand-17layers-SHP/nz-telephone-centrelines-topo-150k/nz-telephone-cen...   \n",
       "32       Asset Directory/lds-new-zealand-17layers-SHP/nz-pa-points-topo-150k/nz-pa-points-topo-150k.shp   \n",
       "33  Asset Directory/lds-new-zealand-17layers-SHP/nz-windmill-points-topo-150k/nz-windmill-points-top...   \n",
       "34  Asset Directory/lds-new-zealand-17layers-SHP/nz-monument-points-topo-150k/nz-monument-points-top...   \n",
       "35                                                                Asset Directory/DOC/DOC_Campsites.shp   \n",
       "36  Asset Directory/lds-new-zealand-17layers-SHP/nz-historic-site-points-topo-150k/nz-historic-site-...   \n",
       "37  Asset Directory/lds-new-zealand-17layers-SHP/nz-rail-station-points-topo-150k/nz-rail-station-po...   \n",
       "38                                                         Asset Directory/Generation/generation_NZ.shp   \n",
       "39                                                                  Asset Directory/DOC/DOC_Offices.shp   \n",
       "40   Asset Directory/lds-new-zealand-17layers-SHP/nz-well-points-topo-150k/nz-well-points-topo-150k.shp   \n",
       "41  Asset Directory/lds-new-zealand-17layers-SHP/nz-gas-valve-points-topo-150k/nz-gas-valve-points-t...   \n",
       "\n",
       "                                          filename  filesize_GB  \n",
       "0   lucas-nz-land-use-map-1990-2008-2012-2016-v011     1.435426  \n",
       "1                      smap-soil-drainage-dec-2023     0.699233  \n",
       "2                             nz-building-outlines     0.636510  \n",
       "3                          fsl-soil-drainage-class     0.164699  \n",
       "4                   nzlri-land-use-capability-2021     0.164578  \n",
       "5                     DOC_Public_Conservation_Land     0.139802  \n",
       "6                                  protected-areas     0.134675  \n",
       "7                                            roads     0.130881  \n",
       "8                    nz-road-centrelines-topo-150k     0.116422  \n",
       "9                   nz-track-centrelines-topo-150k     0.074558  \n",
       "10                     linz-managed-crown-property     0.041728  \n",
       "11                    nz-walking-and-biking-tracks     0.038141  \n",
       "12                  nz-drain-centrelines-topo-150k     0.006491  \n",
       "13                Internationally_Recognised_Areas     0.004694  \n",
       "14                                  Covenant_Areas     0.003984  \n",
       "15                               nz-geodetic-marks     0.003710  \n",
       "16                                   KiwiRailTrack     0.003440  \n",
       "17       DOC_Sanctuaries_to_Protect_Marine_Mammals     0.003158  \n",
       "18                            Ecological_Districts     0.002513  \n",
       "19                             DOC_Marine_Reserves     0.001981  \n",
       "20              nz-powerline-centrelines-topo-150k     0.001789  \n",
       "21                         nz-railway-centre-lines     0.001587  \n",
       "22                                   nz-facilities     0.000758  \n",
       "23                   Transpower Transmission Lines     0.000558  \n",
       "24         nz-residential-area-polygons-topo-1250k     0.000555  \n",
       "25                                zone_substations     0.000254  \n",
       "26                                            wwtp     0.000209  \n",
       "27                                             wtp     0.000156  \n",
       "28                               CAA NZ_Aerodromes     0.000152  \n",
       "29                   nz-airport-polygons-topo-150k     0.000086  \n",
       "30                  nz-cemetery-polygons-topo-150k     0.000071  \n",
       "31              nz-telephone-centrelines-topo-150k     0.000062  \n",
       "32                          nz-pa-points-topo-150k     0.000060  \n",
       "33                    nz-windmill-points-topo-150k     0.000022  \n",
       "34                    nz-monument-points-topo-150k     0.000008  \n",
       "35                                   DOC_Campsites     0.000008  \n",
       "36               nz-historic-site-points-topo-150k     0.000007  \n",
       "37                nz-rail-station-points-topo-150k     0.000005  \n",
       "38                                   generation_NZ     0.000004  \n",
       "39                                     DOC_Offices     0.000003  \n",
       "40                        nz-well-points-topo-150k     0.000003  \n",
       "41                   nz-gas-valve-points-topo-150k     0.000002  "
      ]
     },
     "execution_count": 2,
     "metadata": {},
     "output_type": "execute_result"
    }
   ],
   "source": [
    "files = pd.DataFrame({\"filepath\": glob(\"Asset Directory/**\", recursive=True)})\n",
    "files = files[files[\"filepath\"].str.endswith((\".shp\", \".zip\", \".gpkg\", \".geojson\"))]\n",
    "files[\"filename\"] = files[\"filepath\"].apply(lambda x: os.path.splitext(os.path.basename(x))[0])\n",
    "files[\"filesize_GB\"] = files[\"filepath\"].apply(lambda x: os.path.getsize(x) / 1e9)\n",
    "files.sort_values(\"filesize_GB\", ascending=False).reset_index(drop=True)"
   ]
  },
  {
   "cell_type": "code",
   "execution_count": 3,
   "metadata": {},
   "outputs": [
    {
     "data": {
      "text/html": [
       "<pre>✔️ 7.72 s (2024-11-08T17:18:57/2024-11-08T17:19:05)</pre>"
      ],
      "text/plain": [
       "<IPython.core.display.HTML object>"
      ]
     },
     "metadata": {},
     "output_type": "display_data"
    },
    {
     "data": {
      "application/vnd.jupyter.widget-view+json": {
       "model_id": "b06d50b4348e46f09135cbb06c1051a6",
       "version_major": 2,
       "version_minor": 0
      },
      "text/plain": [
       "  0%|          | 0/6 [00:00<?, ?it/s]"
      ]
     },
     "metadata": {},
     "output_type": "display_data"
    }
   ],
   "source": [
    "polys = []\n",
    "for f in tqdm(glob(\"Projections/*_polygon.shp\")):\n",
    "  df = gpd.read_file(f)\n",
    "  df.geometry = df.geometry.apply(make_valid)\n",
    "  polys.append(df.union_all())"
   ]
  },
  {
   "cell_type": "code",
   "execution_count": 4,
   "metadata": {},
   "outputs": [
    {
     "data": {
      "text/html": [
       "<pre>✔️ 6 min 24 s (2024-11-08T17:19:05/2024-11-08T17:25:29)</pre>"
      ],
      "text/plain": [
       "<IPython.core.display.HTML object>"
      ]
     },
     "metadata": {},
     "output_type": "display_data"
    },
    {
     "data": {
      "application/vnd.jupyter.widget-view+json": {
       "model_id": "d4ed6002292e43b4a402efd3c10eda54",
       "version_major": 2,
       "version_minor": 0
      },
      "text/plain": [
       "  0%|          | 0/42 [00:00<?, ?it/s]"
      ]
     },
     "metadata": {},
     "output_type": "display_data"
    },
    {
     "name": "stdout",
     "output_type": "stream",
     "text": [
      "Now processing lucas-nz-land-use-map-1990-2008-2012-2016-v011\n",
      "Time to read file: 19.914244413375854\n"
     ]
    },
    {
     "data": {
      "application/vnd.jupyter.widget-view+json": {
       "model_id": "bb5712d0aeff4f4c9a58df6b5e4999ec",
       "version_major": 2,
       "version_minor": 0
      },
      "text/plain": [
       "  0%|          | 0/6 [00:00<?, ?it/s]"
      ]
     },
     "metadata": {},
     "output_type": "display_data"
    },
    {
     "name": "stdout",
     "output_type": "stream",
     "text": [
      "Time to clip: 56.55389451980591\n",
      "Now processing fsl-soil-drainage-class\n",
      "Time to read file: 1.984891653060913\n"
     ]
    },
    {
     "data": {
      "application/vnd.jupyter.widget-view+json": {
       "model_id": "b4eb8fad39ff40e58f86b6fd2fffb8eb",
       "version_major": 2,
       "version_minor": 0
      },
      "text/plain": [
       "  0%|          | 0/6 [00:00<?, ?it/s]"
      ]
     },
     "metadata": {},
     "output_type": "display_data"
    },
    {
     "name": "stdout",
     "output_type": "stream",
     "text": [
      "Time to clip: 11.128540992736816\n",
      "Now processing Transpower Transmission Lines\n",
      "Time to read file: 0.12216687202453613\n"
     ]
    },
    {
     "data": {
      "application/vnd.jupyter.widget-view+json": {
       "model_id": "3d53afa7dfbc40f1bf3663470962b93f",
       "version_major": 2,
       "version_minor": 0
      },
      "text/plain": [
       "  0%|          | 0/6 [00:00<?, ?it/s]"
      ]
     },
     "metadata": {},
     "output_type": "display_data"
    },
    {
     "name": "stdout",
     "output_type": "stream",
     "text": [
      "Time to clip: 0.1674954891204834\n",
      "Now processing generation_NZ\n",
      "Time to read file: 0.01734304428100586\n"
     ]
    },
    {
     "data": {
      "application/vnd.jupyter.widget-view+json": {
       "model_id": "52037de615ef4728a1ba9874cac6c759",
       "version_major": 2,
       "version_minor": 0
      },
      "text/plain": [
       "  0%|          | 0/6 [00:00<?, ?it/s]"
      ]
     },
     "metadata": {},
     "output_type": "display_data"
    },
    {
     "name": "stdout",
     "output_type": "stream",
     "text": [
      "Time to clip: 0.013165712356567383\n",
      "Now processing wwtp\n",
      "Time to read file: 0.012978553771972656\n"
     ]
    },
    {
     "data": {
      "application/vnd.jupyter.widget-view+json": {
       "model_id": "dbf849f42d674ca48b5df390fb14517f",
       "version_major": 2,
       "version_minor": 0
      },
      "text/plain": [
       "  0%|          | 0/6 [00:00<?, ?it/s]"
      ]
     },
     "metadata": {},
     "output_type": "display_data"
    },
    {
     "name": "stdout",
     "output_type": "stream",
     "text": [
      "Time to clip: 0.04761457443237305\n",
      "Now processing wtp\n",
      "Time to read file: 0.009291410446166992\n"
     ]
    },
    {
     "data": {
      "application/vnd.jupyter.widget-view+json": {
       "model_id": "2829ebd0b3e14b339bc8939af5191a4f",
       "version_major": 2,
       "version_minor": 0
      },
      "text/plain": [
       "  0%|          | 0/6 [00:00<?, ?it/s]"
      ]
     },
     "metadata": {},
     "output_type": "display_data"
    },
    {
     "name": "stdout",
     "output_type": "stream",
     "text": [
      "Time to clip: 0.08656501770019531\n",
      "Now processing DOC_Marine_Reserves\n",
      "Time to read file: 0.015130758285522461\n"
     ]
    },
    {
     "data": {
      "application/vnd.jupyter.widget-view+json": {
       "model_id": "c0620345fe664cc6af4313cbca29c4a7",
       "version_major": 2,
       "version_minor": 0
      },
      "text/plain": [
       "  0%|          | 0/6 [00:00<?, ?it/s]"
      ]
     },
     "metadata": {},
     "output_type": "display_data"
    },
    {
     "name": "stdout",
     "output_type": "stream",
     "text": [
      "Time to clip: 0.2042217254638672\n",
      "Now processing Ecological_Districts\n",
      "Time to read file: 0.013993501663208008\n"
     ]
    },
    {
     "data": {
      "application/vnd.jupyter.widget-view+json": {
       "model_id": "d7c42c8ebdb04790abebd7cf2e51a7d6",
       "version_major": 2,
       "version_minor": 0
      },
      "text/plain": [
       "  0%|          | 0/6 [00:00<?, ?it/s]"
      ]
     },
     "metadata": {},
     "output_type": "display_data"
    },
    {
     "name": "stdout",
     "output_type": "stream",
     "text": [
      "Time to clip: 1.0715651512145996\n",
      "Now processing Internationally_Recognised_Areas\n",
      "Time to read file: 0.02216482162475586\n"
     ]
    },
    {
     "name": "stderr",
     "output_type": "stream",
     "text": [
      "/home/nyou045/.local/lib/python3.12/site-packages/pyogrio/raw.py:198: RuntimeWarning: Asset Directory/DOC/Internationally_Recognised_Areas.shp contains polygon(s) with rings with invalid winding order. Autocorrecting them, but that shapefile should be corrected using ogr2ogr for example.\n",
      "  return ogr_read(\n"
     ]
    },
    {
     "data": {
      "application/vnd.jupyter.widget-view+json": {
       "model_id": "8fdfe1ed299f4678910409d409881961",
       "version_major": 2,
       "version_minor": 0
      },
      "text/plain": [
       "  0%|          | 0/6 [00:00<?, ?it/s]"
      ]
     },
     "metadata": {},
     "output_type": "display_data"
    },
    {
     "name": "stdout",
     "output_type": "stream",
     "text": [
      "Time to clip: 0.35453128814697266\n",
      "Now processing DOC_Sanctuaries_to_Protect_Marine_Mammals\n",
      "Time to read file: 0.06640911102294922\n"
     ]
    },
    {
     "data": {
      "application/vnd.jupyter.widget-view+json": {
       "model_id": "337f541d4d9942909b78a0ce70953036",
       "version_major": 2,
       "version_minor": 0
      },
      "text/plain": [
       "  0%|          | 0/6 [00:00<?, ?it/s]"
      ]
     },
     "metadata": {},
     "output_type": "display_data"
    },
    {
     "name": "stdout",
     "output_type": "stream",
     "text": [
      "Time to clip: 0.5051243305206299\n",
      "Now processing Covenant_Areas\n",
      "Time to read file: 0.03720235824584961\n"
     ]
    },
    {
     "data": {
      "application/vnd.jupyter.widget-view+json": {
       "model_id": "db8a6e56f394451fa1e7e7d296f23d04",
       "version_major": 2,
       "version_minor": 0
      },
      "text/plain": [
       "  0%|          | 0/6 [00:00<?, ?it/s]"
      ]
     },
     "metadata": {},
     "output_type": "display_data"
    },
    {
     "name": "stdout",
     "output_type": "stream",
     "text": [
      "Time to clip: 0.20194339752197266\n",
      "Now processing DOC_Campsites\n",
      "Time to read file: 0.015691280364990234\n"
     ]
    },
    {
     "data": {
      "application/vnd.jupyter.widget-view+json": {
       "model_id": "9a4d934f8f614a34aad1e1a124cb6938",
       "version_major": 2,
       "version_minor": 0
      },
      "text/plain": [
       "  0%|          | 0/6 [00:00<?, ?it/s]"
      ]
     },
     "metadata": {},
     "output_type": "display_data"
    },
    {
     "name": "stdout",
     "output_type": "stream",
     "text": [
      "Time to clip: 0.04358959197998047\n",
      "Now processing DOC_Public_Conservation_Land\n",
      "Time to read file: 0.4946315288543701\n"
     ]
    },
    {
     "data": {
      "application/vnd.jupyter.widget-view+json": {
       "model_id": "4dcf051c5fe1443a8173e5bcc18854d7",
       "version_major": 2,
       "version_minor": 0
      },
      "text/plain": [
       "  0%|          | 0/6 [00:00<?, ?it/s]"
      ]
     },
     "metadata": {},
     "output_type": "display_data"
    },
    {
     "name": "stdout",
     "output_type": "stream",
     "text": [
      "Time to clip: 4.459415674209595\n",
      "Now processing DOC_Offices\n",
      "Time to read file: 0.024646282196044922\n"
     ]
    },
    {
     "data": {
      "application/vnd.jupyter.widget-view+json": {
       "model_id": "26b616c7ced245cda61da2ae427b40e1",
       "version_major": 2,
       "version_minor": 0
      },
      "text/plain": [
       "  0%|          | 0/6 [00:00<?, ?it/s]"
      ]
     },
     "metadata": {},
     "output_type": "display_data"
    },
    {
     "name": "stdout",
     "output_type": "stream",
     "text": [
      "Time to clip: 0.05030655860900879\n",
      "Now processing CAA NZ_Aerodromes\n",
      "Time to read file: 0.009538650512695312\n"
     ]
    },
    {
     "data": {
      "application/vnd.jupyter.widget-view+json": {
       "model_id": "a38416d6723643a5a51296d8f8afce10",
       "version_major": 2,
       "version_minor": 0
      },
      "text/plain": [
       "  0%|          | 0/6 [00:00<?, ?it/s]"
      ]
     },
     "metadata": {},
     "output_type": "display_data"
    },
    {
     "name": "stdout",
     "output_type": "stream",
     "text": [
      "Time to clip: 0.012000560760498047\n",
      "Now processing roads\n"
     ]
    },
    {
     "name": "stderr",
     "output_type": "stream",
     "text": [
      "/tmp/ipykernel_119653/858360715.py:10: UserWarning: Geometry is in a geographic CRS. Results from 'area' are likely incorrect. Use 'GeoSeries.to_crs()' to re-project geometries to a projected CRS before this operation.\n",
      "\n",
      "  clipped_asset[\"affected_area\"] = clipped_asset.area\n",
      "/tmp/ipykernel_119653/858360715.py:11: UserWarning: Geometry is in a geographic CRS. Results from 'length' are likely incorrect. Use 'GeoSeries.to_crs()' to re-project geometries to a projected CRS before this operation.\n",
      "\n",
      "  clipped_asset[\"affected_length\"] = clipped_asset.length\n"
     ]
    },
    {
     "name": "stdout",
     "output_type": "stream",
     "text": [
      "Time to read file: 5.112527370452881\n"
     ]
    },
    {
     "data": {
      "application/vnd.jupyter.widget-view+json": {
       "model_id": "321ed502ecf04e319c15f3d14fbb2376",
       "version_major": 2,
       "version_minor": 0
      },
      "text/plain": [
       "  0%|          | 0/6 [00:00<?, ?it/s]"
      ]
     },
     "metadata": {},
     "output_type": "display_data"
    },
    {
     "name": "stdout",
     "output_type": "stream",
     "text": [
      "Time to clip: 1.4560904502868652\n",
      "Now processing KiwiRailTrack\n",
      "Time to read file: 0.2120358943939209\n"
     ]
    },
    {
     "data": {
      "application/vnd.jupyter.widget-view+json": {
       "model_id": "00ab1ed0b5f24f05bf199110ac224d1b",
       "version_major": 2,
       "version_minor": 0
      },
      "text/plain": [
       "  0%|          | 0/6 [00:00<?, ?it/s]"
      ]
     },
     "metadata": {},
     "output_type": "display_data"
    },
    {
     "name": "stdout",
     "output_type": "stream",
     "text": [
      "Time to clip: 0.023755550384521484\n",
      "Now processing zone_substations\n",
      "Time to read file: 0.018160104751586914\n"
     ]
    },
    {
     "data": {
      "application/vnd.jupyter.widget-view+json": {
       "model_id": "7644862962c64467a76166db76e5285f",
       "version_major": 2,
       "version_minor": 0
      },
      "text/plain": [
       "  0%|          | 0/6 [00:00<?, ?it/s]"
      ]
     },
     "metadata": {},
     "output_type": "display_data"
    },
    {
     "name": "stdout",
     "output_type": "stream",
     "text": [
      "Time to clip: 0.0439603328704834\n",
      "Now processing nz-powerline-centrelines-topo-150k\n",
      "Time to read file: 0.03439211845397949\n"
     ]
    },
    {
     "data": {
      "application/vnd.jupyter.widget-view+json": {
       "model_id": "06acbfb8e4784415ada823f2d72c5ea7",
       "version_major": 2,
       "version_minor": 0
      },
      "text/plain": [
       "  0%|          | 0/6 [00:00<?, ?it/s]"
      ]
     },
     "metadata": {},
     "output_type": "display_data"
    },
    {
     "name": "stdout",
     "output_type": "stream",
     "text": [
      "Time to clip: 0.11710476875305176\n",
      "Now processing nz-cemetery-polygons-topo-150k\n",
      "Time to read file: 0.009870290756225586\n"
     ]
    },
    {
     "data": {
      "application/vnd.jupyter.widget-view+json": {
       "model_id": "59d652de501a45d690367eae4f21e2f1",
       "version_major": 2,
       "version_minor": 0
      },
      "text/plain": [
       "  0%|          | 0/6 [00:00<?, ?it/s]"
      ]
     },
     "metadata": {},
     "output_type": "display_data"
    },
    {
     "name": "stdout",
     "output_type": "stream",
     "text": [
      "Time to clip: 0.08675980567932129\n",
      "Now processing nz-railway-centre-lines\n",
      "Time to read file: 0.01394796371459961\n"
     ]
    },
    {
     "data": {
      "application/vnd.jupyter.widget-view+json": {
       "model_id": "b42268e1b65c4a24be637a497258d918",
       "version_major": 2,
       "version_minor": 0
      },
      "text/plain": [
       "  0%|          | 0/6 [00:00<?, ?it/s]"
      ]
     },
     "metadata": {},
     "output_type": "display_data"
    },
    {
     "name": "stdout",
     "output_type": "stream",
     "text": [
      "Time to clip: 0.26849961280822754\n",
      "Now processing nz-drain-centrelines-topo-150k\n",
      "Time to read file: 0.1954195499420166\n"
     ]
    },
    {
     "data": {
      "application/vnd.jupyter.widget-view+json": {
       "model_id": "fb08a82633df469bb977677b5ac88589",
       "version_major": 2,
       "version_minor": 0
      },
      "text/plain": [
       "  0%|          | 0/6 [00:00<?, ?it/s]"
      ]
     },
     "metadata": {},
     "output_type": "display_data"
    },
    {
     "name": "stdout",
     "output_type": "stream",
     "text": [
      "Time to clip: 0.7017560005187988\n",
      "Now processing nz-historic-site-points-topo-150k\n",
      "Time to read file: 0.01779961585998535\n"
     ]
    },
    {
     "data": {
      "application/vnd.jupyter.widget-view+json": {
       "model_id": "e2337c800c1f4aed81a6a1510eca38bf",
       "version_major": 2,
       "version_minor": 0
      },
      "text/plain": [
       "  0%|          | 0/6 [00:00<?, ?it/s]"
      ]
     },
     "metadata": {},
     "output_type": "display_data"
    },
    {
     "name": "stdout",
     "output_type": "stream",
     "text": [
      "Time to clip: 0.052088260650634766\n",
      "Now processing nz-road-centrelines-topo-150k\n",
      "Time to read file: 1.4016504287719727\n"
     ]
    },
    {
     "data": {
      "application/vnd.jupyter.widget-view+json": {
       "model_id": "7e3f4bfe18c841ddb717ed9b67fc6950",
       "version_major": 2,
       "version_minor": 0
      },
      "text/plain": [
       "  0%|          | 0/6 [00:00<?, ?it/s]"
      ]
     },
     "metadata": {},
     "output_type": "display_data"
    },
    {
     "name": "stdout",
     "output_type": "stream",
     "text": [
      "Time to clip: 1.6201987266540527\n",
      "Now processing nz-telephone-centrelines-topo-150k\n",
      "Time to read file: 0.06701159477233887\n"
     ]
    },
    {
     "data": {
      "application/vnd.jupyter.widget-view+json": {
       "model_id": "40d3fa3a13de403291b586786e8d540a",
       "version_major": 2,
       "version_minor": 0
      },
      "text/plain": [
       "  0%|          | 0/6 [00:00<?, ?it/s]"
      ]
     },
     "metadata": {},
     "output_type": "display_data"
    },
    {
     "name": "stdout",
     "output_type": "stream",
     "text": [
      "Time to clip: 0.08217144012451172\n",
      "Now processing linz-managed-crown-property\n",
      "Time to read file: 0.1572740077972412\n"
     ]
    },
    {
     "data": {
      "application/vnd.jupyter.widget-view+json": {
       "model_id": "e958639dae7f40049c86fb148fddc321",
       "version_major": 2,
       "version_minor": 0
      },
      "text/plain": [
       "  0%|          | 0/6 [00:00<?, ?it/s]"
      ]
     },
     "metadata": {},
     "output_type": "display_data"
    },
    {
     "name": "stdout",
     "output_type": "stream",
     "text": [
      "Time to clip: 0.9313435554504395\n",
      "Now processing nz-geodetic-marks\n",
      "Time to read file: 1.3836634159088135\n"
     ]
    },
    {
     "data": {
      "application/vnd.jupyter.widget-view+json": {
       "model_id": "23aa164e0474446a9dead1df811a6984",
       "version_major": 2,
       "version_minor": 0
      },
      "text/plain": [
       "  0%|          | 0/6 [00:00<?, ?it/s]"
      ]
     },
     "metadata": {},
     "output_type": "display_data"
    },
    {
     "name": "stdout",
     "output_type": "stream",
     "text": [
      "Time to clip: 0.1825573444366455\n",
      "Now processing nz-well-points-topo-150k\n",
      "Time to read file: 0.048633575439453125\n"
     ]
    },
    {
     "data": {
      "application/vnd.jupyter.widget-view+json": {
       "model_id": "aca75dddf34446968c1bf2ee6fb02a75",
       "version_major": 2,
       "version_minor": 0
      },
      "text/plain": [
       "  0%|          | 0/6 [00:00<?, ?it/s]"
      ]
     },
     "metadata": {},
     "output_type": "display_data"
    },
    {
     "name": "stdout",
     "output_type": "stream",
     "text": [
      "Time to clip: 0.04534435272216797\n",
      "Now processing nz-facilities\n",
      "Time to read file: 0.038208961486816406\n"
     ]
    },
    {
     "data": {
      "application/vnd.jupyter.widget-view+json": {
       "model_id": "cbda5f68f09a4f45b5bd86e184e9f644",
       "version_major": 2,
       "version_minor": 0
      },
      "text/plain": [
       "  0%|          | 0/6 [00:00<?, ?it/s]"
      ]
     },
     "metadata": {},
     "output_type": "display_data"
    },
    {
     "name": "stdout",
     "output_type": "stream",
     "text": [
      "Time to clip: 0.20604252815246582\n",
      "Now processing nz-residential-area-polygons-topo-1250k\n",
      "Time to read file: 0.013666152954101562\n"
     ]
    },
    {
     "data": {
      "application/vnd.jupyter.widget-view+json": {
       "model_id": "6e8967ce5a5a4068a196a9585000ec03",
       "version_major": 2,
       "version_minor": 0
      },
      "text/plain": [
       "  0%|          | 0/6 [00:00<?, ?it/s]"
      ]
     },
     "metadata": {},
     "output_type": "display_data"
    },
    {
     "name": "stdout",
     "output_type": "stream",
     "text": [
      "Time to clip: 0.3978614807128906\n",
      "Now processing nz-track-centrelines-topo-150k\n",
      "Time to read file: 0.6844124794006348\n"
     ]
    },
    {
     "data": {
      "application/vnd.jupyter.widget-view+json": {
       "model_id": "458c4d6a706545ed8790857d4720b338",
       "version_major": 2,
       "version_minor": 0
      },
      "text/plain": [
       "  0%|          | 0/6 [00:00<?, ?it/s]"
      ]
     },
     "metadata": {},
     "output_type": "display_data"
    },
    {
     "name": "stdout",
     "output_type": "stream",
     "text": [
      "Time to clip: 1.354555368423462\n",
      "Now processing nz-monument-points-topo-150k\n",
      "Time to read file: 0.041605234146118164\n"
     ]
    },
    {
     "data": {
      "application/vnd.jupyter.widget-view+json": {
       "model_id": "cad9a2e9447e4a9ca117f4d9df16b658",
       "version_major": 2,
       "version_minor": 0
      },
      "text/plain": [
       "  0%|          | 0/6 [00:00<?, ?it/s]"
      ]
     },
     "metadata": {},
     "output_type": "display_data"
    },
    {
     "name": "stdout",
     "output_type": "stream",
     "text": [
      "Time to clip: 0.0451202392578125\n",
      "Now processing nz-building-outlines\n",
      "Time to read file: 48.44593262672424\n"
     ]
    },
    {
     "data": {
      "application/vnd.jupyter.widget-view+json": {
       "model_id": "47a49161ef554ba390430134bab4287f",
       "version_major": 2,
       "version_minor": 0
      },
      "text/plain": [
       "  0%|          | 0/6 [00:00<?, ?it/s]"
      ]
     },
     "metadata": {},
     "output_type": "display_data"
    },
    {
     "name": "stdout",
     "output_type": "stream",
     "text": [
      "Time to clip: 160.12586331367493\n",
      "Now processing nz-pa-points-topo-150k\n",
      "Time to read file: 1.94065260887146\n"
     ]
    },
    {
     "data": {
      "application/vnd.jupyter.widget-view+json": {
       "model_id": "2a38591e564144c7a9d3e06ead9c1f01",
       "version_major": 2,
       "version_minor": 0
      },
      "text/plain": [
       "  0%|          | 0/6 [00:00<?, ?it/s]"
      ]
     },
     "metadata": {},
     "output_type": "display_data"
    },
    {
     "name": "stdout",
     "output_type": "stream",
     "text": [
      "Time to clip: 0.09018254280090332\n",
      "Now processing nz-rail-station-points-topo-150k\n",
      "Time to read file: 0.00782465934753418\n"
     ]
    },
    {
     "data": {
      "application/vnd.jupyter.widget-view+json": {
       "model_id": "f6620b202b7a401a9e9d7717ff26f7da",
       "version_major": 2,
       "version_minor": 0
      },
      "text/plain": [
       "  0%|          | 0/6 [00:00<?, ?it/s]"
      ]
     },
     "metadata": {},
     "output_type": "display_data"
    },
    {
     "name": "stdout",
     "output_type": "stream",
     "text": [
      "Time to clip: 0.04216170310974121\n",
      "Now processing nz-airport-polygons-topo-150k\n",
      "Time to read file: 0.008745908737182617\n"
     ]
    },
    {
     "data": {
      "application/vnd.jupyter.widget-view+json": {
       "model_id": "f5579c4d3b0a4b4f8f6e236d04128ce2",
       "version_major": 2,
       "version_minor": 0
      },
      "text/plain": [
       "  0%|          | 0/6 [00:00<?, ?it/s]"
      ]
     },
     "metadata": {},
     "output_type": "display_data"
    },
    {
     "name": "stdout",
     "output_type": "stream",
     "text": [
      "Time to clip: 0.09490036964416504\n",
      "Now processing nz-gas-valve-points-topo-150k\n",
      "Time to read file: 0.006829738616943359\n"
     ]
    },
    {
     "data": {
      "application/vnd.jupyter.widget-view+json": {
       "model_id": "a0a1504a31c342da8627714138d8e18e",
       "version_major": 2,
       "version_minor": 0
      },
      "text/plain": [
       "  0%|          | 0/6 [00:00<?, ?it/s]"
      ]
     },
     "metadata": {},
     "output_type": "display_data"
    },
    {
     "name": "stdout",
     "output_type": "stream",
     "text": [
      "Time to clip: 0.029477596282958984\n",
      "Now processing nz-windmill-points-topo-150k\n",
      "Time to read file: 0.010226726531982422\n"
     ]
    },
    {
     "data": {
      "application/vnd.jupyter.widget-view+json": {
       "model_id": "ca9755723a85469ea1803a5106811df9",
       "version_major": 2,
       "version_minor": 0
      },
      "text/plain": [
       "  0%|          | 0/6 [00:00<?, ?it/s]"
      ]
     },
     "metadata": {},
     "output_type": "display_data"
    },
    {
     "name": "stdout",
     "output_type": "stream",
     "text": [
      "Time to clip: 0.04091835021972656\n",
      "Now processing protected-areas\n",
      "Time to read file: 0.8147027492523193\n"
     ]
    },
    {
     "data": {
      "application/vnd.jupyter.widget-view+json": {
       "model_id": "3f5f51423e1645bdb328b273c39e7af7",
       "version_major": 2,
       "version_minor": 0
      },
      "text/plain": [
       "  0%|          | 0/6 [00:00<?, ?it/s]"
      ]
     },
     "metadata": {},
     "output_type": "display_data"
    },
    {
     "name": "stdout",
     "output_type": "stream",
     "text": [
      "Time to clip: 6.653834581375122\n",
      "Now processing nz-walking-and-biking-tracks\n",
      "Time to read file: 0.5956933498382568\n"
     ]
    },
    {
     "data": {
      "application/vnd.jupyter.widget-view+json": {
       "model_id": "dbb688980d024f938d88247ea277613e",
       "version_major": 2,
       "version_minor": 0
      },
      "text/plain": [
       "  0%|          | 0/6 [00:00<?, ?it/s]"
      ]
     },
     "metadata": {},
     "output_type": "display_data"
    },
    {
     "name": "stdout",
     "output_type": "stream",
     "text": [
      "Time to clip: 2.433502674102783\n",
      "Now processing smap-soil-drainage-dec-2023\n"
     ]
    },
    {
     "name": "stderr",
     "output_type": "stream",
     "text": [
      "IOStream.flush timed out\n"
     ]
    },
    {
     "name": "stdout",
     "output_type": "stream",
     "text": [
      "Time to read file: 16.471911430358887\n"
     ]
    },
    {
     "data": {
      "application/vnd.jupyter.widget-view+json": {
       "model_id": "146ff4d7e6a54c659d1b3ffc38b4caf7",
       "version_major": 2,
       "version_minor": 0
      },
      "text/plain": [
       "  0%|          | 0/6 [00:00<?, ?it/s]"
      ]
     },
     "metadata": {},
     "output_type": "display_data"
    },
    {
     "name": "stdout",
     "output_type": "stream",
     "text": [
      "Time to clip: 14.167056322097778\n",
      "Now processing nzlri-land-use-capability-2021\n",
      "Time to read file: 4.651247024536133\n"
     ]
    },
    {
     "data": {
      "application/vnd.jupyter.widget-view+json": {
       "model_id": "109eee99cfe1481792034c38f2e06b95",
       "version_major": 2,
       "version_minor": 0
      },
      "text/plain": [
       "  0%|          | 0/6 [00:00<?, ?it/s]"
      ]
     },
     "metadata": {},
     "output_type": "display_data"
    },
    {
     "name": "stdout",
     "output_type": "stream",
     "text": [
      "Time to clip: 10.393149852752686\n"
     ]
    }
   ],
   "source": [
    "os.unlink(\"affected_assets.gpkg\")\n",
    "for row in tqdm(files.itertuples(index=False), total=len(files)):\n",
    "  print(f\"Now processing {row.filename}\")\n",
    "  start = time.time()\n",
    "  asset = gpd.read_file(row.filepath)#, engine=\"pyogrio\", use_arrow=True)\n",
    "  print(f\"Time to read file: {time.time() - start}\")\n",
    "  start = time.time()\n",
    "  clipped_asset = pd.concat(gpd.clip(asset, poly) for poly in tqdm(polys))\n",
    "  print(f\"Time to clip: {time.time() - start}\")\n",
    "  clipped_asset[\"affected_area\"] = clipped_asset.area\n",
    "  clipped_asset[\"affected_length\"] = clipped_asset.length\n",
    "  clipped_asset.to_file(\"affected_assets.gpkg\", layer=row.filename, driver='GPKG')"
   ]
  },
  {
   "cell_type": "code",
   "execution_count": 5,
   "metadata": {},
   "outputs": [
    {
     "data": {
      "text/html": [
       "<pre>✔️ 26.3 ms (2024-11-08T17:25:29/2024-11-08T17:25:29)</pre>"
      ],
      "text/plain": [
       "<IPython.core.display.HTML object>"
      ]
     },
     "metadata": {},
     "output_type": "display_data"
    },
    {
     "data": {
      "text/html": [
       "<div>\n",
       "<style scoped>\n",
       "    .dataframe tbody tr th:only-of-type {\n",
       "        vertical-align: middle;\n",
       "    }\n",
       "\n",
       "    .dataframe tbody tr th {\n",
       "        vertical-align: top;\n",
       "    }\n",
       "\n",
       "    .dataframe thead th {\n",
       "        text-align: right;\n",
       "    }\n",
       "</style>\n",
       "<table border=\"1\" class=\"dataframe\">\n",
       "  <thead>\n",
       "    <tr style=\"text-align: right;\">\n",
       "      <th></th>\n",
       "      <th>name</th>\n",
       "      <th>geometry_type</th>\n",
       "    </tr>\n",
       "  </thead>\n",
       "  <tbody>\n",
       "    <tr>\n",
       "      <th>0</th>\n",
       "      <td>lucas-nz-land-use-map-1990-2008-2012-2016-v011</td>\n",
       "      <td>MultiPolygon</td>\n",
       "    </tr>\n",
       "    <tr>\n",
       "      <th>1</th>\n",
       "      <td>fsl-soil-drainage-class</td>\n",
       "      <td>MultiPolygon</td>\n",
       "    </tr>\n",
       "    <tr>\n",
       "      <th>2</th>\n",
       "      <td>Transpower Transmission Lines</td>\n",
       "      <td>Unknown</td>\n",
       "    </tr>\n",
       "    <tr>\n",
       "      <th>3</th>\n",
       "      <td>generation_NZ</td>\n",
       "      <td>Unknown</td>\n",
       "    </tr>\n",
       "    <tr>\n",
       "      <th>4</th>\n",
       "      <td>wwtp</td>\n",
       "      <td>Unknown</td>\n",
       "    </tr>\n",
       "    <tr>\n",
       "      <th>5</th>\n",
       "      <td>wtp</td>\n",
       "      <td>Unknown</td>\n",
       "    </tr>\n",
       "    <tr>\n",
       "      <th>6</th>\n",
       "      <td>DOC_Marine_Reserves</td>\n",
       "      <td>MultiPolygon</td>\n",
       "    </tr>\n",
       "    <tr>\n",
       "      <th>7</th>\n",
       "      <td>Ecological_Districts</td>\n",
       "      <td>MultiPolygon</td>\n",
       "    </tr>\n",
       "    <tr>\n",
       "      <th>8</th>\n",
       "      <td>Internationally_Recognised_Areas</td>\n",
       "      <td>MultiPolygon</td>\n",
       "    </tr>\n",
       "    <tr>\n",
       "      <th>9</th>\n",
       "      <td>DOC_Sanctuaries_to_Protect_Marine_Mammals</td>\n",
       "      <td>MultiPolygon</td>\n",
       "    </tr>\n",
       "    <tr>\n",
       "      <th>10</th>\n",
       "      <td>Covenant_Areas</td>\n",
       "      <td>MultiPolygon</td>\n",
       "    </tr>\n",
       "    <tr>\n",
       "      <th>11</th>\n",
       "      <td>DOC_Campsites</td>\n",
       "      <td>Point</td>\n",
       "    </tr>\n",
       "    <tr>\n",
       "      <th>12</th>\n",
       "      <td>DOC_Public_Conservation_Land</td>\n",
       "      <td>MultiPolygon</td>\n",
       "    </tr>\n",
       "    <tr>\n",
       "      <th>13</th>\n",
       "      <td>DOC_Offices</td>\n",
       "      <td>Unknown</td>\n",
       "    </tr>\n",
       "    <tr>\n",
       "      <th>14</th>\n",
       "      <td>CAA NZ_Aerodromes</td>\n",
       "      <td>Unknown</td>\n",
       "    </tr>\n",
       "    <tr>\n",
       "      <th>15</th>\n",
       "      <td>roads</td>\n",
       "      <td>MultiLineString Z</td>\n",
       "    </tr>\n",
       "    <tr>\n",
       "      <th>16</th>\n",
       "      <td>KiwiRailTrack</td>\n",
       "      <td>Unknown</td>\n",
       "    </tr>\n",
       "    <tr>\n",
       "      <th>17</th>\n",
       "      <td>zone_substations</td>\n",
       "      <td>Unknown</td>\n",
       "    </tr>\n",
       "    <tr>\n",
       "      <th>18</th>\n",
       "      <td>nz-powerline-centrelines-topo-150k</td>\n",
       "      <td>MultiLineString</td>\n",
       "    </tr>\n",
       "    <tr>\n",
       "      <th>19</th>\n",
       "      <td>nz-cemetery-polygons-topo-150k</td>\n",
       "      <td>Unknown</td>\n",
       "    </tr>\n",
       "    <tr>\n",
       "      <th>20</th>\n",
       "      <td>nz-railway-centre-lines</td>\n",
       "      <td>MultiLineString</td>\n",
       "    </tr>\n",
       "    <tr>\n",
       "      <th>21</th>\n",
       "      <td>nz-drain-centrelines-topo-150k</td>\n",
       "      <td>MultiLineString</td>\n",
       "    </tr>\n",
       "    <tr>\n",
       "      <th>22</th>\n",
       "      <td>nz-historic-site-points-topo-150k</td>\n",
       "      <td>Point</td>\n",
       "    </tr>\n",
       "    <tr>\n",
       "      <th>23</th>\n",
       "      <td>nz-road-centrelines-topo-150k</td>\n",
       "      <td>MultiLineString</td>\n",
       "    </tr>\n",
       "    <tr>\n",
       "      <th>24</th>\n",
       "      <td>nz-telephone-centrelines-topo-150k</td>\n",
       "      <td>Unknown</td>\n",
       "    </tr>\n",
       "    <tr>\n",
       "      <th>25</th>\n",
       "      <td>linz-managed-crown-property</td>\n",
       "      <td>MultiPolygon</td>\n",
       "    </tr>\n",
       "    <tr>\n",
       "      <th>26</th>\n",
       "      <td>nz-geodetic-marks</td>\n",
       "      <td>Point</td>\n",
       "    </tr>\n",
       "    <tr>\n",
       "      <th>27</th>\n",
       "      <td>nz-well-points-topo-150k</td>\n",
       "      <td>Unknown</td>\n",
       "    </tr>\n",
       "    <tr>\n",
       "      <th>28</th>\n",
       "      <td>nz-facilities</td>\n",
       "      <td>Polygon</td>\n",
       "    </tr>\n",
       "    <tr>\n",
       "      <th>29</th>\n",
       "      <td>nz-residential-area-polygons-topo-1250k</td>\n",
       "      <td>MultiPolygon</td>\n",
       "    </tr>\n",
       "    <tr>\n",
       "      <th>30</th>\n",
       "      <td>nz-track-centrelines-topo-150k</td>\n",
       "      <td>MultiLineString</td>\n",
       "    </tr>\n",
       "    <tr>\n",
       "      <th>31</th>\n",
       "      <td>nz-monument-points-topo-150k</td>\n",
       "      <td>Point</td>\n",
       "    </tr>\n",
       "    <tr>\n",
       "      <th>32</th>\n",
       "      <td>nz-building-outlines</td>\n",
       "      <td>MultiPolygon</td>\n",
       "    </tr>\n",
       "    <tr>\n",
       "      <th>33</th>\n",
       "      <td>nz-pa-points-topo-150k</td>\n",
       "      <td>Point</td>\n",
       "    </tr>\n",
       "    <tr>\n",
       "      <th>34</th>\n",
       "      <td>nz-rail-station-points-topo-150k</td>\n",
       "      <td>Unknown</td>\n",
       "    </tr>\n",
       "    <tr>\n",
       "      <th>35</th>\n",
       "      <td>nz-airport-polygons-topo-150k</td>\n",
       "      <td>MultiPolygon</td>\n",
       "    </tr>\n",
       "    <tr>\n",
       "      <th>36</th>\n",
       "      <td>nz-gas-valve-points-topo-150k</td>\n",
       "      <td>Unknown</td>\n",
       "    </tr>\n",
       "    <tr>\n",
       "      <th>37</th>\n",
       "      <td>nz-windmill-points-topo-150k</td>\n",
       "      <td>Unknown</td>\n",
       "    </tr>\n",
       "    <tr>\n",
       "      <th>38</th>\n",
       "      <td>protected-areas</td>\n",
       "      <td>MultiPolygon</td>\n",
       "    </tr>\n",
       "    <tr>\n",
       "      <th>39</th>\n",
       "      <td>nz-walking-and-biking-tracks</td>\n",
       "      <td>MultiLineString</td>\n",
       "    </tr>\n",
       "    <tr>\n",
       "      <th>40</th>\n",
       "      <td>smap-soil-drainage-dec-2023</td>\n",
       "      <td>MultiPolygon</td>\n",
       "    </tr>\n",
       "    <tr>\n",
       "      <th>41</th>\n",
       "      <td>nzlri-land-use-capability-2021</td>\n",
       "      <td>MultiPolygon</td>\n",
       "    </tr>\n",
       "  </tbody>\n",
       "</table>\n",
       "</div>"
      ],
      "text/plain": [
       "                                              name      geometry_type\n",
       "0   lucas-nz-land-use-map-1990-2008-2012-2016-v011       MultiPolygon\n",
       "1                          fsl-soil-drainage-class       MultiPolygon\n",
       "2                    Transpower Transmission Lines            Unknown\n",
       "3                                    generation_NZ            Unknown\n",
       "4                                             wwtp            Unknown\n",
       "5                                              wtp            Unknown\n",
       "6                              DOC_Marine_Reserves       MultiPolygon\n",
       "7                             Ecological_Districts       MultiPolygon\n",
       "8                 Internationally_Recognised_Areas       MultiPolygon\n",
       "9        DOC_Sanctuaries_to_Protect_Marine_Mammals       MultiPolygon\n",
       "10                                  Covenant_Areas       MultiPolygon\n",
       "11                                   DOC_Campsites              Point\n",
       "12                    DOC_Public_Conservation_Land       MultiPolygon\n",
       "13                                     DOC_Offices            Unknown\n",
       "14                               CAA NZ_Aerodromes            Unknown\n",
       "15                                           roads  MultiLineString Z\n",
       "16                                   KiwiRailTrack            Unknown\n",
       "17                                zone_substations            Unknown\n",
       "18              nz-powerline-centrelines-topo-150k    MultiLineString\n",
       "19                  nz-cemetery-polygons-topo-150k            Unknown\n",
       "20                         nz-railway-centre-lines    MultiLineString\n",
       "21                  nz-drain-centrelines-topo-150k    MultiLineString\n",
       "22               nz-historic-site-points-topo-150k              Point\n",
       "23                   nz-road-centrelines-topo-150k    MultiLineString\n",
       "24              nz-telephone-centrelines-topo-150k            Unknown\n",
       "25                     linz-managed-crown-property       MultiPolygon\n",
       "26                               nz-geodetic-marks              Point\n",
       "27                        nz-well-points-topo-150k            Unknown\n",
       "28                                   nz-facilities            Polygon\n",
       "29         nz-residential-area-polygons-topo-1250k       MultiPolygon\n",
       "30                  nz-track-centrelines-topo-150k    MultiLineString\n",
       "31                    nz-monument-points-topo-150k              Point\n",
       "32                            nz-building-outlines       MultiPolygon\n",
       "33                          nz-pa-points-topo-150k              Point\n",
       "34                nz-rail-station-points-topo-150k            Unknown\n",
       "35                   nz-airport-polygons-topo-150k       MultiPolygon\n",
       "36                   nz-gas-valve-points-topo-150k            Unknown\n",
       "37                    nz-windmill-points-topo-150k            Unknown\n",
       "38                                 protected-areas       MultiPolygon\n",
       "39                    nz-walking-and-biking-tracks    MultiLineString\n",
       "40                     smap-soil-drainage-dec-2023       MultiPolygon\n",
       "41                  nzlri-land-use-capability-2021       MultiPolygon"
      ]
     },
     "execution_count": 5,
     "metadata": {},
     "output_type": "execute_result"
    }
   ],
   "source": [
    "gpd.list_layers(\"affected_assets.gpkg\")"
   ]
  },
  {
   "cell_type": "code",
   "execution_count": 6,
   "metadata": {},
   "outputs": [
    {
     "data": {
      "text/html": [
       "<pre>✔️ 25.2 ms (2024-11-08T17:25:29/2024-11-08T17:25:29)</pre>"
      ],
      "text/plain": [
       "<IPython.core.display.HTML object>"
      ]
     },
     "metadata": {},
     "output_type": "display_data"
    },
    {
     "data": {
      "text/html": [
       "<div>\n",
       "<style scoped>\n",
       "    .dataframe tbody tr th:only-of-type {\n",
       "        vertical-align: middle;\n",
       "    }\n",
       "\n",
       "    .dataframe tbody tr th {\n",
       "        vertical-align: top;\n",
       "    }\n",
       "\n",
       "    .dataframe thead th {\n",
       "        text-align: right;\n",
       "    }\n",
       "</style>\n",
       "<table border=\"1\" class=\"dataframe\">\n",
       "  <thead>\n",
       "    <tr style=\"text-align: right;\">\n",
       "      <th></th>\n",
       "      <th>filepath</th>\n",
       "      <th>filename</th>\n",
       "      <th>filesize_GB</th>\n",
       "    </tr>\n",
       "  </thead>\n",
       "  <tbody>\n",
       "  </tbody>\n",
       "</table>\n",
       "</div>"
      ],
      "text/plain": [
       "Empty DataFrame\n",
       "Columns: [filepath, filename, filesize_GB]\n",
       "Index: []"
      ]
     },
     "execution_count": 6,
     "metadata": {},
     "output_type": "execute_result"
    }
   ],
   "source": [
    "files = files[~files.filename.isin(gpd.list_layers(\"affected_assets.gpkg\").name)]\n",
    "files"
   ]
  },
  {
   "cell_type": "code",
   "execution_count": 7,
   "metadata": {},
   "outputs": [
    {
     "data": {
      "text/html": [
       "<pre>✔️ 9.06 ms (2024-11-08T17:25:30/2024-11-08T17:25:30)</pre>"
      ],
      "text/plain": [
       "<IPython.core.display.HTML object>"
      ]
     },
     "metadata": {},
     "output_type": "display_data"
    },
    {
     "data": {
      "application/vnd.jupyter.widget-view+json": {
       "model_id": "d27afb27f8ac47a9b64280d662671052",
       "version_major": 2,
       "version_minor": 0
      },
      "text/plain": [
       "0it [00:00, ?it/s]"
      ]
     },
     "metadata": {},
     "output_type": "display_data"
    }
   ],
   "source": [
    "for row in tqdm(files.itertuples(index=False), total=len(files)):\n",
    "  print(f\"Now processing {row.filename}\")\n",
    "  start = time.time()\n",
    "  asset = gpd.read_file(row.filepath).to_crs(2193)#, engine=\"pyogrio\", use_arrow=True)\n",
    "  print(f\"Time to read file: {time.time() - start}\")\n",
    "  start = time.time()\n",
    "  clipped_asset = pd.concat(gpd.clip(asset, poly) for poly in tqdm(polys))\n",
    "  print(f\"Time to clip: {time.time() - start}\")\n",
    "  clipped_asset[\"affected_area\"] = clipped_asset.area\n",
    "  clipped_asset[\"affected_length\"] = clipped_asset.length\n",
    "  clipped_asset.to_file(\"affected_assets.gpkg\", layer=row.filename, driver='GPKG')"
   ]
  }
 ],
 "metadata": {
  "kernelspec": {
   "display_name": "Python 3",
   "language": "python",
   "name": "python3"
  },
  "language_info": {
   "codemirror_mode": {
    "name": "ipython",
    "version": 3
   },
   "file_extension": ".py",
   "mimetype": "text/x-python",
   "name": "python",
   "nbconvert_exporter": "python",
   "pygments_lexer": "ipython3",
   "version": "3.12.3"
  }
 },
 "nbformat": 4,
 "nbformat_minor": 2
}
