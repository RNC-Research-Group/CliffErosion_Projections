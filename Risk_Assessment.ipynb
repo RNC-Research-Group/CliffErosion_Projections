{
 "cells": [
  {
   "cell_type": "code",
   "execution_count": 1,
   "metadata": {},
   "outputs": [
    {
     "data": {
      "text/html": [
       "<pre>✔️ 1.2 s (2024-11-08T16:15:24/2024-11-08T16:15:25)</pre>"
      ],
      "text/plain": [
       "<IPython.core.display.HTML object>"
      ]
     },
     "metadata": {},
     "output_type": "display_data"
    }
   ],
   "source": [
    "%load_ext autotime\n",
    "import pandas as pd\n",
    "import os\n",
    "import geopandas as gpd\n",
    "from glob import glob\n",
    "from shapely.validation import make_valid\n",
    "from tqdm.auto import tqdm\n",
    "import time\n",
    "pd.set_option(\"display.max_colwidth\", 100)"
   ]
  },
  {
   "cell_type": "code",
   "execution_count": 36,
   "metadata": {},
   "outputs": [
    {
     "data": {
      "text/html": [
       "<pre>✔️ 12.5 ms (2024-11-08T17:13:36/2024-11-08T17:13:36)</pre>"
      ],
      "text/plain": [
       "<IPython.core.display.HTML object>"
      ]
     },
     "metadata": {},
     "output_type": "display_data"
    },
    {
     "data": {
      "text/html": [
       "<div>\n",
       "<style scoped>\n",
       "    .dataframe tbody tr th:only-of-type {\n",
       "        vertical-align: middle;\n",
       "    }\n",
       "\n",
       "    .dataframe tbody tr th {\n",
       "        vertical-align: top;\n",
       "    }\n",
       "\n",
       "    .dataframe thead th {\n",
       "        text-align: right;\n",
       "    }\n",
       "</style>\n",
       "<table border=\"1\" class=\"dataframe\">\n",
       "  <thead>\n",
       "    <tr style=\"text-align: right;\">\n",
       "      <th></th>\n",
       "      <th>filepath</th>\n",
       "      <th>filename</th>\n",
       "      <th>filesize_GB</th>\n",
       "    </tr>\n",
       "  </thead>\n",
       "  <tbody>\n",
       "    <tr>\n",
       "      <th>0</th>\n",
       "      <td>Asset Directory/LUCAS NZ Land Use/lucas-nz-land-use-map-1990-2008-2012-2016-v011.shp</td>\n",
       "      <td>lucas-nz-land-use-map-1990-2008-2012-2016-v011</td>\n",
       "      <td>1.435426</td>\n",
       "    </tr>\n",
       "    <tr>\n",
       "      <th>1</th>\n",
       "      <td>Asset Directory/Koordinate/smap-soil-drainage-dec-2023/smap-soil-drainage-dec-2023.shp</td>\n",
       "      <td>smap-soil-drainage-dec-2023</td>\n",
       "      <td>0.699233</td>\n",
       "    </tr>\n",
       "    <tr>\n",
       "      <th>2</th>\n",
       "      <td>Asset Directory/lds-new-zealand-17layers-SHP/nz-building-outlines/nz-building-outlines.shp</td>\n",
       "      <td>nz-building-outlines</td>\n",
       "      <td>0.636510</td>\n",
       "    </tr>\n",
       "    <tr>\n",
       "      <th>3</th>\n",
       "      <td>Asset Directory/lris-fsl-soil-drainage-class-SHP/fsl-soil-drainage-class.shp</td>\n",
       "      <td>fsl-soil-drainage-class</td>\n",
       "      <td>0.164699</td>\n",
       "    </tr>\n",
       "    <tr>\n",
       "      <th>4</th>\n",
       "      <td>Asset Directory/Koordinate/nzlri-land-use-capability-2021/nzlri-land-use-capability-2021.shp</td>\n",
       "      <td>nzlri-land-use-capability-2021</td>\n",
       "      <td>0.164578</td>\n",
       "    </tr>\n",
       "    <tr>\n",
       "      <th>5</th>\n",
       "      <td>Asset Directory/DOC/DOC_Public_Conservation_Land.shp</td>\n",
       "      <td>DOC_Public_Conservation_Land</td>\n",
       "      <td>0.139802</td>\n",
       "    </tr>\n",
       "    <tr>\n",
       "      <th>6</th>\n",
       "      <td>Asset Directory/Koordinate/protected-areas/protected-areas.shp</td>\n",
       "      <td>protected-areas</td>\n",
       "      <td>0.134675</td>\n",
       "    </tr>\n",
       "    <tr>\n",
       "      <th>7</th>\n",
       "      <td>Asset Directory/NationalRoadCentrelineDataset/roads.shp</td>\n",
       "      <td>roads</td>\n",
       "      <td>0.130881</td>\n",
       "    </tr>\n",
       "    <tr>\n",
       "      <th>8</th>\n",
       "      <td>Asset Directory/lds-new-zealand-17layers-SHP/nz-road-centrelines-topo-150k.shp</td>\n",
       "      <td>nz-road-centrelines-topo-150k</td>\n",
       "      <td>0.116422</td>\n",
       "    </tr>\n",
       "    <tr>\n",
       "      <th>9</th>\n",
       "      <td>Asset Directory/lds-new-zealand-17layers-SHP/nz-track-centrelines-topo-150k/nz-track-centrelines...</td>\n",
       "      <td>nz-track-centrelines-topo-150k</td>\n",
       "      <td>0.074558</td>\n",
       "    </tr>\n",
       "    <tr>\n",
       "      <th>10</th>\n",
       "      <td>Asset Directory/lds-new-zealand-17layers-SHP/linz-managed-crown-property/linz-managed-crown-prop...</td>\n",
       "      <td>linz-managed-crown-property</td>\n",
       "      <td>0.041728</td>\n",
       "    </tr>\n",
       "    <tr>\n",
       "      <th>11</th>\n",
       "      <td>Asset Directory/Koordinate/nz-walking-and-biking-tracks/nz-walking-and-biking-tracks.shp</td>\n",
       "      <td>nz-walking-and-biking-tracks</td>\n",
       "      <td>0.038141</td>\n",
       "    </tr>\n",
       "    <tr>\n",
       "      <th>12</th>\n",
       "      <td>Asset Directory/lds-new-zealand-17layers-SHP/nz-drain-centrelines-topo-150k/nz-drain-centrelines...</td>\n",
       "      <td>nz-drain-centrelines-topo-150k</td>\n",
       "      <td>0.006491</td>\n",
       "    </tr>\n",
       "    <tr>\n",
       "      <th>13</th>\n",
       "      <td>Asset Directory/DOC/Internationally_Recognised_Areas.shp</td>\n",
       "      <td>Internationally_Recognised_Areas</td>\n",
       "      <td>0.004694</td>\n",
       "    </tr>\n",
       "    <tr>\n",
       "      <th>14</th>\n",
       "      <td>Asset Directory/DOC/Covenant_Areas.shp</td>\n",
       "      <td>Covenant_Areas</td>\n",
       "      <td>0.003984</td>\n",
       "    </tr>\n",
       "    <tr>\n",
       "      <th>15</th>\n",
       "      <td>Asset Directory/lds-new-zealand-17layers-SHP/nz-geodetic-marks/nz-geodetic-marks.shp</td>\n",
       "      <td>nz-geodetic-marks</td>\n",
       "      <td>0.003710</td>\n",
       "    </tr>\n",
       "    <tr>\n",
       "      <th>16</th>\n",
       "      <td>Asset Directory/KiwiRailTrack.zip</td>\n",
       "      <td>KiwiRailTrack</td>\n",
       "      <td>0.003440</td>\n",
       "    </tr>\n",
       "    <tr>\n",
       "      <th>17</th>\n",
       "      <td>Asset Directory/DOC/DOC_Sanctuaries_to_Protect_Marine_Mammals.shp</td>\n",
       "      <td>DOC_Sanctuaries_to_Protect_Marine_Mammals</td>\n",
       "      <td>0.003158</td>\n",
       "    </tr>\n",
       "    <tr>\n",
       "      <th>18</th>\n",
       "      <td>Asset Directory/DOC/Ecological_Districts.shp</td>\n",
       "      <td>Ecological_Districts</td>\n",
       "      <td>0.002513</td>\n",
       "    </tr>\n",
       "    <tr>\n",
       "      <th>19</th>\n",
       "      <td>Asset Directory/DOC/DOC_Marine_Reserves.shp</td>\n",
       "      <td>DOC_Marine_Reserves</td>\n",
       "      <td>0.001981</td>\n",
       "    </tr>\n",
       "    <tr>\n",
       "      <th>20</th>\n",
       "      <td>Asset Directory/lds-new-zealand-17layers-SHP/nz-powerline-centrelines-topo-150k/nz-powerline-cen...</td>\n",
       "      <td>nz-powerline-centrelines-topo-150k</td>\n",
       "      <td>0.001789</td>\n",
       "    </tr>\n",
       "    <tr>\n",
       "      <th>21</th>\n",
       "      <td>Asset Directory/lds-new-zealand-17layers-SHP/nz-railway-centre-lines/nz-railway-centre-lines.shp</td>\n",
       "      <td>nz-railway-centre-lines</td>\n",
       "      <td>0.001587</td>\n",
       "    </tr>\n",
       "    <tr>\n",
       "      <th>22</th>\n",
       "      <td>Asset Directory/lds-new-zealand-17layers-SHP/nz-facilities/nz-facilities.shp</td>\n",
       "      <td>nz-facilities</td>\n",
       "      <td>0.000758</td>\n",
       "    </tr>\n",
       "    <tr>\n",
       "      <th>23</th>\n",
       "      <td>Asset Directory/Transpower Transmission Lines.zip</td>\n",
       "      <td>Transpower Transmission Lines</td>\n",
       "      <td>0.000558</td>\n",
       "    </tr>\n",
       "    <tr>\n",
       "      <th>24</th>\n",
       "      <td>Asset Directory/lds-new-zealand-17layers-SHP/nz-residential-area-polygons-topo-1250k/nz-resident...</td>\n",
       "      <td>nz-residential-area-polygons-topo-1250k</td>\n",
       "      <td>0.000555</td>\n",
       "    </tr>\n",
       "    <tr>\n",
       "      <th>25</th>\n",
       "      <td>Asset Directory/zone_substations.gpkg</td>\n",
       "      <td>zone_substations</td>\n",
       "      <td>0.000254</td>\n",
       "    </tr>\n",
       "    <tr>\n",
       "      <th>26</th>\n",
       "      <td>Asset Directory/Water and Wastewater/wwtp.gpkg</td>\n",
       "      <td>wwtp</td>\n",
       "      <td>0.000209</td>\n",
       "    </tr>\n",
       "    <tr>\n",
       "      <th>27</th>\n",
       "      <td>Asset Directory/Water and Wastewater/wtp.gpkg</td>\n",
       "      <td>wtp</td>\n",
       "      <td>0.000156</td>\n",
       "    </tr>\n",
       "    <tr>\n",
       "      <th>28</th>\n",
       "      <td>Asset Directory/CAA NZ_Aerodromes.geojson</td>\n",
       "      <td>CAA NZ_Aerodromes</td>\n",
       "      <td>0.000152</td>\n",
       "    </tr>\n",
       "    <tr>\n",
       "      <th>29</th>\n",
       "      <td>Asset Directory/lds-new-zealand-17layers-SHP/nz-airport-polygons-topo-150k/nz-airport-polygons-t...</td>\n",
       "      <td>nz-airport-polygons-topo-150k</td>\n",
       "      <td>0.000086</td>\n",
       "    </tr>\n",
       "    <tr>\n",
       "      <th>30</th>\n",
       "      <td>Asset Directory/lds-new-zealand-17layers-SHP/nz-cemetery-polygons-topo-150k/nz-cemetery-polygons...</td>\n",
       "      <td>nz-cemetery-polygons-topo-150k</td>\n",
       "      <td>0.000071</td>\n",
       "    </tr>\n",
       "    <tr>\n",
       "      <th>31</th>\n",
       "      <td>Asset Directory/lds-new-zealand-17layers-SHP/nz-telephone-centrelines-topo-150k/nz-telephone-cen...</td>\n",
       "      <td>nz-telephone-centrelines-topo-150k</td>\n",
       "      <td>0.000062</td>\n",
       "    </tr>\n",
       "    <tr>\n",
       "      <th>32</th>\n",
       "      <td>Asset Directory/lds-new-zealand-17layers-SHP/nz-pa-points-topo-150k/nz-pa-points-topo-150k.shp</td>\n",
       "      <td>nz-pa-points-topo-150k</td>\n",
       "      <td>0.000060</td>\n",
       "    </tr>\n",
       "    <tr>\n",
       "      <th>33</th>\n",
       "      <td>Asset Directory/lds-new-zealand-17layers-SHP/nz-windmill-points-topo-150k/nz-windmill-points-top...</td>\n",
       "      <td>nz-windmill-points-topo-150k</td>\n",
       "      <td>0.000022</td>\n",
       "    </tr>\n",
       "    <tr>\n",
       "      <th>34</th>\n",
       "      <td>Asset Directory/lds-new-zealand-17layers-SHP/nz-monument-points-topo-150k/nz-monument-points-top...</td>\n",
       "      <td>nz-monument-points-topo-150k</td>\n",
       "      <td>0.000008</td>\n",
       "    </tr>\n",
       "    <tr>\n",
       "      <th>35</th>\n",
       "      <td>Asset Directory/DOC/DOC_Campsites.shp</td>\n",
       "      <td>DOC_Campsites</td>\n",
       "      <td>0.000008</td>\n",
       "    </tr>\n",
       "    <tr>\n",
       "      <th>36</th>\n",
       "      <td>Asset Directory/lds-new-zealand-17layers-SHP/nz-historic-site-points-topo-150k/nz-historic-site-...</td>\n",
       "      <td>nz-historic-site-points-topo-150k</td>\n",
       "      <td>0.000007</td>\n",
       "    </tr>\n",
       "    <tr>\n",
       "      <th>37</th>\n",
       "      <td>Asset Directory/lds-new-zealand-17layers-SHP/nz-rail-station-points-topo-150k/nz-rail-station-po...</td>\n",
       "      <td>nz-rail-station-points-topo-150k</td>\n",
       "      <td>0.000005</td>\n",
       "    </tr>\n",
       "    <tr>\n",
       "      <th>38</th>\n",
       "      <td>Asset Directory/Generation/generation_NZ.shp</td>\n",
       "      <td>generation_NZ</td>\n",
       "      <td>0.000004</td>\n",
       "    </tr>\n",
       "    <tr>\n",
       "      <th>39</th>\n",
       "      <td>Asset Directory/DOC/DOC_Offices.shp</td>\n",
       "      <td>DOC_Offices</td>\n",
       "      <td>0.000003</td>\n",
       "    </tr>\n",
       "    <tr>\n",
       "      <th>40</th>\n",
       "      <td>Asset Directory/lds-new-zealand-17layers-SHP/nz-well-points-topo-150k/nz-well-points-topo-150k.shp</td>\n",
       "      <td>nz-well-points-topo-150k</td>\n",
       "      <td>0.000003</td>\n",
       "    </tr>\n",
       "    <tr>\n",
       "      <th>41</th>\n",
       "      <td>Asset Directory/lds-new-zealand-17layers-SHP/nz-gas-valve-points-topo-150k/nz-gas-valve-points-t...</td>\n",
       "      <td>nz-gas-valve-points-topo-150k</td>\n",
       "      <td>0.000002</td>\n",
       "    </tr>\n",
       "  </tbody>\n",
       "</table>\n",
       "</div>"
      ],
      "text/plain": [
       "                                                                                               filepath  \\\n",
       "0                  Asset Directory/LUCAS NZ Land Use/lucas-nz-land-use-map-1990-2008-2012-2016-v011.shp   \n",
       "1                Asset Directory/Koordinate/smap-soil-drainage-dec-2023/smap-soil-drainage-dec-2023.shp   \n",
       "2            Asset Directory/lds-new-zealand-17layers-SHP/nz-building-outlines/nz-building-outlines.shp   \n",
       "3                          Asset Directory/lris-fsl-soil-drainage-class-SHP/fsl-soil-drainage-class.shp   \n",
       "4          Asset Directory/Koordinate/nzlri-land-use-capability-2021/nzlri-land-use-capability-2021.shp   \n",
       "5                                                  Asset Directory/DOC/DOC_Public_Conservation_Land.shp   \n",
       "6                                        Asset Directory/Koordinate/protected-areas/protected-areas.shp   \n",
       "7                                               Asset Directory/NationalRoadCentrelineDataset/roads.shp   \n",
       "8                        Asset Directory/lds-new-zealand-17layers-SHP/nz-road-centrelines-topo-150k.shp   \n",
       "9   Asset Directory/lds-new-zealand-17layers-SHP/nz-track-centrelines-topo-150k/nz-track-centrelines...   \n",
       "10  Asset Directory/lds-new-zealand-17layers-SHP/linz-managed-crown-property/linz-managed-crown-prop...   \n",
       "11             Asset Directory/Koordinate/nz-walking-and-biking-tracks/nz-walking-and-biking-tracks.shp   \n",
       "12  Asset Directory/lds-new-zealand-17layers-SHP/nz-drain-centrelines-topo-150k/nz-drain-centrelines...   \n",
       "13                                             Asset Directory/DOC/Internationally_Recognised_Areas.shp   \n",
       "14                                                               Asset Directory/DOC/Covenant_Areas.shp   \n",
       "15                 Asset Directory/lds-new-zealand-17layers-SHP/nz-geodetic-marks/nz-geodetic-marks.shp   \n",
       "16                                                                    Asset Directory/KiwiRailTrack.zip   \n",
       "17                                    Asset Directory/DOC/DOC_Sanctuaries_to_Protect_Marine_Mammals.shp   \n",
       "18                                                         Asset Directory/DOC/Ecological_Districts.shp   \n",
       "19                                                          Asset Directory/DOC/DOC_Marine_Reserves.shp   \n",
       "20  Asset Directory/lds-new-zealand-17layers-SHP/nz-powerline-centrelines-topo-150k/nz-powerline-cen...   \n",
       "21     Asset Directory/lds-new-zealand-17layers-SHP/nz-railway-centre-lines/nz-railway-centre-lines.shp   \n",
       "22                         Asset Directory/lds-new-zealand-17layers-SHP/nz-facilities/nz-facilities.shp   \n",
       "23                                                    Asset Directory/Transpower Transmission Lines.zip   \n",
       "24  Asset Directory/lds-new-zealand-17layers-SHP/nz-residential-area-polygons-topo-1250k/nz-resident...   \n",
       "25                                                                Asset Directory/zone_substations.gpkg   \n",
       "26                                                       Asset Directory/Water and Wastewater/wwtp.gpkg   \n",
       "27                                                        Asset Directory/Water and Wastewater/wtp.gpkg   \n",
       "28                                                            Asset Directory/CAA NZ_Aerodromes.geojson   \n",
       "29  Asset Directory/lds-new-zealand-17layers-SHP/nz-airport-polygons-topo-150k/nz-airport-polygons-t...   \n",
       "30  Asset Directory/lds-new-zealand-17layers-SHP/nz-cemetery-polygons-topo-150k/nz-cemetery-polygons...   \n",
       "31  Asset Directory/lds-new-zealand-17layers-SHP/nz-telephone-centrelines-topo-150k/nz-telephone-cen...   \n",
       "32       Asset Directory/lds-new-zealand-17layers-SHP/nz-pa-points-topo-150k/nz-pa-points-topo-150k.shp   \n",
       "33  Asset Directory/lds-new-zealand-17layers-SHP/nz-windmill-points-topo-150k/nz-windmill-points-top...   \n",
       "34  Asset Directory/lds-new-zealand-17layers-SHP/nz-monument-points-topo-150k/nz-monument-points-top...   \n",
       "35                                                                Asset Directory/DOC/DOC_Campsites.shp   \n",
       "36  Asset Directory/lds-new-zealand-17layers-SHP/nz-historic-site-points-topo-150k/nz-historic-site-...   \n",
       "37  Asset Directory/lds-new-zealand-17layers-SHP/nz-rail-station-points-topo-150k/nz-rail-station-po...   \n",
       "38                                                         Asset Directory/Generation/generation_NZ.shp   \n",
       "39                                                                  Asset Directory/DOC/DOC_Offices.shp   \n",
       "40   Asset Directory/lds-new-zealand-17layers-SHP/nz-well-points-topo-150k/nz-well-points-topo-150k.shp   \n",
       "41  Asset Directory/lds-new-zealand-17layers-SHP/nz-gas-valve-points-topo-150k/nz-gas-valve-points-t...   \n",
       "\n",
       "                                          filename  filesize_GB  \n",
       "0   lucas-nz-land-use-map-1990-2008-2012-2016-v011     1.435426  \n",
       "1                      smap-soil-drainage-dec-2023     0.699233  \n",
       "2                             nz-building-outlines     0.636510  \n",
       "3                          fsl-soil-drainage-class     0.164699  \n",
       "4                   nzlri-land-use-capability-2021     0.164578  \n",
       "5                     DOC_Public_Conservation_Land     0.139802  \n",
       "6                                  protected-areas     0.134675  \n",
       "7                                            roads     0.130881  \n",
       "8                    nz-road-centrelines-topo-150k     0.116422  \n",
       "9                   nz-track-centrelines-topo-150k     0.074558  \n",
       "10                     linz-managed-crown-property     0.041728  \n",
       "11                    nz-walking-and-biking-tracks     0.038141  \n",
       "12                  nz-drain-centrelines-topo-150k     0.006491  \n",
       "13                Internationally_Recognised_Areas     0.004694  \n",
       "14                                  Covenant_Areas     0.003984  \n",
       "15                               nz-geodetic-marks     0.003710  \n",
       "16                                   KiwiRailTrack     0.003440  \n",
       "17       DOC_Sanctuaries_to_Protect_Marine_Mammals     0.003158  \n",
       "18                            Ecological_Districts     0.002513  \n",
       "19                             DOC_Marine_Reserves     0.001981  \n",
       "20              nz-powerline-centrelines-topo-150k     0.001789  \n",
       "21                         nz-railway-centre-lines     0.001587  \n",
       "22                                   nz-facilities     0.000758  \n",
       "23                   Transpower Transmission Lines     0.000558  \n",
       "24         nz-residential-area-polygons-topo-1250k     0.000555  \n",
       "25                                zone_substations     0.000254  \n",
       "26                                            wwtp     0.000209  \n",
       "27                                             wtp     0.000156  \n",
       "28                               CAA NZ_Aerodromes     0.000152  \n",
       "29                   nz-airport-polygons-topo-150k     0.000086  \n",
       "30                  nz-cemetery-polygons-topo-150k     0.000071  \n",
       "31              nz-telephone-centrelines-topo-150k     0.000062  \n",
       "32                          nz-pa-points-topo-150k     0.000060  \n",
       "33                    nz-windmill-points-topo-150k     0.000022  \n",
       "34                    nz-monument-points-topo-150k     0.000008  \n",
       "35                                   DOC_Campsites     0.000008  \n",
       "36               nz-historic-site-points-topo-150k     0.000007  \n",
       "37                nz-rail-station-points-topo-150k     0.000005  \n",
       "38                                   generation_NZ     0.000004  \n",
       "39                                     DOC_Offices     0.000003  \n",
       "40                        nz-well-points-topo-150k     0.000003  \n",
       "41                   nz-gas-valve-points-topo-150k     0.000002  "
      ]
     },
     "execution_count": 36,
     "metadata": {},
     "output_type": "execute_result"
    }
   ],
   "source": [
    "files = pd.DataFrame({\"filepath\": glob(\"Asset Directory/**\", recursive=True)})\n",
    "files = files[files[\"filepath\"].str.endswith((\".shp\", \".zip\", \".gpkg\", \".geojson\"))]\n",
    "files[\"filename\"] = files[\"filepath\"].apply(lambda x: os.path.splitext(os.path.basename(x))[0])\n",
    "files[\"filesize_GB\"] = files[\"filepath\"].apply(lambda x: os.path.getsize(x) / 1e9)\n",
    "files.sort_values(\"filesize_GB\", ascending=False).reset_index(drop=True)"
   ]
  },
  {
   "cell_type": "code",
   "execution_count": 16,
   "metadata": {},
   "outputs": [
    {
     "data": {
      "text/html": [
       "<pre>✔️ 9.57 s (2024-11-08T16:34:55/2024-11-08T16:35:04)</pre>"
      ],
      "text/plain": [
       "<IPython.core.display.HTML object>"
      ]
     },
     "metadata": {},
     "output_type": "display_data"
    },
    {
     "data": {
      "application/vnd.jupyter.widget-view+json": {
       "model_id": "a5879bb2247f495c9387888a13ef9889",
       "version_major": 2,
       "version_minor": 0
      },
      "text/plain": [
       "  0%|          | 0/6 [00:00<?, ?it/s]"
      ]
     },
     "metadata": {},
     "output_type": "display_data"
    }
   ],
   "source": [
    "polys = []\n",
    "for f in tqdm(glob(\"Projections/*_polygon.shp\")):\n",
    "  df = gpd.read_file(f)\n",
    "  df.geometry = df.geometry.apply(make_valid)\n",
    "  polys.append(df.union_all())"
   ]
  },
  {
   "cell_type": "code",
   "execution_count": 17,
   "metadata": {},
   "outputs": [
    {
     "data": {
      "text/html": [
       "<pre>✔️ 25 min 19 s (2024-11-08T16:35:31/2024-11-08T17:00:50)</pre>"
      ],
      "text/plain": [
       "<IPython.core.display.HTML object>"
      ]
     },
     "metadata": {},
     "output_type": "display_data"
    },
    {
     "data": {
      "application/vnd.jupyter.widget-view+json": {
       "model_id": "0e1d14667c5440899a833b778e0a8f19",
       "version_major": 2,
       "version_minor": 0
      },
      "text/plain": [
       "  0%|          | 0/102 [00:00<?, ?it/s]"
      ]
     },
     "metadata": {},
     "output_type": "display_data"
    },
    {
     "name": "stdout",
     "output_type": "stream",
     "text": [
      "Now processing lucas-nz-land-use-map-1990-2008-2012-2016-v011\n",
      "Time to read file: 20.920231580734253\n"
     ]
    },
    {
     "data": {
      "application/vnd.jupyter.widget-view+json": {
       "model_id": "fc6f478268d143ceaa597f8960c406a2",
       "version_major": 2,
       "version_minor": 0
      },
      "text/plain": [
       "  0%|          | 0/6 [00:00<?, ?it/s]"
      ]
     },
     "metadata": {},
     "output_type": "display_data"
    },
    {
     "name": "stdout",
     "output_type": "stream",
     "text": [
      "Time to clip: 87.12715315818787\n",
      "Now processing fsl-soil-drainage-class\n",
      "Time to read file: 2.0719239711761475\n"
     ]
    },
    {
     "data": {
      "application/vnd.jupyter.widget-view+json": {
       "model_id": "1936dba8da244366b87dbf34af6cadf9",
       "version_major": 2,
       "version_minor": 0
      },
      "text/plain": [
       "  0%|          | 0/6 [00:00<?, ?it/s]"
      ]
     },
     "metadata": {},
     "output_type": "display_data"
    },
    {
     "name": "stdout",
     "output_type": "stream",
     "text": [
      "Time to clip: 16.370753526687622\n",
      "Now processing Transpower Transmission Lines\n",
      "Time to read file: 0.12905025482177734\n"
     ]
    },
    {
     "data": {
      "application/vnd.jupyter.widget-view+json": {
       "model_id": "a7c9553354bf4c7a91c73a41ced36f08",
       "version_major": 2,
       "version_minor": 0
      },
      "text/plain": [
       "  0%|          | 0/6 [00:00<?, ?it/s]"
      ]
     },
     "metadata": {},
     "output_type": "display_data"
    },
    {
     "name": "stdout",
     "output_type": "stream",
     "text": [
      "Time to clip: 0.16780686378479004\n",
      "Now processing generation_NZ\n",
      "Time to read file: 0.029289960861206055\n"
     ]
    },
    {
     "data": {
      "application/vnd.jupyter.widget-view+json": {
       "model_id": "03b82847765649fa80430f89fe26b888",
       "version_major": 2,
       "version_minor": 0
      },
      "text/plain": [
       "  0%|          | 0/6 [00:00<?, ?it/s]"
      ]
     },
     "metadata": {},
     "output_type": "display_data"
    },
    {
     "name": "stdout",
     "output_type": "stream",
     "text": [
      "Time to clip: 0.012346982955932617\n",
      "Now processing wwtp\n",
      "Time to read file: 0.015488624572753906\n"
     ]
    },
    {
     "data": {
      "application/vnd.jupyter.widget-view+json": {
       "model_id": "8d1775869793446f878e1493e7dcf1d2",
       "version_major": 2,
       "version_minor": 0
      },
      "text/plain": [
       "  0%|          | 0/6 [00:00<?, ?it/s]"
      ]
     },
     "metadata": {},
     "output_type": "display_data"
    },
    {
     "name": "stdout",
     "output_type": "stream",
     "text": [
      "Time to clip: 0.046498775482177734\n",
      "Now processing wtp\n",
      "Time to read file: 0.010409832000732422\n"
     ]
    },
    {
     "data": {
      "application/vnd.jupyter.widget-view+json": {
       "model_id": "a02deb4981a841ef9cea93bdae274edc",
       "version_major": 2,
       "version_minor": 0
      },
      "text/plain": [
       "  0%|          | 0/6 [00:00<?, ?it/s]"
      ]
     },
     "metadata": {},
     "output_type": "display_data"
    },
    {
     "name": "stdout",
     "output_type": "stream",
     "text": [
      "Time to clip: 0.04654574394226074\n",
      "Now processing DOC_Marine_Reserves\n",
      "Time to read file: 0.019982576370239258\n"
     ]
    },
    {
     "data": {
      "application/vnd.jupyter.widget-view+json": {
       "model_id": "1b256f0e8b334970aa37fcb6c03854cd",
       "version_major": 2,
       "version_minor": 0
      },
      "text/plain": [
       "  0%|          | 0/6 [00:00<?, ?it/s]"
      ]
     },
     "metadata": {},
     "output_type": "display_data"
    },
    {
     "name": "stdout",
     "output_type": "stream",
     "text": [
      "Time to clip: 0.2647693157196045\n",
      "Now processing Ecological_Districts\n",
      "Time to read file: 0.018620014190673828\n"
     ]
    },
    {
     "data": {
      "application/vnd.jupyter.widget-view+json": {
       "model_id": "970185733d754582b4e20a4218770968",
       "version_major": 2,
       "version_minor": 0
      },
      "text/plain": [
       "  0%|          | 0/6 [00:00<?, ?it/s]"
      ]
     },
     "metadata": {},
     "output_type": "display_data"
    },
    {
     "name": "stdout",
     "output_type": "stream",
     "text": [
      "Time to clip: 1.3724844455718994\n",
      "Now processing Internationally_Recognised_Areas\n",
      "Time to read file: 0.027126073837280273\n"
     ]
    },
    {
     "name": "stderr",
     "output_type": "stream",
     "text": [
      "/home/nyou045/.local/lib/python3.12/site-packages/pyogrio/raw.py:198: RuntimeWarning: Asset Directory/DOC/Internationally_Recognised_Areas.shp contains polygon(s) with rings with invalid winding order. Autocorrecting them, but that shapefile should be corrected using ogr2ogr for example.\n",
      "  return ogr_read(\n"
     ]
    },
    {
     "data": {
      "application/vnd.jupyter.widget-view+json": {
       "model_id": "d0d27fe7ae2b4d3fb9f61856b243bb3a",
       "version_major": 2,
       "version_minor": 0
      },
      "text/plain": [
       "  0%|          | 0/6 [00:00<?, ?it/s]"
      ]
     },
     "metadata": {},
     "output_type": "display_data"
    },
    {
     "name": "stdout",
     "output_type": "stream",
     "text": [
      "Time to clip: 0.42111682891845703\n",
      "Now processing DOC_Sanctuaries_to_Protect_Marine_Mammals\n",
      "Time to read file: 0.07323765754699707\n"
     ]
    },
    {
     "data": {
      "application/vnd.jupyter.widget-view+json": {
       "model_id": "cc9ef462f37a4985b1b58803b5b6eb85",
       "version_major": 2,
       "version_minor": 0
      },
      "text/plain": [
       "  0%|          | 0/6 [00:00<?, ?it/s]"
      ]
     },
     "metadata": {},
     "output_type": "display_data"
    },
    {
     "name": "stdout",
     "output_type": "stream",
     "text": [
      "Time to clip: 0.6503617763519287\n",
      "Now processing Covenant_Areas\n",
      "Time to read file: 0.04620790481567383\n"
     ]
    },
    {
     "data": {
      "application/vnd.jupyter.widget-view+json": {
       "model_id": "6d15965e484941a18dcbc7a58f550c95",
       "version_major": 2,
       "version_minor": 0
      },
      "text/plain": [
       "  0%|          | 0/6 [00:00<?, ?it/s]"
      ]
     },
     "metadata": {},
     "output_type": "display_data"
    },
    {
     "name": "stdout",
     "output_type": "stream",
     "text": [
      "Time to clip: 0.2527039051055908\n",
      "Now processing DOC_Campsites\n",
      "Time to read file: 0.019658803939819336\n"
     ]
    },
    {
     "data": {
      "application/vnd.jupyter.widget-view+json": {
       "model_id": "99f18f5494c14138bc86ad1e90f14007",
       "version_major": 2,
       "version_minor": 0
      },
      "text/plain": [
       "  0%|          | 0/6 [00:00<?, ?it/s]"
      ]
     },
     "metadata": {},
     "output_type": "display_data"
    },
    {
     "name": "stdout",
     "output_type": "stream",
     "text": [
      "Time to clip: 0.04645419120788574\n",
      "Now processing DOC_Public_Conservation_Land\n",
      "Time to read file: 0.6967353820800781\n"
     ]
    },
    {
     "data": {
      "application/vnd.jupyter.widget-view+json": {
       "model_id": "4b5c104976c44ca5851cabadb0d31bb0",
       "version_major": 2,
       "version_minor": 0
      },
      "text/plain": [
       "  0%|          | 0/6 [00:00<?, ?it/s]"
      ]
     },
     "metadata": {},
     "output_type": "display_data"
    },
    {
     "name": "stdout",
     "output_type": "stream",
     "text": [
      "Time to clip: 5.406280755996704\n",
      "Now processing DOC_Offices\n",
      "Time to read file: 0.035263776779174805\n"
     ]
    },
    {
     "data": {
      "application/vnd.jupyter.widget-view+json": {
       "model_id": "71909820f7d946bc92a3c26e66660c41",
       "version_major": 2,
       "version_minor": 0
      },
      "text/plain": [
       "  0%|          | 0/6 [00:00<?, ?it/s]"
      ]
     },
     "metadata": {},
     "output_type": "display_data"
    },
    {
     "name": "stdout",
     "output_type": "stream",
     "text": [
      "Time to clip: 0.06440997123718262\n",
      "Now processing roads\n",
      "Time to read file: 5.2639381885528564\n"
     ]
    },
    {
     "data": {
      "application/vnd.jupyter.widget-view+json": {
       "model_id": "73862e59f85d49b1baf16e62f4de6935",
       "version_major": 2,
       "version_minor": 0
      },
      "text/plain": [
       "  0%|          | 0/6 [00:00<?, ?it/s]"
      ]
     },
     "metadata": {},
     "output_type": "display_data"
    },
    {
     "name": "stdout",
     "output_type": "stream",
     "text": [
      "Time to clip: 1.8031010627746582\n",
      "Now processing KiwiRailTrack\n",
      "Time to read file: 0.25052738189697266\n"
     ]
    },
    {
     "data": {
      "application/vnd.jupyter.widget-view+json": {
       "model_id": "dcf3d83cec24419b8761e89f70d92059",
       "version_major": 2,
       "version_minor": 0
      },
      "text/plain": [
       "  0%|          | 0/6 [00:00<?, ?it/s]"
      ]
     },
     "metadata": {},
     "output_type": "display_data"
    },
    {
     "name": "stdout",
     "output_type": "stream",
     "text": [
      "Time to clip: 0.032886505126953125\n",
      "Now processing zone_substations\n",
      "Time to read file: 0.09342050552368164\n"
     ]
    },
    {
     "data": {
      "application/vnd.jupyter.widget-view+json": {
       "model_id": "fff71937b2b14edea417ca05dd76f1a0",
       "version_major": 2,
       "version_minor": 0
      },
      "text/plain": [
       "  0%|          | 0/6 [00:00<?, ?it/s]"
      ]
     },
     "metadata": {},
     "output_type": "display_data"
    },
    {
     "name": "stdout",
     "output_type": "stream",
     "text": [
      "Time to clip: 0.04450821876525879\n",
      "Now processing nz-powerline-centrelines-topo-150k\n",
      "Time to read file: 0.03918290138244629\n"
     ]
    },
    {
     "data": {
      "application/vnd.jupyter.widget-view+json": {
       "model_id": "b445966c0e4a4e6faafb8853bdd7f55e",
       "version_major": 2,
       "version_minor": 0
      },
      "text/plain": [
       "  0%|          | 0/6 [00:00<?, ?it/s]"
      ]
     },
     "metadata": {},
     "output_type": "display_data"
    },
    {
     "name": "stdout",
     "output_type": "stream",
     "text": [
      "Time to clip: 0.13819074630737305\n",
      "Now processing nz-cemetery-polygons-topo-150k\n",
      "Time to read file: 0.012133598327636719\n"
     ]
    },
    {
     "data": {
      "application/vnd.jupyter.widget-view+json": {
       "model_id": "bc47bcfd462649b1ae1f10e7b5176e76",
       "version_major": 2,
       "version_minor": 0
      },
      "text/plain": [
       "  0%|          | 0/6 [00:00<?, ?it/s]"
      ]
     },
     "metadata": {},
     "output_type": "display_data"
    },
    {
     "name": "stdout",
     "output_type": "stream",
     "text": [
      "Time to clip: 0.10505032539367676\n",
      "Now processing nz-railway-centre-lines\n",
      "Time to read file: 0.01695561408996582\n"
     ]
    },
    {
     "data": {
      "application/vnd.jupyter.widget-view+json": {
       "model_id": "d3ed58c4c5c64e0ca36522bad4969891",
       "version_major": 2,
       "version_minor": 0
      },
      "text/plain": [
       "  0%|          | 0/6 [00:00<?, ?it/s]"
      ]
     },
     "metadata": {},
     "output_type": "display_data"
    },
    {
     "name": "stdout",
     "output_type": "stream",
     "text": [
      "Time to clip: 0.326019287109375\n",
      "Now processing nz-drain-centrelines-topo-150k\n",
      "Time to read file: 0.19955706596374512\n"
     ]
    },
    {
     "data": {
      "application/vnd.jupyter.widget-view+json": {
       "model_id": "3737f7c56d3c4bb8ba03ff5c22853b0d",
       "version_major": 2,
       "version_minor": 0
      },
      "text/plain": [
       "  0%|          | 0/6 [00:00<?, ?it/s]"
      ]
     },
     "metadata": {},
     "output_type": "display_data"
    },
    {
     "name": "stdout",
     "output_type": "stream",
     "text": [
      "Time to clip: 0.8307309150695801\n",
      "Now processing nz-historic-site-points-topo-150k\n",
      "Time to read file: 0.02300238609313965\n"
     ]
    },
    {
     "data": {
      "application/vnd.jupyter.widget-view+json": {
       "model_id": "0c627eb6806a4d30acd645116eeda8ef",
       "version_major": 2,
       "version_minor": 0
      },
      "text/plain": [
       "  0%|          | 0/6 [00:00<?, ?it/s]"
      ]
     },
     "metadata": {},
     "output_type": "display_data"
    },
    {
     "name": "stdout",
     "output_type": "stream",
     "text": [
      "Time to clip: 0.052465200424194336\n",
      "Now processing nz-road-centrelines-topo-150k\n",
      "Time to read file: 1.5365052223205566\n"
     ]
    },
    {
     "data": {
      "application/vnd.jupyter.widget-view+json": {
       "model_id": "ae5ecef0d2f44f438e4f6ef829adc714",
       "version_major": 2,
       "version_minor": 0
      },
      "text/plain": [
       "  0%|          | 0/6 [00:00<?, ?it/s]"
      ]
     },
     "metadata": {},
     "output_type": "display_data"
    },
    {
     "name": "stdout",
     "output_type": "stream",
     "text": [
      "Time to clip: 1.9612302780151367\n",
      "Now processing nz-telephone-centrelines-topo-150k\n",
      "Time to read file: 0.09250593185424805\n"
     ]
    },
    {
     "data": {
      "application/vnd.jupyter.widget-view+json": {
       "model_id": "1af9ffcbf33d41809bd6b965eb6a40ba",
       "version_major": 2,
       "version_minor": 0
      },
      "text/plain": [
       "  0%|          | 0/6 [00:00<?, ?it/s]"
      ]
     },
     "metadata": {},
     "output_type": "display_data"
    },
    {
     "name": "stdout",
     "output_type": "stream",
     "text": [
      "Time to clip: 0.11507630348205566\n",
      "Now processing linz-managed-crown-property\n",
      "Time to read file: 0.20232892036437988\n"
     ]
    },
    {
     "data": {
      "application/vnd.jupyter.widget-view+json": {
       "model_id": "cd539fe6b52247aab3fe3393e86ae75d",
       "version_major": 2,
       "version_minor": 0
      },
      "text/plain": [
       "  0%|          | 0/6 [00:00<?, ?it/s]"
      ]
     },
     "metadata": {},
     "output_type": "display_data"
    },
    {
     "name": "stdout",
     "output_type": "stream",
     "text": [
      "Time to clip: 1.3908250331878662\n",
      "Now processing nz-geodetic-marks\n",
      "Time to read file: 1.434389591217041\n"
     ]
    },
    {
     "data": {
      "application/vnd.jupyter.widget-view+json": {
       "model_id": "0079b7fdfadf477da157e0bef77373a6",
       "version_major": 2,
       "version_minor": 0
      },
      "text/plain": [
       "  0%|          | 0/6 [00:00<?, ?it/s]"
      ]
     },
     "metadata": {},
     "output_type": "display_data"
    },
    {
     "name": "stdout",
     "output_type": "stream",
     "text": [
      "Time to clip: 0.25887393951416016\n",
      "Now processing nz-well-points-topo-150k\n",
      "Time to read file: 0.06959795951843262\n"
     ]
    },
    {
     "data": {
      "application/vnd.jupyter.widget-view+json": {
       "model_id": "e4925e89721149c3a717279356a091ce",
       "version_major": 2,
       "version_minor": 0
      },
      "text/plain": [
       "  0%|          | 0/6 [00:00<?, ?it/s]"
      ]
     },
     "metadata": {},
     "output_type": "display_data"
    },
    {
     "name": "stdout",
     "output_type": "stream",
     "text": [
      "Time to clip: 0.05290341377258301\n",
      "Now processing nz-facilities\n",
      "Time to read file: 0.0436091423034668\n"
     ]
    },
    {
     "data": {
      "application/vnd.jupyter.widget-view+json": {
       "model_id": "45f56249652c480d9986af84337727ad",
       "version_major": 2,
       "version_minor": 0
      },
      "text/plain": [
       "  0%|          | 0/6 [00:00<?, ?it/s]"
      ]
     },
     "metadata": {},
     "output_type": "display_data"
    },
    {
     "name": "stdout",
     "output_type": "stream",
     "text": [
      "Time to clip: 0.347092866897583\n",
      "Now processing nz-residential-area-polygons-topo-1250k\n",
      "Time to read file: 0.017054319381713867\n"
     ]
    },
    {
     "data": {
      "application/vnd.jupyter.widget-view+json": {
       "model_id": "70328de50078479dbaa5eb7744fb8963",
       "version_major": 2,
       "version_minor": 0
      },
      "text/plain": [
       "  0%|          | 0/6 [00:00<?, ?it/s]"
      ]
     },
     "metadata": {},
     "output_type": "display_data"
    },
    {
     "name": "stdout",
     "output_type": "stream",
     "text": [
      "Time to clip: 0.5322470664978027\n",
      "Now processing nz-track-centrelines-topo-150k\n",
      "Time to read file: 0.7715506553649902\n"
     ]
    },
    {
     "data": {
      "application/vnd.jupyter.widget-view+json": {
       "model_id": "b41f451959434047b099138d4f5b3b73",
       "version_major": 2,
       "version_minor": 0
      },
      "text/plain": [
       "  0%|          | 0/6 [00:00<?, ?it/s]"
      ]
     },
     "metadata": {},
     "output_type": "display_data"
    },
    {
     "name": "stdout",
     "output_type": "stream",
     "text": [
      "Time to clip: 1.7006897926330566\n",
      "Now processing nz-monument-points-topo-150k\n",
      "Time to read file: 0.0628046989440918\n"
     ]
    },
    {
     "data": {
      "application/vnd.jupyter.widget-view+json": {
       "model_id": "bf1d42fdf29f49d0b3f865cf15bb73e7",
       "version_major": 2,
       "version_minor": 0
      },
      "text/plain": [
       "  0%|          | 0/6 [00:00<?, ?it/s]"
      ]
     },
     "metadata": {},
     "output_type": "display_data"
    },
    {
     "name": "stdout",
     "output_type": "stream",
     "text": [
      "Time to clip: 0.059046030044555664\n",
      "Now processing nz-building-outlines\n",
      "Time to read file: 49.45025300979614\n"
     ]
    },
    {
     "data": {
      "application/vnd.jupyter.widget-view+json": {
       "model_id": "12589f5b73ec42e5a6d6f8c3db66eaeb",
       "version_major": 2,
       "version_minor": 0
      },
      "text/plain": [
       "  0%|          | 0/6 [00:00<?, ?it/s]"
      ]
     },
     "metadata": {},
     "output_type": "display_data"
    },
    {
     "name": "stdout",
     "output_type": "stream",
     "text": [
      "Time to clip: 281.9146430492401\n",
      "Now processing nz-pa-points-topo-150k\n",
      "Time to read file: 2.0891273021698\n"
     ]
    },
    {
     "data": {
      "application/vnd.jupyter.widget-view+json": {
       "model_id": "199797e68582409b9ed93c082e6c44e4",
       "version_major": 2,
       "version_minor": 0
      },
      "text/plain": [
       "  0%|          | 0/6 [00:00<?, ?it/s]"
      ]
     },
     "metadata": {},
     "output_type": "display_data"
    },
    {
     "name": "stdout",
     "output_type": "stream",
     "text": [
      "Time to clip: 0.13209986686706543\n",
      "Now processing nz-rail-station-points-topo-150k\n",
      "Time to read file: 0.007856369018554688\n"
     ]
    },
    {
     "data": {
      "application/vnd.jupyter.widget-view+json": {
       "model_id": "b73ae10a44c44551a6dcffd6891b65b5",
       "version_major": 2,
       "version_minor": 0
      },
      "text/plain": [
       "  0%|          | 0/6 [00:00<?, ?it/s]"
      ]
     },
     "metadata": {},
     "output_type": "display_data"
    },
    {
     "name": "stdout",
     "output_type": "stream",
     "text": [
      "Time to clip: 0.048316001892089844\n",
      "Now processing nz-airport-polygons-topo-150k\n",
      "Time to read file: 0.00853729248046875\n"
     ]
    },
    {
     "data": {
      "application/vnd.jupyter.widget-view+json": {
       "model_id": "10ef6f7be7ea464c95bf9fe64123ea60",
       "version_major": 2,
       "version_minor": 0
      },
      "text/plain": [
       "  0%|          | 0/6 [00:00<?, ?it/s]"
      ]
     },
     "metadata": {},
     "output_type": "display_data"
    },
    {
     "name": "stdout",
     "output_type": "stream",
     "text": [
      "Time to clip: 0.11969637870788574\n",
      "Now processing nz-gas-valve-points-topo-150k\n",
      "Time to read file: 0.007116556167602539\n"
     ]
    },
    {
     "data": {
      "application/vnd.jupyter.widget-view+json": {
       "model_id": "0f4ad402aea64dcdace05aa18b821b02",
       "version_major": 2,
       "version_minor": 0
      },
      "text/plain": [
       "  0%|          | 0/6 [00:00<?, ?it/s]"
      ]
     },
     "metadata": {},
     "output_type": "display_data"
    },
    {
     "name": "stdout",
     "output_type": "stream",
     "text": [
      "Time to clip: 0.03039097785949707\n",
      "Now processing nz-windmill-points-topo-150k\n",
      "Time to read file: 0.010595321655273438\n"
     ]
    },
    {
     "data": {
      "application/vnd.jupyter.widget-view+json": {
       "model_id": "5aef42797a7546b2a466d09d13c6f1d6",
       "version_major": 2,
       "version_minor": 0
      },
      "text/plain": [
       "  0%|          | 0/6 [00:00<?, ?it/s]"
      ]
     },
     "metadata": {},
     "output_type": "display_data"
    },
    {
     "name": "stdout",
     "output_type": "stream",
     "text": [
      "Time to clip: 0.04545783996582031\n",
      "Now processing protected-areas\n",
      "Time to read file: 0.7682461738586426\n"
     ]
    },
    {
     "data": {
      "application/vnd.jupyter.widget-view+json": {
       "model_id": "1df111cd50f141f6ae79eb14a808668e",
       "version_major": 2,
       "version_minor": 0
      },
      "text/plain": [
       "  0%|          | 0/6 [00:00<?, ?it/s]"
      ]
     },
     "metadata": {},
     "output_type": "display_data"
    },
    {
     "name": "stdout",
     "output_type": "stream",
     "text": [
      "Time to clip: 8.555582523345947\n",
      "Now processing nz-walking-and-biking-tracks\n",
      "Time to read file: 0.6308345794677734\n"
     ]
    },
    {
     "data": {
      "application/vnd.jupyter.widget-view+json": {
       "model_id": "4e21112176dd4089b4ea12ff75c28a13",
       "version_major": 2,
       "version_minor": 0
      },
      "text/plain": [
       "  0%|          | 0/6 [00:00<?, ?it/s]"
      ]
     },
     "metadata": {},
     "output_type": "display_data"
    },
    {
     "name": "stdout",
     "output_type": "stream",
     "text": [
      "Time to clip: 3.1244776248931885\n",
      "Now processing smap-soil-drainage-dec-2023\n",
      "Time to read file: 17.05269956588745\n"
     ]
    },
    {
     "data": {
      "application/vnd.jupyter.widget-view+json": {
       "model_id": "62bbbec589e846539b14dceffea15d9e",
       "version_major": 2,
       "version_minor": 0
      },
      "text/plain": [
       "  0%|          | 0/6 [00:00<?, ?it/s]"
      ]
     },
     "metadata": {},
     "output_type": "display_data"
    },
    {
     "name": "stdout",
     "output_type": "stream",
     "text": [
      "Time to clip: 21.021891593933105\n",
      "Now processing nzlri-land-use-capability-2021\n",
      "Time to read file: 4.83411717414856\n"
     ]
    },
    {
     "data": {
      "application/vnd.jupyter.widget-view+json": {
       "model_id": "3463b3b1974d4ad6b56d4cd61a6eabbf",
       "version_major": 2,
       "version_minor": 0
      },
      "text/plain": [
       "  0%|          | 0/6 [00:00<?, ?it/s]"
      ]
     },
     "metadata": {},
     "output_type": "display_data"
    },
    {
     "name": "stdout",
     "output_type": "stream",
     "text": [
      "Time to clip: 17.22555136680603\n",
      "Now processing lucas-nz-land-use-map-1990-2008-2012-2016-v011\n",
      "Time to read file: 22.151222705841064\n"
     ]
    },
    {
     "data": {
      "application/vnd.jupyter.widget-view+json": {
       "model_id": "9e7bccd3436240948f7c871eb5cda186",
       "version_major": 2,
       "version_minor": 0
      },
      "text/plain": [
       "  0%|          | 0/6 [00:00<?, ?it/s]"
      ]
     },
     "metadata": {},
     "output_type": "display_data"
    },
    {
     "name": "stdout",
     "output_type": "stream",
     "text": [
      "Time to clip: 82.3249831199646\n",
      "Now processing fsl-soil-drainage-class\n",
      "Time to read file: 2.100214958190918\n"
     ]
    },
    {
     "data": {
      "application/vnd.jupyter.widget-view+json": {
       "model_id": "bd66db81f0be42c0a2564c325b042622",
       "version_major": 2,
       "version_minor": 0
      },
      "text/plain": [
       "  0%|          | 0/6 [00:00<?, ?it/s]"
      ]
     },
     "metadata": {},
     "output_type": "display_data"
    },
    {
     "name": "stdout",
     "output_type": "stream",
     "text": [
      "Time to clip: 15.567269563674927\n",
      "Now processing generation_NZ\n",
      "Time to read file: 0.11001229286193848\n"
     ]
    },
    {
     "data": {
      "application/vnd.jupyter.widget-view+json": {
       "model_id": "821f6226ec6e49f8ad95fd8bc3a68f0d",
       "version_major": 2,
       "version_minor": 0
      },
      "text/plain": [
       "  0%|          | 0/6 [00:00<?, ?it/s]"
      ]
     },
     "metadata": {},
     "output_type": "display_data"
    },
    {
     "name": "stdout",
     "output_type": "stream",
     "text": [
      "Time to clip: 0.05822396278381348\n",
      "Now processing wwtp\n",
      "Time to read file: 0.014130592346191406\n"
     ]
    },
    {
     "data": {
      "application/vnd.jupyter.widget-view+json": {
       "model_id": "78f669e68ac146309ec735fb60d5c396",
       "version_major": 2,
       "version_minor": 0
      },
      "text/plain": [
       "  0%|          | 0/6 [00:00<?, ?it/s]"
      ]
     },
     "metadata": {},
     "output_type": "display_data"
    },
    {
     "name": "stdout",
     "output_type": "stream",
     "text": [
      "Time to clip: 0.04583930969238281\n",
      "Now processing wtp\n",
      "Time to read file: 0.010589122772216797\n"
     ]
    },
    {
     "data": {
      "application/vnd.jupyter.widget-view+json": {
       "model_id": "644e6b19e5914c7cb06288b6ce9fd4f4",
       "version_major": 2,
       "version_minor": 0
      },
      "text/plain": [
       "  0%|          | 0/6 [00:00<?, ?it/s]"
      ]
     },
     "metadata": {},
     "output_type": "display_data"
    },
    {
     "name": "stdout",
     "output_type": "stream",
     "text": [
      "Time to clip: 0.04806065559387207\n",
      "Now processing DOC_Marine_Reserves\n",
      "Time to read file: 0.021898508071899414\n"
     ]
    },
    {
     "data": {
      "application/vnd.jupyter.widget-view+json": {
       "model_id": "91c7502178aa47ce9ad62149cea67851",
       "version_major": 2,
       "version_minor": 0
      },
      "text/plain": [
       "  0%|          | 0/6 [00:00<?, ?it/s]"
      ]
     },
     "metadata": {},
     "output_type": "display_data"
    },
    {
     "name": "stdout",
     "output_type": "stream",
     "text": [
      "Time to clip: 0.23431015014648438\n",
      "Now processing Ecological_Districts\n",
      "Time to read file: 0.018811941146850586\n"
     ]
    },
    {
     "data": {
      "application/vnd.jupyter.widget-view+json": {
       "model_id": "f3ed8cf3dc214885be6d10f4b1506489",
       "version_major": 2,
       "version_minor": 0
      },
      "text/plain": [
       "  0%|          | 0/6 [00:00<?, ?it/s]"
      ]
     },
     "metadata": {},
     "output_type": "display_data"
    },
    {
     "name": "stdout",
     "output_type": "stream",
     "text": [
      "Time to clip: 1.3092494010925293\n"
     ]
    },
    {
     "name": "stderr",
     "output_type": "stream",
     "text": [
      "/home/nyou045/.local/lib/python3.12/site-packages/pyogrio/raw.py:198: RuntimeWarning: Asset Directory/DOC/Internationally_Recognised_Areas.shp contains polygon(s) with rings with invalid winding order. Autocorrecting them, but that shapefile should be corrected using ogr2ogr for example.\n",
      "  return ogr_read(\n"
     ]
    },
    {
     "name": "stdout",
     "output_type": "stream",
     "text": [
      "Now processing Internationally_Recognised_Areas\n",
      "Time to read file: 0.029831409454345703\n"
     ]
    },
    {
     "data": {
      "application/vnd.jupyter.widget-view+json": {
       "model_id": "a337f5b2b82b4c1ebe8c8980b63d24e2",
       "version_major": 2,
       "version_minor": 0
      },
      "text/plain": [
       "  0%|          | 0/6 [00:00<?, ?it/s]"
      ]
     },
     "metadata": {},
     "output_type": "display_data"
    },
    {
     "name": "stdout",
     "output_type": "stream",
     "text": [
      "Time to clip: 0.4073472023010254\n",
      "Now processing DOC_Sanctuaries_to_Protect_Marine_Mammals\n",
      "Time to read file: 0.07017922401428223\n"
     ]
    },
    {
     "data": {
      "application/vnd.jupyter.widget-view+json": {
       "model_id": "c3bdc62e3eef4996988e6f8dbeace154",
       "version_major": 2,
       "version_minor": 0
      },
      "text/plain": [
       "  0%|          | 0/6 [00:00<?, ?it/s]"
      ]
     },
     "metadata": {},
     "output_type": "display_data"
    },
    {
     "name": "stdout",
     "output_type": "stream",
     "text": [
      "Time to clip: 0.590721845626831\n",
      "Now processing Covenant_Areas\n",
      "Time to read file: 0.04419112205505371\n"
     ]
    },
    {
     "data": {
      "application/vnd.jupyter.widget-view+json": {
       "model_id": "c65b084a64a74dfab859ec91f3d8fd34",
       "version_major": 2,
       "version_minor": 0
      },
      "text/plain": [
       "  0%|          | 0/6 [00:00<?, ?it/s]"
      ]
     },
     "metadata": {},
     "output_type": "display_data"
    },
    {
     "name": "stdout",
     "output_type": "stream",
     "text": [
      "Time to clip: 0.24562430381774902\n",
      "Now processing DOC_Campsites\n",
      "Time to read file: 0.017222166061401367\n"
     ]
    },
    {
     "data": {
      "application/vnd.jupyter.widget-view+json": {
       "model_id": "2561e9dc41084849bdc3c7c81db99d5e",
       "version_major": 2,
       "version_minor": 0
      },
      "text/plain": [
       "  0%|          | 0/6 [00:00<?, ?it/s]"
      ]
     },
     "metadata": {},
     "output_type": "display_data"
    },
    {
     "name": "stdout",
     "output_type": "stream",
     "text": [
      "Time to clip: 0.04543423652648926\n",
      "Now processing DOC_Public_Conservation_Land\n",
      "Time to read file: 0.6337563991546631\n"
     ]
    },
    {
     "data": {
      "application/vnd.jupyter.widget-view+json": {
       "model_id": "b0d8969a55e04561b8f295e185a30b7f",
       "version_major": 2,
       "version_minor": 0
      },
      "text/plain": [
       "  0%|          | 0/6 [00:00<?, ?it/s]"
      ]
     },
     "metadata": {},
     "output_type": "display_data"
    },
    {
     "name": "stdout",
     "output_type": "stream",
     "text": [
      "Time to clip: 5.350114107131958\n",
      "Now processing DOC_Offices\n",
      "Time to read file: 0.030715227127075195\n"
     ]
    },
    {
     "data": {
      "application/vnd.jupyter.widget-view+json": {
       "model_id": "a2beb38bb13c42d096873a2616f2c378",
       "version_major": 2,
       "version_minor": 0
      },
      "text/plain": [
       "  0%|          | 0/6 [00:00<?, ?it/s]"
      ]
     },
     "metadata": {},
     "output_type": "display_data"
    },
    {
     "name": "stdout",
     "output_type": "stream",
     "text": [
      "Time to clip: 0.06748056411743164\n",
      "Now processing roads\n",
      "Time to read file: 5.474651098251343\n"
     ]
    },
    {
     "data": {
      "application/vnd.jupyter.widget-view+json": {
       "model_id": "816165b943824eac8ccda6e1affcbe67",
       "version_major": 2,
       "version_minor": 0
      },
      "text/plain": [
       "  0%|          | 0/6 [00:00<?, ?it/s]"
      ]
     },
     "metadata": {},
     "output_type": "display_data"
    },
    {
     "name": "stdout",
     "output_type": "stream",
     "text": [
      "Time to clip: 1.8091278076171875\n",
      "Now processing nz-powerline-centrelines-topo-150k\n",
      "Time to read file: 0.22615480422973633\n"
     ]
    },
    {
     "data": {
      "application/vnd.jupyter.widget-view+json": {
       "model_id": "5982fa5f1bed4f3ba8c6ac4af5a47dd2",
       "version_major": 2,
       "version_minor": 0
      },
      "text/plain": [
       "  0%|          | 0/6 [00:00<?, ?it/s]"
      ]
     },
     "metadata": {},
     "output_type": "display_data"
    },
    {
     "name": "stdout",
     "output_type": "stream",
     "text": [
      "Time to clip: 0.1560051441192627\n",
      "Now processing nz-cemetery-polygons-topo-150k\n",
      "Time to read file: 0.010433197021484375\n"
     ]
    },
    {
     "data": {
      "application/vnd.jupyter.widget-view+json": {
       "model_id": "58ad346bef9a4bb6aa53277c499850ec",
       "version_major": 2,
       "version_minor": 0
      },
      "text/plain": [
       "  0%|          | 0/6 [00:00<?, ?it/s]"
      ]
     },
     "metadata": {},
     "output_type": "display_data"
    },
    {
     "name": "stdout",
     "output_type": "stream",
     "text": [
      "Time to clip: 0.10600447654724121\n",
      "Now processing nz-railway-centre-lines\n",
      "Time to read file: 0.014684438705444336\n"
     ]
    },
    {
     "data": {
      "application/vnd.jupyter.widget-view+json": {
       "model_id": "8f31217e80884d2681152e85ae1abef1",
       "version_major": 2,
       "version_minor": 0
      },
      "text/plain": [
       "  0%|          | 0/6 [00:00<?, ?it/s]"
      ]
     },
     "metadata": {},
     "output_type": "display_data"
    },
    {
     "name": "stdout",
     "output_type": "stream",
     "text": [
      "Time to clip: 0.3411576747894287\n",
      "Now processing nz-drain-centrelines-topo-150k\n",
      "Time to read file: 0.1976606845855713\n"
     ]
    },
    {
     "data": {
      "application/vnd.jupyter.widget-view+json": {
       "model_id": "5f57d01e22a2498fb58a1c1a30d3feb4",
       "version_major": 2,
       "version_minor": 0
      },
      "text/plain": [
       "  0%|          | 0/6 [00:00<?, ?it/s]"
      ]
     },
     "metadata": {},
     "output_type": "display_data"
    },
    {
     "name": "stdout",
     "output_type": "stream",
     "text": [
      "Time to clip: 0.83406662940979\n",
      "Now processing nz-historic-site-points-topo-150k\n",
      "Time to read file: 0.024399518966674805\n"
     ]
    },
    {
     "data": {
      "application/vnd.jupyter.widget-view+json": {
       "model_id": "2c46ad7b4e1148bf81c73a7e620461b0",
       "version_major": 2,
       "version_minor": 0
      },
      "text/plain": [
       "  0%|          | 0/6 [00:00<?, ?it/s]"
      ]
     },
     "metadata": {},
     "output_type": "display_data"
    },
    {
     "name": "stdout",
     "output_type": "stream",
     "text": [
      "Time to clip: 0.05163931846618652\n",
      "Now processing nz-road-centrelines-topo-150k\n",
      "Time to read file: 1.4548847675323486\n"
     ]
    },
    {
     "data": {
      "application/vnd.jupyter.widget-view+json": {
       "model_id": "72ae10ea71ba42b79fc8cc34ec0abc8f",
       "version_major": 2,
       "version_minor": 0
      },
      "text/plain": [
       "  0%|          | 0/6 [00:00<?, ?it/s]"
      ]
     },
     "metadata": {},
     "output_type": "display_data"
    },
    {
     "name": "stdout",
     "output_type": "stream",
     "text": [
      "Time to clip: 2.032710075378418\n",
      "Now processing nz-telephone-centrelines-topo-150k\n",
      "Time to read file: 0.09464001655578613\n"
     ]
    },
    {
     "data": {
      "application/vnd.jupyter.widget-view+json": {
       "model_id": "e0a4d6f49b884e849ee7481f783a2e61",
       "version_major": 2,
       "version_minor": 0
      },
      "text/plain": [
       "  0%|          | 0/6 [00:00<?, ?it/s]"
      ]
     },
     "metadata": {},
     "output_type": "display_data"
    },
    {
     "name": "stdout",
     "output_type": "stream",
     "text": [
      "Time to clip: 0.12770819664001465\n",
      "Now processing linz-managed-crown-property\n",
      "Time to read file: 0.17550039291381836\n"
     ]
    },
    {
     "data": {
      "application/vnd.jupyter.widget-view+json": {
       "model_id": "6c55f2c5ffe749729deb37b51c062a06",
       "version_major": 2,
       "version_minor": 0
      },
      "text/plain": [
       "  0%|          | 0/6 [00:00<?, ?it/s]"
      ]
     },
     "metadata": {},
     "output_type": "display_data"
    },
    {
     "name": "stdout",
     "output_type": "stream",
     "text": [
      "Time to clip: 1.3259897232055664\n",
      "Now processing nz-geodetic-marks\n",
      "Time to read file: 1.3944368362426758\n"
     ]
    },
    {
     "data": {
      "application/vnd.jupyter.widget-view+json": {
       "model_id": "61ab57848d504978a9f78846c5232a73",
       "version_major": 2,
       "version_minor": 0
      },
      "text/plain": [
       "  0%|          | 0/6 [00:00<?, ?it/s]"
      ]
     },
     "metadata": {},
     "output_type": "display_data"
    },
    {
     "name": "stdout",
     "output_type": "stream",
     "text": [
      "Time to clip: 0.24825716018676758\n",
      "Now processing nz-well-points-topo-150k\n",
      "Time to read file: 0.06571316719055176\n"
     ]
    },
    {
     "data": {
      "application/vnd.jupyter.widget-view+json": {
       "model_id": "36315dcc4ec84180a6989f0f92562142",
       "version_major": 2,
       "version_minor": 0
      },
      "text/plain": [
       "  0%|          | 0/6 [00:00<?, ?it/s]"
      ]
     },
     "metadata": {},
     "output_type": "display_data"
    },
    {
     "name": "stdout",
     "output_type": "stream",
     "text": [
      "Time to clip: 0.051335811614990234\n",
      "Now processing nz-facilities\n",
      "Time to read file: 0.03888702392578125\n"
     ]
    },
    {
     "data": {
      "application/vnd.jupyter.widget-view+json": {
       "model_id": "844d3aa6a4af4d778cbfa8159659796d",
       "version_major": 2,
       "version_minor": 0
      },
      "text/plain": [
       "  0%|          | 0/6 [00:00<?, ?it/s]"
      ]
     },
     "metadata": {},
     "output_type": "display_data"
    },
    {
     "name": "stdout",
     "output_type": "stream",
     "text": [
      "Time to clip: 0.32147645950317383\n",
      "Now processing nz-residential-area-polygons-topo-1250k\n",
      "Time to read file: 0.015541791915893555\n"
     ]
    },
    {
     "data": {
      "application/vnd.jupyter.widget-view+json": {
       "model_id": "60a648e8dbd04e8da676db4b46e3ae1e",
       "version_major": 2,
       "version_minor": 0
      },
      "text/plain": [
       "  0%|          | 0/6 [00:00<?, ?it/s]"
      ]
     },
     "metadata": {},
     "output_type": "display_data"
    },
    {
     "name": "stdout",
     "output_type": "stream",
     "text": [
      "Time to clip: 0.502962589263916\n",
      "Now processing nz-track-centrelines-topo-150k\n",
      "Time to read file: 0.7286381721496582\n"
     ]
    },
    {
     "data": {
      "application/vnd.jupyter.widget-view+json": {
       "model_id": "66b610e2bd8d4606a04f03418593e1aa",
       "version_major": 2,
       "version_minor": 0
      },
      "text/plain": [
       "  0%|          | 0/6 [00:00<?, ?it/s]"
      ]
     },
     "metadata": {},
     "output_type": "display_data"
    },
    {
     "name": "stdout",
     "output_type": "stream",
     "text": [
      "Time to clip: 1.716449499130249\n",
      "Now processing nz-monument-points-topo-150k\n",
      "Time to read file: 0.06039762496948242\n"
     ]
    },
    {
     "data": {
      "application/vnd.jupyter.widget-view+json": {
       "model_id": "2406c3c8c4434189bc67423b5514c486",
       "version_major": 2,
       "version_minor": 0
      },
      "text/plain": [
       "  0%|          | 0/6 [00:00<?, ?it/s]"
      ]
     },
     "metadata": {},
     "output_type": "display_data"
    },
    {
     "name": "stdout",
     "output_type": "stream",
     "text": [
      "Time to clip: 0.05967116355895996\n",
      "Now processing nz-building-outlines\n",
      "Time to read file: 48.57039761543274\n"
     ]
    },
    {
     "data": {
      "application/vnd.jupyter.widget-view+json": {
       "model_id": "91b8d4d9d9004f4690cd8149e9319a30",
       "version_major": 2,
       "version_minor": 0
      },
      "text/plain": [
       "  0%|          | 0/6 [00:00<?, ?it/s]"
      ]
     },
     "metadata": {},
     "output_type": "display_data"
    },
    {
     "name": "stdout",
     "output_type": "stream",
     "text": [
      "Time to clip: 274.92142248153687\n",
      "Now processing nz-pa-points-topo-150k\n",
      "Time to read file: 2.153759002685547\n"
     ]
    },
    {
     "data": {
      "application/vnd.jupyter.widget-view+json": {
       "model_id": "411320a0b69848bfb59ccd0cd3072a8e",
       "version_major": 2,
       "version_minor": 0
      },
      "text/plain": [
       "  0%|          | 0/6 [00:00<?, ?it/s]"
      ]
     },
     "metadata": {},
     "output_type": "display_data"
    },
    {
     "name": "stdout",
     "output_type": "stream",
     "text": [
      "Time to clip: 0.13025331497192383\n",
      "Now processing nz-rail-station-points-topo-150k\n",
      "Time to read file: 0.00823974609375\n"
     ]
    },
    {
     "data": {
      "application/vnd.jupyter.widget-view+json": {
       "model_id": "043ab1b9283a40f5acbc9db15b8d9fc5",
       "version_major": 2,
       "version_minor": 0
      },
      "text/plain": [
       "  0%|          | 0/6 [00:00<?, ?it/s]"
      ]
     },
     "metadata": {},
     "output_type": "display_data"
    },
    {
     "name": "stdout",
     "output_type": "stream",
     "text": [
      "Time to clip: 0.04654836654663086\n",
      "Now processing nz-airport-polygons-topo-150k\n",
      "Time to read file: 0.01073765754699707\n"
     ]
    },
    {
     "data": {
      "application/vnd.jupyter.widget-view+json": {
       "model_id": "a6570f0cc51247218533ba8645ded64d",
       "version_major": 2,
       "version_minor": 0
      },
      "text/plain": [
       "  0%|          | 0/6 [00:00<?, ?it/s]"
      ]
     },
     "metadata": {},
     "output_type": "display_data"
    },
    {
     "name": "stdout",
     "output_type": "stream",
     "text": [
      "Time to clip: 0.11503434181213379\n",
      "Now processing nz-gas-valve-points-topo-150k\n",
      "Time to read file: 0.007814407348632812\n"
     ]
    },
    {
     "data": {
      "application/vnd.jupyter.widget-view+json": {
       "model_id": "7276fd04f2b24b8794461dcd27b6673a",
       "version_major": 2,
       "version_minor": 0
      },
      "text/plain": [
       "  0%|          | 0/6 [00:00<?, ?it/s]"
      ]
     },
     "metadata": {},
     "output_type": "display_data"
    },
    {
     "name": "stdout",
     "output_type": "stream",
     "text": [
      "Time to clip: 0.03566789627075195\n",
      "Now processing nz-windmill-points-topo-150k\n",
      "Time to read file: 0.010911941528320312\n"
     ]
    },
    {
     "data": {
      "application/vnd.jupyter.widget-view+json": {
       "model_id": "554afdb5aca54943baa5afd793bc6fbb",
       "version_major": 2,
       "version_minor": 0
      },
      "text/plain": [
       "  0%|          | 0/6 [00:00<?, ?it/s]"
      ]
     },
     "metadata": {},
     "output_type": "display_data"
    },
    {
     "name": "stdout",
     "output_type": "stream",
     "text": [
      "Time to clip: 0.04480910301208496\n",
      "Now processing nz-powerline-centrelines-topo-150k\n",
      "Time to read file: 0.03802061080932617\n"
     ]
    },
    {
     "data": {
      "application/vnd.jupyter.widget-view+json": {
       "model_id": "18bf10c0da624911bf54c3e30734c26c",
       "version_major": 2,
       "version_minor": 0
      },
      "text/plain": [
       "  0%|          | 0/6 [00:00<?, ?it/s]"
      ]
     },
     "metadata": {},
     "output_type": "display_data"
    },
    {
     "name": "stdout",
     "output_type": "stream",
     "text": [
      "Time to clip: 0.14687705039978027\n",
      "Now processing nz-cemetery-polygons-topo-150k\n",
      "Time to read file: 0.011584043502807617\n"
     ]
    },
    {
     "data": {
      "application/vnd.jupyter.widget-view+json": {
       "model_id": "58211223d139451ba9e2a0117ceccb0b",
       "version_major": 2,
       "version_minor": 0
      },
      "text/plain": [
       "  0%|          | 0/6 [00:00<?, ?it/s]"
      ]
     },
     "metadata": {},
     "output_type": "display_data"
    },
    {
     "name": "stdout",
     "output_type": "stream",
     "text": [
      "Time to clip: 0.12158536911010742\n",
      "Now processing nz-railway-centre-lines\n",
      "Time to read file: 0.016644716262817383\n"
     ]
    },
    {
     "data": {
      "application/vnd.jupyter.widget-view+json": {
       "model_id": "359db8027b734209a403db480d2bad26",
       "version_major": 2,
       "version_minor": 0
      },
      "text/plain": [
       "  0%|          | 0/6 [00:00<?, ?it/s]"
      ]
     },
     "metadata": {},
     "output_type": "display_data"
    },
    {
     "name": "stdout",
     "output_type": "stream",
     "text": [
      "Time to clip: 0.33930277824401855\n",
      "Now processing nz-drain-centrelines-topo-150k\n",
      "Time to read file: 0.20519018173217773\n"
     ]
    },
    {
     "data": {
      "application/vnd.jupyter.widget-view+json": {
       "model_id": "f9ea92f7fd1f45e9b96f5f17abfa7a38",
       "version_major": 2,
       "version_minor": 0
      },
      "text/plain": [
       "  0%|          | 0/6 [00:00<?, ?it/s]"
      ]
     },
     "metadata": {},
     "output_type": "display_data"
    },
    {
     "name": "stdout",
     "output_type": "stream",
     "text": [
      "Time to clip: 0.8383164405822754\n",
      "Now processing nz-historic-site-points-topo-150k\n",
      "Time to read file: 0.023538589477539062\n"
     ]
    },
    {
     "data": {
      "application/vnd.jupyter.widget-view+json": {
       "model_id": "a7a748bef79d458c97761f1cc635f758",
       "version_major": 2,
       "version_minor": 0
      },
      "text/plain": [
       "  0%|          | 0/6 [00:00<?, ?it/s]"
      ]
     },
     "metadata": {},
     "output_type": "display_data"
    },
    {
     "name": "stdout",
     "output_type": "stream",
     "text": [
      "Time to clip: 0.05212283134460449\n",
      "Now processing nz-telephone-centrelines-topo-150k\n",
      "Time to read file: 0.007277011871337891\n"
     ]
    },
    {
     "data": {
      "application/vnd.jupyter.widget-view+json": {
       "model_id": "1de13e8b75fd4628b5cd3f11351fca94",
       "version_major": 2,
       "version_minor": 0
      },
      "text/plain": [
       "  0%|          | 0/6 [00:00<?, ?it/s]"
      ]
     },
     "metadata": {},
     "output_type": "display_data"
    },
    {
     "name": "stdout",
     "output_type": "stream",
     "text": [
      "Time to clip: 0.09190821647644043\n",
      "Now processing linz-managed-crown-property\n",
      "Time to read file: 0.23812580108642578\n"
     ]
    },
    {
     "data": {
      "application/vnd.jupyter.widget-view+json": {
       "model_id": "308b3f688fd742d7a6ded57376ebf06a",
       "version_major": 2,
       "version_minor": 0
      },
      "text/plain": [
       "  0%|          | 0/6 [00:00<?, ?it/s]"
      ]
     },
     "metadata": {},
     "output_type": "display_data"
    },
    {
     "name": "stdout",
     "output_type": "stream",
     "text": [
      "Time to clip: 1.324021577835083\n",
      "Now processing nz-geodetic-marks\n",
      "Time to read file: 1.5065786838531494\n"
     ]
    },
    {
     "data": {
      "application/vnd.jupyter.widget-view+json": {
       "model_id": "7e7c10409b7943a6ac96448b0ac80c21",
       "version_major": 2,
       "version_minor": 0
      },
      "text/plain": [
       "  0%|          | 0/6 [00:00<?, ?it/s]"
      ]
     },
     "metadata": {},
     "output_type": "display_data"
    },
    {
     "name": "stdout",
     "output_type": "stream",
     "text": [
      "Time to clip: 0.2484903335571289\n",
      "Now processing nz-well-points-topo-150k\n",
      "Time to read file: 0.0648946762084961\n"
     ]
    },
    {
     "data": {
      "application/vnd.jupyter.widget-view+json": {
       "model_id": "9f1fc7f1f41a4b2a98cd92987a49fbc2",
       "version_major": 2,
       "version_minor": 0
      },
      "text/plain": [
       "  0%|          | 0/6 [00:00<?, ?it/s]"
      ]
     },
     "metadata": {},
     "output_type": "display_data"
    },
    {
     "name": "stdout",
     "output_type": "stream",
     "text": [
      "Time to clip: 0.053371429443359375\n",
      "Now processing nz-facilities\n",
      "Time to read file: 0.04358196258544922\n"
     ]
    },
    {
     "data": {
      "application/vnd.jupyter.widget-view+json": {
       "model_id": "27004d41afc448f3a883ac30816dc0ae",
       "version_major": 2,
       "version_minor": 0
      },
      "text/plain": [
       "  0%|          | 0/6 [00:00<?, ?it/s]"
      ]
     },
     "metadata": {},
     "output_type": "display_data"
    },
    {
     "name": "stdout",
     "output_type": "stream",
     "text": [
      "Time to clip: 0.31452417373657227\n",
      "Now processing nz-residential-area-polygons-topo-1250k\n",
      "Time to read file: 0.016905784606933594\n"
     ]
    },
    {
     "data": {
      "application/vnd.jupyter.widget-view+json": {
       "model_id": "73770cdba381465491ac613ce75a2681",
       "version_major": 2,
       "version_minor": 0
      },
      "text/plain": [
       "  0%|          | 0/6 [00:00<?, ?it/s]"
      ]
     },
     "metadata": {},
     "output_type": "display_data"
    },
    {
     "name": "stdout",
     "output_type": "stream",
     "text": [
      "Time to clip: 0.49643898010253906\n",
      "Now processing nz-track-centrelines-topo-150k\n",
      "Time to read file: 0.7793178558349609\n"
     ]
    },
    {
     "data": {
      "application/vnd.jupyter.widget-view+json": {
       "model_id": "8b3cd97ad3354a0bbc92af8553c019d7",
       "version_major": 2,
       "version_minor": 0
      },
      "text/plain": [
       "  0%|          | 0/6 [00:00<?, ?it/s]"
      ]
     },
     "metadata": {},
     "output_type": "display_data"
    },
    {
     "name": "stdout",
     "output_type": "stream",
     "text": [
      "Time to clip: 1.6282262802124023\n",
      "Now processing nz-monument-points-topo-150k\n",
      "Time to read file: 0.06216263771057129\n"
     ]
    },
    {
     "data": {
      "application/vnd.jupyter.widget-view+json": {
       "model_id": "1b6e97ad82db487297347db56ba9f4c5",
       "version_major": 2,
       "version_minor": 0
      },
      "text/plain": [
       "  0%|          | 0/6 [00:00<?, ?it/s]"
      ]
     },
     "metadata": {},
     "output_type": "display_data"
    },
    {
     "name": "stdout",
     "output_type": "stream",
     "text": [
      "Time to clip: 0.05889129638671875\n",
      "Now processing nz-building-outlines\n",
      "Time to read file: 49.31263971328735\n"
     ]
    },
    {
     "data": {
      "application/vnd.jupyter.widget-view+json": {
       "model_id": "77df980573e4492a974376e966a663b5",
       "version_major": 2,
       "version_minor": 0
      },
      "text/plain": [
       "  0%|          | 0/6 [00:00<?, ?it/s]"
      ]
     },
     "metadata": {},
     "output_type": "display_data"
    },
    {
     "name": "stdout",
     "output_type": "stream",
     "text": [
      "Time to clip: 270.78652143478394\n",
      "Now processing nz-pa-points-topo-150k\n",
      "Time to read file: 2.2014384269714355\n"
     ]
    },
    {
     "data": {
      "application/vnd.jupyter.widget-view+json": {
       "model_id": "c4d1efb0b6bf45c5b51d4deee9aed5ef",
       "version_major": 2,
       "version_minor": 0
      },
      "text/plain": [
       "  0%|          | 0/6 [00:00<?, ?it/s]"
      ]
     },
     "metadata": {},
     "output_type": "display_data"
    },
    {
     "name": "stdout",
     "output_type": "stream",
     "text": [
      "Time to clip: 0.158951997756958\n",
      "Now processing nz-rail-station-points-topo-150k\n",
      "Time to read file: 0.008316993713378906\n"
     ]
    },
    {
     "data": {
      "application/vnd.jupyter.widget-view+json": {
       "model_id": "28ab0bc1c4d3403383bd2d8445a84df7",
       "version_major": 2,
       "version_minor": 0
      },
      "text/plain": [
       "  0%|          | 0/6 [00:00<?, ?it/s]"
      ]
     },
     "metadata": {},
     "output_type": "display_data"
    },
    {
     "name": "stdout",
     "output_type": "stream",
     "text": [
      "Time to clip: 0.048632144927978516\n",
      "Now processing nz-airport-polygons-topo-150k\n",
      "Time to read file: 0.00706028938293457\n"
     ]
    },
    {
     "data": {
      "application/vnd.jupyter.widget-view+json": {
       "model_id": "d30e2e4836344983a0a8204e3a676dec",
       "version_major": 2,
       "version_minor": 0
      },
      "text/plain": [
       "  0%|          | 0/6 [00:00<?, ?it/s]"
      ]
     },
     "metadata": {},
     "output_type": "display_data"
    },
    {
     "name": "stdout",
     "output_type": "stream",
     "text": [
      "Time to clip: 0.15106415748596191\n",
      "Now processing nz-gas-valve-points-topo-150k\n",
      "Time to read file: 0.008211135864257812\n"
     ]
    },
    {
     "data": {
      "application/vnd.jupyter.widget-view+json": {
       "model_id": "895ff2b8f0f341dabb346f285005ea9d",
       "version_major": 2,
       "version_minor": 0
      },
      "text/plain": [
       "  0%|          | 0/6 [00:00<?, ?it/s]"
      ]
     },
     "metadata": {},
     "output_type": "display_data"
    },
    {
     "name": "stdout",
     "output_type": "stream",
     "text": [
      "Time to clip: 0.03240370750427246\n",
      "Now processing nz-windmill-points-topo-150k\n",
      "Time to read file: 0.008620023727416992\n"
     ]
    },
    {
     "data": {
      "application/vnd.jupyter.widget-view+json": {
       "model_id": "9559635ffdb54770876240acee6dfa30",
       "version_major": 2,
       "version_minor": 0
      },
      "text/plain": [
       "  0%|          | 0/6 [00:00<?, ?it/s]"
      ]
     },
     "metadata": {},
     "output_type": "display_data"
    },
    {
     "name": "stdout",
     "output_type": "stream",
     "text": [
      "Time to clip: 0.044558048248291016\n",
      "Now processing protected-areas\n",
      "Time to read file: 0.8250167369842529\n"
     ]
    },
    {
     "data": {
      "application/vnd.jupyter.widget-view+json": {
       "model_id": "a03ecd5603d94dd8a85ce10a08e0723c",
       "version_major": 2,
       "version_minor": 0
      },
      "text/plain": [
       "  0%|          | 0/6 [00:00<?, ?it/s]"
      ]
     },
     "metadata": {},
     "output_type": "display_data"
    },
    {
     "name": "stdout",
     "output_type": "stream",
     "text": [
      "Time to clip: 8.563828706741333\n",
      "Now processing nz-walking-and-biking-tracks\n",
      "Time to read file: 0.6404645442962646\n"
     ]
    },
    {
     "data": {
      "application/vnd.jupyter.widget-view+json": {
       "model_id": "a25d875d949042378270cc24399aa018",
       "version_major": 2,
       "version_minor": 0
      },
      "text/plain": [
       "  0%|          | 0/6 [00:00<?, ?it/s]"
      ]
     },
     "metadata": {},
     "output_type": "display_data"
    },
    {
     "name": "stdout",
     "output_type": "stream",
     "text": [
      "Time to clip: 3.1026551723480225\n",
      "Now processing smap-soil-drainage-dec-2023\n"
     ]
    },
    {
     "name": "stderr",
     "output_type": "stream",
     "text": [
      "IOStream.flush timed out\n"
     ]
    },
    {
     "name": "stdout",
     "output_type": "stream",
     "text": [
      "Time to read file: 16.96297574043274\n"
     ]
    },
    {
     "data": {
      "application/vnd.jupyter.widget-view+json": {
       "model_id": "ba9b51091a6d4f4688d12be0544c0a3c",
       "version_major": 2,
       "version_minor": 0
      },
      "text/plain": [
       "  0%|          | 0/6 [00:00<?, ?it/s]"
      ]
     },
     "metadata": {},
     "output_type": "display_data"
    },
    {
     "name": "stdout",
     "output_type": "stream",
     "text": [
      "Time to clip: 20.586665391921997\n",
      "Now processing nzlri-land-use-capability-2021\n",
      "Time to read file: 4.820345640182495\n"
     ]
    },
    {
     "data": {
      "application/vnd.jupyter.widget-view+json": {
       "model_id": "12dfb82652e8473ea5e1a6e54ab08902",
       "version_major": 2,
       "version_minor": 0
      },
      "text/plain": [
       "  0%|          | 0/6 [00:00<?, ?it/s]"
      ]
     },
     "metadata": {},
     "output_type": "display_data"
    },
    {
     "name": "stdout",
     "output_type": "stream",
     "text": [
      "Time to clip: 15.340906620025635\n",
      "Now processing protected-areas\n",
      "Time to read file: 0.7985832691192627\n"
     ]
    },
    {
     "data": {
      "application/vnd.jupyter.widget-view+json": {
       "model_id": "af2e2184b746401b9fcb3660c6cd240f",
       "version_major": 2,
       "version_minor": 0
      },
      "text/plain": [
       "  0%|          | 0/6 [00:00<?, ?it/s]"
      ]
     },
     "metadata": {},
     "output_type": "display_data"
    },
    {
     "name": "stdout",
     "output_type": "stream",
     "text": [
      "Time to clip: 8.265458345413208\n",
      "Now processing nz-walking-and-biking-tracks\n",
      "Time to read file: 0.6683259010314941\n"
     ]
    },
    {
     "data": {
      "application/vnd.jupyter.widget-view+json": {
       "model_id": "26d8ef21b3134dcda347381173f0b82c",
       "version_major": 2,
       "version_minor": 0
      },
      "text/plain": [
       "  0%|          | 0/6 [00:00<?, ?it/s]"
      ]
     },
     "metadata": {},
     "output_type": "display_data"
    },
    {
     "name": "stdout",
     "output_type": "stream",
     "text": [
      "Time to clip: 3.022231340408325\n",
      "Now processing smap-soil-drainage-dec-2023\n",
      "Time to read file: 15.872958660125732\n"
     ]
    },
    {
     "data": {
      "application/vnd.jupyter.widget-view+json": {
       "model_id": "449244a528124b959b73e39af335f28f",
       "version_major": 2,
       "version_minor": 0
      },
      "text/plain": [
       "  0%|          | 0/6 [00:00<?, ?it/s]"
      ]
     },
     "metadata": {},
     "output_type": "display_data"
    },
    {
     "name": "stdout",
     "output_type": "stream",
     "text": [
      "Time to clip: 20.277727603912354\n",
      "Now processing nzlri-land-use-capability-2021\n",
      "Time to read file: 4.642675876617432\n"
     ]
    },
    {
     "data": {
      "application/vnd.jupyter.widget-view+json": {
       "model_id": "de8bfa20945b4ce7911dcf9baf6cfea6",
       "version_major": 2,
       "version_minor": 0
      },
      "text/plain": [
       "  0%|          | 0/6 [00:00<?, ?it/s]"
      ]
     },
     "metadata": {},
     "output_type": "display_data"
    },
    {
     "name": "stdout",
     "output_type": "stream",
     "text": [
      "Time to clip: 15.689075469970703\n"
     ]
    }
   ],
   "source": [
    "for row in tqdm(files.itertuples(index=False), total=len(files)):\n",
    "  print(f\"Now processing {row.filename}\")\n",
    "  start = time.time()\n",
    "  asset = gpd.read_file(row.filepath)#, engine=\"pyogrio\", use_arrow=True)\n",
    "  print(f\"Time to read file: {time.time() - start}\")\n",
    "  start = time.time()\n",
    "  clipped_asset = pd.concat(gpd.clip(asset, poly) for poly in tqdm(polys))\n",
    "  print(f\"Time to clip: {time.time() - start}\")\n",
    "  clipped_asset[\"affected_area\"] = clipped_asset.area\n",
    "  clipped_asset[\"affected_length\"] = clipped_asset.length\n",
    "  clipped_asset.to_file(\"affected_assets.gpkg\", layer=row.filename, driver='GPKG')"
   ]
  },
  {
   "cell_type": "code",
   "execution_count": 18,
   "metadata": {},
   "outputs": [
    {
     "data": {
      "text/html": [
       "<pre>✔️ 32 ms (2024-11-08T17:03:34/2024-11-08T17:03:34)</pre>"
      ],
      "text/plain": [
       "<IPython.core.display.HTML object>"
      ]
     },
     "metadata": {},
     "output_type": "display_data"
    },
    {
     "data": {
      "text/html": [
       "<div>\n",
       "<style scoped>\n",
       "    .dataframe tbody tr th:only-of-type {\n",
       "        vertical-align: middle;\n",
       "    }\n",
       "\n",
       "    .dataframe tbody tr th {\n",
       "        vertical-align: top;\n",
       "    }\n",
       "\n",
       "    .dataframe thead th {\n",
       "        text-align: right;\n",
       "    }\n",
       "</style>\n",
       "<table border=\"1\" class=\"dataframe\">\n",
       "  <thead>\n",
       "    <tr style=\"text-align: right;\">\n",
       "      <th></th>\n",
       "      <th>name</th>\n",
       "      <th>geometry_type</th>\n",
       "    </tr>\n",
       "  </thead>\n",
       "  <tbody>\n",
       "    <tr>\n",
       "      <th>0</th>\n",
       "      <td>location-and-extent-of-nzs-aquifers-2015</td>\n",
       "      <td>MultiPolygon</td>\n",
       "    </tr>\n",
       "    <tr>\n",
       "      <th>1</th>\n",
       "      <td>nz-primary-road-parcels</td>\n",
       "      <td>MultiPolygon</td>\n",
       "    </tr>\n",
       "    <tr>\n",
       "      <th>2</th>\n",
       "      <td>nz-roads-road-section-geometry</td>\n",
       "      <td>MultiLineString</td>\n",
       "    </tr>\n",
       "    <tr>\n",
       "      <th>3</th>\n",
       "      <td>nz-coastlines-topo-150k</td>\n",
       "      <td>MultiLineString</td>\n",
       "    </tr>\n",
       "    <tr>\n",
       "      <th>4</th>\n",
       "      <td>nz-orchard-polygons-topo-150k</td>\n",
       "      <td>MultiPolygon</td>\n",
       "    </tr>\n",
       "    <tr>\n",
       "      <th>5</th>\n",
       "      <td>nz-cadastral-survey-network-marks</td>\n",
       "      <td>Point</td>\n",
       "    </tr>\n",
       "    <tr>\n",
       "      <th>6</th>\n",
       "      <td>nz-trig-points-topo-150k</td>\n",
       "      <td>Point</td>\n",
       "    </tr>\n",
       "    <tr>\n",
       "      <th>7</th>\n",
       "      <td>nz-vineyard-polygons-topo-150k</td>\n",
       "      <td>Unknown</td>\n",
       "    </tr>\n",
       "    <tr>\n",
       "      <th>8</th>\n",
       "      <td>new-zealand-2022-estimated-resident-population-grid-250-metr</td>\n",
       "      <td>MultiPolygon</td>\n",
       "    </tr>\n",
       "    <tr>\n",
       "      <th>9</th>\n",
       "      <td>nz-swamp-polygons-topo-150k</td>\n",
       "      <td>MultiPolygon</td>\n",
       "    </tr>\n",
       "    <tr>\n",
       "      <th>10</th>\n",
       "      <td>nz-mangrove-polygons-topo-150k</td>\n",
       "      <td>MultiPolygon</td>\n",
       "    </tr>\n",
       "    <tr>\n",
       "      <th>11</th>\n",
       "      <td>Transpower Transmission Lines</td>\n",
       "      <td>Unknown</td>\n",
       "    </tr>\n",
       "    <tr>\n",
       "      <th>12</th>\n",
       "      <td>KiwiRailTrack</td>\n",
       "      <td>Unknown</td>\n",
       "    </tr>\n",
       "    <tr>\n",
       "      <th>13</th>\n",
       "      <td>zone_substations</td>\n",
       "      <td>Unknown</td>\n",
       "    </tr>\n",
       "    <tr>\n",
       "      <th>14</th>\n",
       "      <td>lucas-nz-land-use-map-1990-2008-2012-2016-v011</td>\n",
       "      <td>MultiPolygon</td>\n",
       "    </tr>\n",
       "    <tr>\n",
       "      <th>15</th>\n",
       "      <td>fsl-soil-drainage-class</td>\n",
       "      <td>MultiPolygon</td>\n",
       "    </tr>\n",
       "    <tr>\n",
       "      <th>16</th>\n",
       "      <td>generation_NZ</td>\n",
       "      <td>Unknown</td>\n",
       "    </tr>\n",
       "    <tr>\n",
       "      <th>17</th>\n",
       "      <td>wwtp</td>\n",
       "      <td>Unknown</td>\n",
       "    </tr>\n",
       "    <tr>\n",
       "      <th>18</th>\n",
       "      <td>wtp</td>\n",
       "      <td>Unknown</td>\n",
       "    </tr>\n",
       "    <tr>\n",
       "      <th>19</th>\n",
       "      <td>DOC_Marine_Reserves</td>\n",
       "      <td>MultiPolygon</td>\n",
       "    </tr>\n",
       "    <tr>\n",
       "      <th>20</th>\n",
       "      <td>Ecological_Districts</td>\n",
       "      <td>MultiPolygon</td>\n",
       "    </tr>\n",
       "    <tr>\n",
       "      <th>21</th>\n",
       "      <td>Internationally_Recognised_Areas</td>\n",
       "      <td>MultiPolygon</td>\n",
       "    </tr>\n",
       "    <tr>\n",
       "      <th>22</th>\n",
       "      <td>DOC_Sanctuaries_to_Protect_Marine_Mammals</td>\n",
       "      <td>MultiPolygon</td>\n",
       "    </tr>\n",
       "    <tr>\n",
       "      <th>23</th>\n",
       "      <td>Covenant_Areas</td>\n",
       "      <td>MultiPolygon</td>\n",
       "    </tr>\n",
       "    <tr>\n",
       "      <th>24</th>\n",
       "      <td>DOC_Campsites</td>\n",
       "      <td>Point</td>\n",
       "    </tr>\n",
       "    <tr>\n",
       "      <th>25</th>\n",
       "      <td>DOC_Public_Conservation_Land</td>\n",
       "      <td>MultiPolygon</td>\n",
       "    </tr>\n",
       "    <tr>\n",
       "      <th>26</th>\n",
       "      <td>DOC_Offices</td>\n",
       "      <td>Unknown</td>\n",
       "    </tr>\n",
       "    <tr>\n",
       "      <th>27</th>\n",
       "      <td>roads</td>\n",
       "      <td>MultiLineString Z</td>\n",
       "    </tr>\n",
       "    <tr>\n",
       "      <th>28</th>\n",
       "      <td>nz-road-centrelines-topo-150k</td>\n",
       "      <td>MultiLineString</td>\n",
       "    </tr>\n",
       "    <tr>\n",
       "      <th>29</th>\n",
       "      <td>nz-powerline-centrelines-topo-150k</td>\n",
       "      <td>MultiLineString</td>\n",
       "    </tr>\n",
       "    <tr>\n",
       "      <th>30</th>\n",
       "      <td>nz-cemetery-polygons-topo-150k</td>\n",
       "      <td>Unknown</td>\n",
       "    </tr>\n",
       "    <tr>\n",
       "      <th>31</th>\n",
       "      <td>nz-railway-centre-lines</td>\n",
       "      <td>MultiLineString</td>\n",
       "    </tr>\n",
       "    <tr>\n",
       "      <th>32</th>\n",
       "      <td>nz-drain-centrelines-topo-150k</td>\n",
       "      <td>MultiLineString</td>\n",
       "    </tr>\n",
       "    <tr>\n",
       "      <th>33</th>\n",
       "      <td>nz-historic-site-points-topo-150k</td>\n",
       "      <td>Point</td>\n",
       "    </tr>\n",
       "    <tr>\n",
       "      <th>34</th>\n",
       "      <td>nz-telephone-centrelines-topo-150k</td>\n",
       "      <td>Unknown</td>\n",
       "    </tr>\n",
       "    <tr>\n",
       "      <th>35</th>\n",
       "      <td>linz-managed-crown-property</td>\n",
       "      <td>MultiPolygon</td>\n",
       "    </tr>\n",
       "    <tr>\n",
       "      <th>36</th>\n",
       "      <td>nz-geodetic-marks</td>\n",
       "      <td>Point</td>\n",
       "    </tr>\n",
       "    <tr>\n",
       "      <th>37</th>\n",
       "      <td>nz-well-points-topo-150k</td>\n",
       "      <td>Unknown</td>\n",
       "    </tr>\n",
       "    <tr>\n",
       "      <th>38</th>\n",
       "      <td>nz-facilities</td>\n",
       "      <td>Polygon</td>\n",
       "    </tr>\n",
       "    <tr>\n",
       "      <th>39</th>\n",
       "      <td>nz-residential-area-polygons-topo-1250k</td>\n",
       "      <td>MultiPolygon</td>\n",
       "    </tr>\n",
       "    <tr>\n",
       "      <th>40</th>\n",
       "      <td>nz-track-centrelines-topo-150k</td>\n",
       "      <td>MultiLineString</td>\n",
       "    </tr>\n",
       "    <tr>\n",
       "      <th>41</th>\n",
       "      <td>nz-monument-points-topo-150k</td>\n",
       "      <td>Point</td>\n",
       "    </tr>\n",
       "    <tr>\n",
       "      <th>42</th>\n",
       "      <td>nz-building-outlines</td>\n",
       "      <td>MultiPolygon</td>\n",
       "    </tr>\n",
       "    <tr>\n",
       "      <th>43</th>\n",
       "      <td>nz-pa-points-topo-150k</td>\n",
       "      <td>Point</td>\n",
       "    </tr>\n",
       "    <tr>\n",
       "      <th>44</th>\n",
       "      <td>nz-rail-station-points-topo-150k</td>\n",
       "      <td>Unknown</td>\n",
       "    </tr>\n",
       "    <tr>\n",
       "      <th>45</th>\n",
       "      <td>nz-airport-polygons-topo-150k</td>\n",
       "      <td>MultiPolygon</td>\n",
       "    </tr>\n",
       "    <tr>\n",
       "      <th>46</th>\n",
       "      <td>nz-gas-valve-points-topo-150k</td>\n",
       "      <td>Unknown</td>\n",
       "    </tr>\n",
       "    <tr>\n",
       "      <th>47</th>\n",
       "      <td>nz-windmill-points-topo-150k</td>\n",
       "      <td>Unknown</td>\n",
       "    </tr>\n",
       "    <tr>\n",
       "      <th>48</th>\n",
       "      <td>protected-areas</td>\n",
       "      <td>MultiPolygon</td>\n",
       "    </tr>\n",
       "    <tr>\n",
       "      <th>49</th>\n",
       "      <td>nz-walking-and-biking-tracks</td>\n",
       "      <td>MultiLineString</td>\n",
       "    </tr>\n",
       "    <tr>\n",
       "      <th>50</th>\n",
       "      <td>smap-soil-drainage-dec-2023</td>\n",
       "      <td>MultiPolygon</td>\n",
       "    </tr>\n",
       "    <tr>\n",
       "      <th>51</th>\n",
       "      <td>nzlri-land-use-capability-2021</td>\n",
       "      <td>MultiPolygon</td>\n",
       "    </tr>\n",
       "  </tbody>\n",
       "</table>\n",
       "</div>"
      ],
      "text/plain": [
       "                                                            name  \\\n",
       "0                       location-and-extent-of-nzs-aquifers-2015   \n",
       "1                                        nz-primary-road-parcels   \n",
       "2                                 nz-roads-road-section-geometry   \n",
       "3                                        nz-coastlines-topo-150k   \n",
       "4                                  nz-orchard-polygons-topo-150k   \n",
       "5                              nz-cadastral-survey-network-marks   \n",
       "6                                       nz-trig-points-topo-150k   \n",
       "7                                 nz-vineyard-polygons-topo-150k   \n",
       "8   new-zealand-2022-estimated-resident-population-grid-250-metr   \n",
       "9                                    nz-swamp-polygons-topo-150k   \n",
       "10                                nz-mangrove-polygons-topo-150k   \n",
       "11                                 Transpower Transmission Lines   \n",
       "12                                                 KiwiRailTrack   \n",
       "13                                              zone_substations   \n",
       "14                lucas-nz-land-use-map-1990-2008-2012-2016-v011   \n",
       "15                                       fsl-soil-drainage-class   \n",
       "16                                                 generation_NZ   \n",
       "17                                                          wwtp   \n",
       "18                                                           wtp   \n",
       "19                                           DOC_Marine_Reserves   \n",
       "20                                          Ecological_Districts   \n",
       "21                              Internationally_Recognised_Areas   \n",
       "22                     DOC_Sanctuaries_to_Protect_Marine_Mammals   \n",
       "23                                                Covenant_Areas   \n",
       "24                                                 DOC_Campsites   \n",
       "25                                  DOC_Public_Conservation_Land   \n",
       "26                                                   DOC_Offices   \n",
       "27                                                         roads   \n",
       "28                                 nz-road-centrelines-topo-150k   \n",
       "29                            nz-powerline-centrelines-topo-150k   \n",
       "30                                nz-cemetery-polygons-topo-150k   \n",
       "31                                       nz-railway-centre-lines   \n",
       "32                                nz-drain-centrelines-topo-150k   \n",
       "33                             nz-historic-site-points-topo-150k   \n",
       "34                            nz-telephone-centrelines-topo-150k   \n",
       "35                                   linz-managed-crown-property   \n",
       "36                                             nz-geodetic-marks   \n",
       "37                                      nz-well-points-topo-150k   \n",
       "38                                                 nz-facilities   \n",
       "39                       nz-residential-area-polygons-topo-1250k   \n",
       "40                                nz-track-centrelines-topo-150k   \n",
       "41                                  nz-monument-points-topo-150k   \n",
       "42                                          nz-building-outlines   \n",
       "43                                        nz-pa-points-topo-150k   \n",
       "44                              nz-rail-station-points-topo-150k   \n",
       "45                                 nz-airport-polygons-topo-150k   \n",
       "46                                 nz-gas-valve-points-topo-150k   \n",
       "47                                  nz-windmill-points-topo-150k   \n",
       "48                                               protected-areas   \n",
       "49                                  nz-walking-and-biking-tracks   \n",
       "50                                   smap-soil-drainage-dec-2023   \n",
       "51                                nzlri-land-use-capability-2021   \n",
       "\n",
       "        geometry_type  \n",
       "0        MultiPolygon  \n",
       "1        MultiPolygon  \n",
       "2     MultiLineString  \n",
       "3     MultiLineString  \n",
       "4        MultiPolygon  \n",
       "5               Point  \n",
       "6               Point  \n",
       "7             Unknown  \n",
       "8        MultiPolygon  \n",
       "9        MultiPolygon  \n",
       "10       MultiPolygon  \n",
       "11            Unknown  \n",
       "12            Unknown  \n",
       "13            Unknown  \n",
       "14       MultiPolygon  \n",
       "15       MultiPolygon  \n",
       "16            Unknown  \n",
       "17            Unknown  \n",
       "18            Unknown  \n",
       "19       MultiPolygon  \n",
       "20       MultiPolygon  \n",
       "21       MultiPolygon  \n",
       "22       MultiPolygon  \n",
       "23       MultiPolygon  \n",
       "24              Point  \n",
       "25       MultiPolygon  \n",
       "26            Unknown  \n",
       "27  MultiLineString Z  \n",
       "28    MultiLineString  \n",
       "29    MultiLineString  \n",
       "30            Unknown  \n",
       "31    MultiLineString  \n",
       "32    MultiLineString  \n",
       "33              Point  \n",
       "34            Unknown  \n",
       "35       MultiPolygon  \n",
       "36              Point  \n",
       "37            Unknown  \n",
       "38            Polygon  \n",
       "39       MultiPolygon  \n",
       "40    MultiLineString  \n",
       "41              Point  \n",
       "42       MultiPolygon  \n",
       "43              Point  \n",
       "44            Unknown  \n",
       "45       MultiPolygon  \n",
       "46            Unknown  \n",
       "47            Unknown  \n",
       "48       MultiPolygon  \n",
       "49    MultiLineString  \n",
       "50       MultiPolygon  \n",
       "51       MultiPolygon  "
      ]
     },
     "execution_count": 18,
     "metadata": {},
     "output_type": "execute_result"
    }
   ],
   "source": [
    "gpd.list_layers(\"affected_assets.gpkg\")"
   ]
  },
  {
   "cell_type": "code",
   "execution_count": 23,
   "metadata": {},
   "outputs": [
    {
     "data": {
      "text/html": [
       "<pre>✔️ 30.3 ms (2024-11-08T17:06:20/2024-11-08T17:06:20)</pre>"
      ],
      "text/plain": [
       "<IPython.core.display.HTML object>"
      ]
     },
     "metadata": {},
     "output_type": "display_data"
    },
    {
     "data": {
      "text/html": [
       "<div>\n",
       "<style scoped>\n",
       "    .dataframe tbody tr th:only-of-type {\n",
       "        vertical-align: middle;\n",
       "    }\n",
       "\n",
       "    .dataframe tbody tr th {\n",
       "        vertical-align: top;\n",
       "    }\n",
       "\n",
       "    .dataframe thead th {\n",
       "        text-align: right;\n",
       "    }\n",
       "</style>\n",
       "<table border=\"1\" class=\"dataframe\">\n",
       "  <thead>\n",
       "    <tr style=\"text-align: right;\">\n",
       "      <th></th>\n",
       "      <th>filepath</th>\n",
       "      <th>filename</th>\n",
       "      <th>filesize_GB</th>\n",
       "    </tr>\n",
       "  </thead>\n",
       "  <tbody>\n",
       "    <tr>\n",
       "      <th>87</th>\n",
       "      <td>Asset Directory/CAA NZ_Aerodromes.geojson</td>\n",
       "      <td>CAA NZ_Aerodromes</td>\n",
       "      <td>0.000152</td>\n",
       "    </tr>\n",
       "  </tbody>\n",
       "</table>\n",
       "</div>"
      ],
      "text/plain": [
       "                                     filepath           filename  filesize_GB\n",
       "87  Asset Directory/CAA NZ_Aerodromes.geojson  CAA NZ_Aerodromes     0.000152"
      ]
     },
     "execution_count": 23,
     "metadata": {},
     "output_type": "execute_result"
    }
   ],
   "source": [
    "files = files[~files.filename.isin(gpd.list_layers(\"affected_assets.gpkg\").name)]\n",
    "files"
   ]
  },
  {
   "cell_type": "code",
   "execution_count": 26,
   "metadata": {},
   "outputs": [
    {
     "data": {
      "text/html": [
       "<pre>✔️ 130 ms (2024-11-08T17:07:11/2024-11-08T17:07:11)</pre>"
      ],
      "text/plain": [
       "<IPython.core.display.HTML object>"
      ]
     },
     "metadata": {},
     "output_type": "display_data"
    },
    {
     "data": {
      "application/vnd.jupyter.widget-view+json": {
       "model_id": "35d0a94f32f04ed4be84c9c51674bd7e",
       "version_major": 2,
       "version_minor": 0
      },
      "text/plain": [
       "  0%|          | 0/1 [00:00<?, ?it/s]"
      ]
     },
     "metadata": {},
     "output_type": "display_data"
    },
    {
     "name": "stdout",
     "output_type": "stream",
     "text": [
      "Now processing CAA NZ_Aerodromes\n",
      "Time to read file: 0.030376195907592773\n"
     ]
    },
    {
     "data": {
      "application/vnd.jupyter.widget-view+json": {
       "model_id": "219f39c149994c1b9d0eb4538db7d40f",
       "version_major": 2,
       "version_minor": 0
      },
      "text/plain": [
       "  0%|          | 0/6 [00:00<?, ?it/s]"
      ]
     },
     "metadata": {},
     "output_type": "display_data"
    },
    {
     "name": "stdout",
     "output_type": "stream",
     "text": [
      "Time to clip: 0.045610904693603516\n"
     ]
    }
   ],
   "source": [
    "for row in tqdm(files.itertuples(index=False), total=len(files)):\n",
    "  print(f\"Now processing {row.filename}\")\n",
    "  start = time.time()\n",
    "  asset = gpd.read_file(row.filepath).to_crs(2193)#, engine=\"pyogrio\", use_arrow=True)\n",
    "  print(f\"Time to read file: {time.time() - start}\")\n",
    "  start = time.time()\n",
    "  clipped_asset = pd.concat(gpd.clip(asset, poly) for poly in tqdm(polys))\n",
    "  print(f\"Time to clip: {time.time() - start}\")\n",
    "  clipped_asset[\"affected_area\"] = clipped_asset.area\n",
    "  clipped_asset[\"affected_length\"] = clipped_asset.length\n",
    "  clipped_asset.to_file(\"affected_assets.gpkg\", layer=row.filename, driver='GPKG')"
   ]
  }
 ],
 "metadata": {
  "kernelspec": {
   "display_name": "Python 3",
   "language": "python",
   "name": "python3"
  },
  "language_info": {
   "codemirror_mode": {
    "name": "ipython",
    "version": 3
   },
   "file_extension": ".py",
   "mimetype": "text/x-python",
   "name": "python",
   "nbconvert_exporter": "python",
   "pygments_lexer": "ipython3",
   "version": "3.12.3"
  }
 },
 "nbformat": 4,
 "nbformat_minor": 2
}
