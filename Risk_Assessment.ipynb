{
 "cells": [
  {
   "cell_type": "code",
   "execution_count": 1,
   "metadata": {},
   "outputs": [
    {
     "data": {
      "text/html": [
       "<pre>✔️ 374 ms (2025-01-13T17:14:35/2025-01-13T17:14:35)</pre>"
      ],
      "text/plain": [
       "<IPython.core.display.HTML object>"
      ]
     },
     "metadata": {},
     "output_type": "display_data"
    }
   ],
   "source": [
    "%load_ext autotime\n",
    "import pandas as pd\n",
    "import os\n",
    "import geopandas as gpd\n",
    "from glob import glob\n",
    "from shapely.validation import make_valid\n",
    "from tqdm.auto import tqdm\n",
    "import time\n",
    "pd.set_option(\"display.max_colwidth\", 100)"
   ]
  },
  {
   "cell_type": "code",
   "execution_count": 2,
   "metadata": {},
   "outputs": [
    {
     "data": {
      "text/html": [
       "<pre>✔️ 15.4 ms (2025-01-13T17:14:35/2025-01-13T17:14:35)</pre>"
      ],
      "text/plain": [
       "<IPython.core.display.HTML object>"
      ]
     },
     "metadata": {},
     "output_type": "display_data"
    },
    {
     "data": {
      "text/html": [
       "<div>\n",
       "<style scoped>\n",
       "    .dataframe tbody tr th:only-of-type {\n",
       "        vertical-align: middle;\n",
       "    }\n",
       "\n",
       "    .dataframe tbody tr th {\n",
       "        vertical-align: top;\n",
       "    }\n",
       "\n",
       "    .dataframe thead th {\n",
       "        text-align: right;\n",
       "    }\n",
       "</style>\n",
       "<table border=\"1\" class=\"dataframe\">\n",
       "  <thead>\n",
       "    <tr style=\"text-align: right;\">\n",
       "      <th></th>\n",
       "      <th>filepath</th>\n",
       "      <th>filename</th>\n",
       "      <th>filesize_GB</th>\n",
       "    </tr>\n",
       "  </thead>\n",
       "  <tbody>\n",
       "    <tr>\n",
       "      <th>0</th>\n",
       "      <td>Asset Directory/LUCAS NZ Land Use/lucas-nz-land-use-map-1990-2008-2012-2016-v011.shp</td>\n",
       "      <td>lucas-nz-land-use-map-1990-2008-2012-2016-v011</td>\n",
       "      <td>1.435426</td>\n",
       "    </tr>\n",
       "    <tr>\n",
       "      <th>1</th>\n",
       "      <td>Asset Directory/Koordinate/smap-soil-drainage-dec-2023/smap-soil-drainage-dec-2023.shp</td>\n",
       "      <td>smap-soil-drainage-dec-2023</td>\n",
       "      <td>0.699233</td>\n",
       "    </tr>\n",
       "    <tr>\n",
       "      <th>2</th>\n",
       "      <td>Asset Directory/lds-new-zealand-17layers-SHP/nz-building-outlines/nz-building-outlines.shp</td>\n",
       "      <td>nz-building-outlines</td>\n",
       "      <td>0.636510</td>\n",
       "    </tr>\n",
       "    <tr>\n",
       "      <th>3</th>\n",
       "      <td>Asset Directory/lris-fsl-soil-drainage-class-SHP/fsl-soil-drainage-class.shp</td>\n",
       "      <td>fsl-soil-drainage-class</td>\n",
       "      <td>0.164699</td>\n",
       "    </tr>\n",
       "    <tr>\n",
       "      <th>4</th>\n",
       "      <td>Asset Directory/Koordinate/nzlri-land-use-capability-2021/nzlri-land-use-capability-2021.shp</td>\n",
       "      <td>nzlri-land-use-capability-2021</td>\n",
       "      <td>0.164578</td>\n",
       "    </tr>\n",
       "    <tr>\n",
       "      <th>5</th>\n",
       "      <td>Asset Directory/DOC/DOC_Public_Conservation_Land.shp</td>\n",
       "      <td>DOC_Public_Conservation_Land</td>\n",
       "      <td>0.139802</td>\n",
       "    </tr>\n",
       "    <tr>\n",
       "      <th>6</th>\n",
       "      <td>Asset Directory/Koordinate/protected-areas/protected-areas.shp</td>\n",
       "      <td>protected-areas</td>\n",
       "      <td>0.134675</td>\n",
       "    </tr>\n",
       "    <tr>\n",
       "      <th>7</th>\n",
       "      <td>Asset Directory/NationalRoadCentrelineDataset/roads.shp</td>\n",
       "      <td>roads</td>\n",
       "      <td>0.130881</td>\n",
       "    </tr>\n",
       "    <tr>\n",
       "      <th>8</th>\n",
       "      <td>Asset Directory/lds-new-zealand-17layers-SHP/nz-road-centrelines-topo-150k.shp</td>\n",
       "      <td>nz-road-centrelines-topo-150k</td>\n",
       "      <td>0.116422</td>\n",
       "    </tr>\n",
       "    <tr>\n",
       "      <th>9</th>\n",
       "      <td>Asset Directory/lds-new-zealand-17layers-SHP/nz-track-centrelines-topo-150k/nz-track-centrelines...</td>\n",
       "      <td>nz-track-centrelines-topo-150k</td>\n",
       "      <td>0.074558</td>\n",
       "    </tr>\n",
       "    <tr>\n",
       "      <th>10</th>\n",
       "      <td>Asset Directory/lds-new-zealand-17layers-SHP/linz-managed-crown-property/linz-managed-crown-prop...</td>\n",
       "      <td>linz-managed-crown-property</td>\n",
       "      <td>0.041728</td>\n",
       "    </tr>\n",
       "    <tr>\n",
       "      <th>11</th>\n",
       "      <td>Asset Directory/Koordinate/nz-walking-and-biking-tracks/nz-walking-and-biking-tracks.shp</td>\n",
       "      <td>nz-walking-and-biking-tracks</td>\n",
       "      <td>0.038141</td>\n",
       "    </tr>\n",
       "    <tr>\n",
       "      <th>12</th>\n",
       "      <td>Asset Directory/lds-new-zealand-17layers-SHP/nz-drain-centrelines-topo-150k/nz-drain-centrelines...</td>\n",
       "      <td>nz-drain-centrelines-topo-150k</td>\n",
       "      <td>0.006491</td>\n",
       "    </tr>\n",
       "    <tr>\n",
       "      <th>13</th>\n",
       "      <td>Asset Directory/DOC/Internationally_Recognised_Areas.shp</td>\n",
       "      <td>Internationally_Recognised_Areas</td>\n",
       "      <td>0.004694</td>\n",
       "    </tr>\n",
       "    <tr>\n",
       "      <th>14</th>\n",
       "      <td>Asset Directory/DOC/Covenant_Areas.shp</td>\n",
       "      <td>Covenant_Areas</td>\n",
       "      <td>0.003984</td>\n",
       "    </tr>\n",
       "    <tr>\n",
       "      <th>15</th>\n",
       "      <td>Asset Directory/lds-new-zealand-17layers-SHP/nz-geodetic-marks/nz-geodetic-marks.shp</td>\n",
       "      <td>nz-geodetic-marks</td>\n",
       "      <td>0.003710</td>\n",
       "    </tr>\n",
       "    <tr>\n",
       "      <th>16</th>\n",
       "      <td>Asset Directory/KiwiRailTrack.zip</td>\n",
       "      <td>KiwiRailTrack</td>\n",
       "      <td>0.003440</td>\n",
       "    </tr>\n",
       "    <tr>\n",
       "      <th>17</th>\n",
       "      <td>Asset Directory/DOC/DOC_Sanctuaries_to_Protect_Marine_Mammals.shp</td>\n",
       "      <td>DOC_Sanctuaries_to_Protect_Marine_Mammals</td>\n",
       "      <td>0.003158</td>\n",
       "    </tr>\n",
       "    <tr>\n",
       "      <th>18</th>\n",
       "      <td>Asset Directory/DOC/Ecological_Districts.shp</td>\n",
       "      <td>Ecological_Districts</td>\n",
       "      <td>0.002513</td>\n",
       "    </tr>\n",
       "    <tr>\n",
       "      <th>19</th>\n",
       "      <td>Asset Directory/DOC/DOC_Marine_Reserves.shp</td>\n",
       "      <td>DOC_Marine_Reserves</td>\n",
       "      <td>0.001981</td>\n",
       "    </tr>\n",
       "    <tr>\n",
       "      <th>20</th>\n",
       "      <td>Asset Directory/lds-new-zealand-17layers-SHP/nz-powerline-centrelines-topo-150k/nz-powerline-cen...</td>\n",
       "      <td>nz-powerline-centrelines-topo-150k</td>\n",
       "      <td>0.001789</td>\n",
       "    </tr>\n",
       "    <tr>\n",
       "      <th>21</th>\n",
       "      <td>Asset Directory/lds-new-zealand-17layers-SHP/nz-railway-centre-lines/nz-railway-centre-lines.shp</td>\n",
       "      <td>nz-railway-centre-lines</td>\n",
       "      <td>0.001587</td>\n",
       "    </tr>\n",
       "    <tr>\n",
       "      <th>22</th>\n",
       "      <td>Asset Directory/lds-new-zealand-17layers-SHP/nz-facilities/nz-facilities.shp</td>\n",
       "      <td>nz-facilities</td>\n",
       "      <td>0.000758</td>\n",
       "    </tr>\n",
       "    <tr>\n",
       "      <th>23</th>\n",
       "      <td>Asset Directory/Transpower Transmission Lines.zip</td>\n",
       "      <td>Transpower Transmission Lines</td>\n",
       "      <td>0.000558</td>\n",
       "    </tr>\n",
       "    <tr>\n",
       "      <th>24</th>\n",
       "      <td>Asset Directory/lds-new-zealand-17layers-SHP/nz-residential-area-polygons-topo-1250k/nz-resident...</td>\n",
       "      <td>nz-residential-area-polygons-topo-1250k</td>\n",
       "      <td>0.000555</td>\n",
       "    </tr>\n",
       "    <tr>\n",
       "      <th>25</th>\n",
       "      <td>Asset Directory/zone_substations.gpkg</td>\n",
       "      <td>zone_substations</td>\n",
       "      <td>0.000254</td>\n",
       "    </tr>\n",
       "    <tr>\n",
       "      <th>26</th>\n",
       "      <td>Asset Directory/Water and Wastewater/wwtp.gpkg</td>\n",
       "      <td>wwtp</td>\n",
       "      <td>0.000209</td>\n",
       "    </tr>\n",
       "    <tr>\n",
       "      <th>27</th>\n",
       "      <td>Asset Directory/Water and Wastewater/wtp.gpkg</td>\n",
       "      <td>wtp</td>\n",
       "      <td>0.000156</td>\n",
       "    </tr>\n",
       "    <tr>\n",
       "      <th>28</th>\n",
       "      <td>Asset Directory/CAA NZ_Aerodromes.geojson</td>\n",
       "      <td>CAA NZ_Aerodromes</td>\n",
       "      <td>0.000152</td>\n",
       "    </tr>\n",
       "    <tr>\n",
       "      <th>29</th>\n",
       "      <td>Asset Directory/lds-new-zealand-17layers-SHP/nz-airport-polygons-topo-150k/nz-airport-polygons-t...</td>\n",
       "      <td>nz-airport-polygons-topo-150k</td>\n",
       "      <td>0.000086</td>\n",
       "    </tr>\n",
       "    <tr>\n",
       "      <th>30</th>\n",
       "      <td>Asset Directory/lds-new-zealand-17layers-SHP/nz-cemetery-polygons-topo-150k/nz-cemetery-polygons...</td>\n",
       "      <td>nz-cemetery-polygons-topo-150k</td>\n",
       "      <td>0.000071</td>\n",
       "    </tr>\n",
       "    <tr>\n",
       "      <th>31</th>\n",
       "      <td>Asset Directory/lds-new-zealand-17layers-SHP/nz-telephone-centrelines-topo-150k/nz-telephone-cen...</td>\n",
       "      <td>nz-telephone-centrelines-topo-150k</td>\n",
       "      <td>0.000062</td>\n",
       "    </tr>\n",
       "    <tr>\n",
       "      <th>32</th>\n",
       "      <td>Asset Directory/lds-new-zealand-17layers-SHP/nz-pa-points-topo-150k/nz-pa-points-topo-150k.shp</td>\n",
       "      <td>nz-pa-points-topo-150k</td>\n",
       "      <td>0.000060</td>\n",
       "    </tr>\n",
       "    <tr>\n",
       "      <th>33</th>\n",
       "      <td>Asset Directory/lds-new-zealand-17layers-SHP/nz-windmill-points-topo-150k/nz-windmill-points-top...</td>\n",
       "      <td>nz-windmill-points-topo-150k</td>\n",
       "      <td>0.000022</td>\n",
       "    </tr>\n",
       "    <tr>\n",
       "      <th>34</th>\n",
       "      <td>Asset Directory/lds-new-zealand-17layers-SHP/nz-monument-points-topo-150k/nz-monument-points-top...</td>\n",
       "      <td>nz-monument-points-topo-150k</td>\n",
       "      <td>0.000008</td>\n",
       "    </tr>\n",
       "    <tr>\n",
       "      <th>35</th>\n",
       "      <td>Asset Directory/DOC/DOC_Campsites.shp</td>\n",
       "      <td>DOC_Campsites</td>\n",
       "      <td>0.000008</td>\n",
       "    </tr>\n",
       "    <tr>\n",
       "      <th>36</th>\n",
       "      <td>Asset Directory/lds-new-zealand-17layers-SHP/nz-historic-site-points-topo-150k/nz-historic-site-...</td>\n",
       "      <td>nz-historic-site-points-topo-150k</td>\n",
       "      <td>0.000007</td>\n",
       "    </tr>\n",
       "    <tr>\n",
       "      <th>37</th>\n",
       "      <td>Asset Directory/lds-new-zealand-17layers-SHP/nz-rail-station-points-topo-150k/nz-rail-station-po...</td>\n",
       "      <td>nz-rail-station-points-topo-150k</td>\n",
       "      <td>0.000005</td>\n",
       "    </tr>\n",
       "    <tr>\n",
       "      <th>38</th>\n",
       "      <td>Asset Directory/Generation/generation_NZ.shp</td>\n",
       "      <td>generation_NZ</td>\n",
       "      <td>0.000004</td>\n",
       "    </tr>\n",
       "    <tr>\n",
       "      <th>39</th>\n",
       "      <td>Asset Directory/DOC/DOC_Offices.shp</td>\n",
       "      <td>DOC_Offices</td>\n",
       "      <td>0.000003</td>\n",
       "    </tr>\n",
       "    <tr>\n",
       "      <th>40</th>\n",
       "      <td>Asset Directory/lds-new-zealand-17layers-SHP/nz-well-points-topo-150k/nz-well-points-topo-150k.shp</td>\n",
       "      <td>nz-well-points-topo-150k</td>\n",
       "      <td>0.000003</td>\n",
       "    </tr>\n",
       "    <tr>\n",
       "      <th>41</th>\n",
       "      <td>Asset Directory/lds-new-zealand-17layers-SHP/nz-gas-valve-points-topo-150k/nz-gas-valve-points-t...</td>\n",
       "      <td>nz-gas-valve-points-topo-150k</td>\n",
       "      <td>0.000002</td>\n",
       "    </tr>\n",
       "  </tbody>\n",
       "</table>\n",
       "</div>"
      ],
      "text/plain": [
       "                                                                                               filepath  \\\n",
       "0                  Asset Directory/LUCAS NZ Land Use/lucas-nz-land-use-map-1990-2008-2012-2016-v011.shp   \n",
       "1                Asset Directory/Koordinate/smap-soil-drainage-dec-2023/smap-soil-drainage-dec-2023.shp   \n",
       "2            Asset Directory/lds-new-zealand-17layers-SHP/nz-building-outlines/nz-building-outlines.shp   \n",
       "3                          Asset Directory/lris-fsl-soil-drainage-class-SHP/fsl-soil-drainage-class.shp   \n",
       "4          Asset Directory/Koordinate/nzlri-land-use-capability-2021/nzlri-land-use-capability-2021.shp   \n",
       "5                                                  Asset Directory/DOC/DOC_Public_Conservation_Land.shp   \n",
       "6                                        Asset Directory/Koordinate/protected-areas/protected-areas.shp   \n",
       "7                                               Asset Directory/NationalRoadCentrelineDataset/roads.shp   \n",
       "8                        Asset Directory/lds-new-zealand-17layers-SHP/nz-road-centrelines-topo-150k.shp   \n",
       "9   Asset Directory/lds-new-zealand-17layers-SHP/nz-track-centrelines-topo-150k/nz-track-centrelines...   \n",
       "10  Asset Directory/lds-new-zealand-17layers-SHP/linz-managed-crown-property/linz-managed-crown-prop...   \n",
       "11             Asset Directory/Koordinate/nz-walking-and-biking-tracks/nz-walking-and-biking-tracks.shp   \n",
       "12  Asset Directory/lds-new-zealand-17layers-SHP/nz-drain-centrelines-topo-150k/nz-drain-centrelines...   \n",
       "13                                             Asset Directory/DOC/Internationally_Recognised_Areas.shp   \n",
       "14                                                               Asset Directory/DOC/Covenant_Areas.shp   \n",
       "15                 Asset Directory/lds-new-zealand-17layers-SHP/nz-geodetic-marks/nz-geodetic-marks.shp   \n",
       "16                                                                    Asset Directory/KiwiRailTrack.zip   \n",
       "17                                    Asset Directory/DOC/DOC_Sanctuaries_to_Protect_Marine_Mammals.shp   \n",
       "18                                                         Asset Directory/DOC/Ecological_Districts.shp   \n",
       "19                                                          Asset Directory/DOC/DOC_Marine_Reserves.shp   \n",
       "20  Asset Directory/lds-new-zealand-17layers-SHP/nz-powerline-centrelines-topo-150k/nz-powerline-cen...   \n",
       "21     Asset Directory/lds-new-zealand-17layers-SHP/nz-railway-centre-lines/nz-railway-centre-lines.shp   \n",
       "22                         Asset Directory/lds-new-zealand-17layers-SHP/nz-facilities/nz-facilities.shp   \n",
       "23                                                    Asset Directory/Transpower Transmission Lines.zip   \n",
       "24  Asset Directory/lds-new-zealand-17layers-SHP/nz-residential-area-polygons-topo-1250k/nz-resident...   \n",
       "25                                                                Asset Directory/zone_substations.gpkg   \n",
       "26                                                       Asset Directory/Water and Wastewater/wwtp.gpkg   \n",
       "27                                                        Asset Directory/Water and Wastewater/wtp.gpkg   \n",
       "28                                                            Asset Directory/CAA NZ_Aerodromes.geojson   \n",
       "29  Asset Directory/lds-new-zealand-17layers-SHP/nz-airport-polygons-topo-150k/nz-airport-polygons-t...   \n",
       "30  Asset Directory/lds-new-zealand-17layers-SHP/nz-cemetery-polygons-topo-150k/nz-cemetery-polygons...   \n",
       "31  Asset Directory/lds-new-zealand-17layers-SHP/nz-telephone-centrelines-topo-150k/nz-telephone-cen...   \n",
       "32       Asset Directory/lds-new-zealand-17layers-SHP/nz-pa-points-topo-150k/nz-pa-points-topo-150k.shp   \n",
       "33  Asset Directory/lds-new-zealand-17layers-SHP/nz-windmill-points-topo-150k/nz-windmill-points-top...   \n",
       "34  Asset Directory/lds-new-zealand-17layers-SHP/nz-monument-points-topo-150k/nz-monument-points-top...   \n",
       "35                                                                Asset Directory/DOC/DOC_Campsites.shp   \n",
       "36  Asset Directory/lds-new-zealand-17layers-SHP/nz-historic-site-points-topo-150k/nz-historic-site-...   \n",
       "37  Asset Directory/lds-new-zealand-17layers-SHP/nz-rail-station-points-topo-150k/nz-rail-station-po...   \n",
       "38                                                         Asset Directory/Generation/generation_NZ.shp   \n",
       "39                                                                  Asset Directory/DOC/DOC_Offices.shp   \n",
       "40   Asset Directory/lds-new-zealand-17layers-SHP/nz-well-points-topo-150k/nz-well-points-topo-150k.shp   \n",
       "41  Asset Directory/lds-new-zealand-17layers-SHP/nz-gas-valve-points-topo-150k/nz-gas-valve-points-t...   \n",
       "\n",
       "                                          filename  filesize_GB  \n",
       "0   lucas-nz-land-use-map-1990-2008-2012-2016-v011     1.435426  \n",
       "1                      smap-soil-drainage-dec-2023     0.699233  \n",
       "2                             nz-building-outlines     0.636510  \n",
       "3                          fsl-soil-drainage-class     0.164699  \n",
       "4                   nzlri-land-use-capability-2021     0.164578  \n",
       "5                     DOC_Public_Conservation_Land     0.139802  \n",
       "6                                  protected-areas     0.134675  \n",
       "7                                            roads     0.130881  \n",
       "8                    nz-road-centrelines-topo-150k     0.116422  \n",
       "9                   nz-track-centrelines-topo-150k     0.074558  \n",
       "10                     linz-managed-crown-property     0.041728  \n",
       "11                    nz-walking-and-biking-tracks     0.038141  \n",
       "12                  nz-drain-centrelines-topo-150k     0.006491  \n",
       "13                Internationally_Recognised_Areas     0.004694  \n",
       "14                                  Covenant_Areas     0.003984  \n",
       "15                               nz-geodetic-marks     0.003710  \n",
       "16                                   KiwiRailTrack     0.003440  \n",
       "17       DOC_Sanctuaries_to_Protect_Marine_Mammals     0.003158  \n",
       "18                            Ecological_Districts     0.002513  \n",
       "19                             DOC_Marine_Reserves     0.001981  \n",
       "20              nz-powerline-centrelines-topo-150k     0.001789  \n",
       "21                         nz-railway-centre-lines     0.001587  \n",
       "22                                   nz-facilities     0.000758  \n",
       "23                   Transpower Transmission Lines     0.000558  \n",
       "24         nz-residential-area-polygons-topo-1250k     0.000555  \n",
       "25                                zone_substations     0.000254  \n",
       "26                                            wwtp     0.000209  \n",
       "27                                             wtp     0.000156  \n",
       "28                               CAA NZ_Aerodromes     0.000152  \n",
       "29                   nz-airport-polygons-topo-150k     0.000086  \n",
       "30                  nz-cemetery-polygons-topo-150k     0.000071  \n",
       "31              nz-telephone-centrelines-topo-150k     0.000062  \n",
       "32                          nz-pa-points-topo-150k     0.000060  \n",
       "33                    nz-windmill-points-topo-150k     0.000022  \n",
       "34                    nz-monument-points-topo-150k     0.000008  \n",
       "35                                   DOC_Campsites     0.000008  \n",
       "36               nz-historic-site-points-topo-150k     0.000007  \n",
       "37                nz-rail-station-points-topo-150k     0.000005  \n",
       "38                                   generation_NZ     0.000004  \n",
       "39                                     DOC_Offices     0.000003  \n",
       "40                        nz-well-points-topo-150k     0.000003  \n",
       "41                   nz-gas-valve-points-topo-150k     0.000002  "
      ]
     },
     "execution_count": 2,
     "metadata": {},
     "output_type": "execute_result"
    }
   ],
   "source": [
    "files = pd.DataFrame({\"filepath\": glob(\"Asset Directory/**\", recursive=True)})\n",
    "files = files[files[\"filepath\"].str.endswith((\".shp\", \".zip\", \".gpkg\", \".geojson\"))]\n",
    "files[\"filename\"] = files[\"filepath\"].apply(lambda x: os.path.splitext(os.path.basename(x))[0])\n",
    "files[\"filesize_GB\"] = files[\"filepath\"].apply(lambda x: os.path.getsize(x) / 1e9)\n",
    "files.sort_values(\"filesize_GB\", ascending=False).reset_index(drop=True)"
   ]
  },
  {
   "cell_type": "code",
   "execution_count": 3,
   "metadata": {},
   "outputs": [
    {
     "data": {
      "text/html": [
       "<pre>✔️ 7.78 s (2025-01-13T17:14:35/2025-01-13T17:14:43)</pre>"
      ],
      "text/plain": [
       "<IPython.core.display.HTML object>"
      ]
     },
     "metadata": {},
     "output_type": "display_data"
    },
    {
     "data": {
      "application/vnd.jupyter.widget-view+json": {
       "model_id": "56c9a750be614fd587e6081ffc590dd5",
       "version_major": 2,
       "version_minor": 0
      },
      "text/plain": [
       "  0%|          | 0/6 [00:00<?, ?it/s]"
      ]
     },
     "metadata": {},
     "output_type": "display_data"
    }
   ],
   "source": [
    "polys = []\n",
    "for f in tqdm(glob(\"Projections/*_polygon.shp\")):\n",
    "  df = gpd.read_file(f)\n",
    "  df.geometry = df.geometry.apply(make_valid)\n",
    "  polys.append(df.union_all())"
   ]
  },
  {
   "cell_type": "code",
   "execution_count": 4,
   "metadata": {},
   "outputs": [
    {
     "data": {
      "text/html": [
       "<pre>✔️ 6 min 57 s (2025-01-13T17:14:43/2025-01-13T17:21:41)</pre>"
      ],
      "text/plain": [
       "<IPython.core.display.HTML object>"
      ]
     },
     "metadata": {},
     "output_type": "display_data"
    },
    {
     "data": {
      "application/vnd.jupyter.widget-view+json": {
       "model_id": "75a817977dfc4fb88ca76cb7b7889100",
       "version_major": 2,
       "version_minor": 0
      },
      "text/plain": [
       "  0%|          | 0/42 [00:00<?, ?it/s]"
      ]
     },
     "metadata": {},
     "output_type": "display_data"
    },
    {
     "name": "stdout",
     "output_type": "stream",
     "text": [
      "Now processing wtp\n",
      "Time to read file: 0.012475967407226562\n"
     ]
    },
    {
     "data": {
      "application/vnd.jupyter.widget-view+json": {
       "model_id": "93b1401a6a924f55b2c9437b1ff3cee2",
       "version_major": 2,
       "version_minor": 0
      },
      "text/plain": [
       "  0%|          | 0/6 [00:00<?, ?it/s]"
      ]
     },
     "metadata": {},
     "output_type": "display_data"
    },
    {
     "name": "stdout",
     "output_type": "stream",
     "text": [
      "Time to clip: 0.05653262138366699\n",
      "No intersection for wtp\n",
      "Now processing wwtp\n",
      "Time to read file: 0.014243841171264648\n"
     ]
    },
    {
     "data": {
      "application/vnd.jupyter.widget-view+json": {
       "model_id": "b80c0217eb564327b415bd4fdd2c453a",
       "version_major": 2,
       "version_minor": 0
      },
      "text/plain": [
       "  0%|          | 0/6 [00:00<?, ?it/s]"
      ]
     },
     "metadata": {},
     "output_type": "display_data"
    },
    {
     "name": "stdout",
     "output_type": "stream",
     "text": [
      "Time to clip: 0.04776930809020996\n",
      "No intersection for wwtp\n",
      "Now processing generation_NZ\n",
      "Time to read file: 0.020390033721923828\n"
     ]
    },
    {
     "data": {
      "application/vnd.jupyter.widget-view+json": {
       "model_id": "e1286deb83164909b8b7bf210c7ac325",
       "version_major": 2,
       "version_minor": 0
      },
      "text/plain": [
       "  0%|          | 0/6 [00:00<?, ?it/s]"
      ]
     },
     "metadata": {},
     "output_type": "display_data"
    },
    {
     "name": "stdout",
     "output_type": "stream",
     "text": [
      "Time to clip: 0.01422262191772461\n",
      "No intersection for generation_NZ\n",
      "Now processing fsl-soil-drainage-class\n",
      "Time to read file: 1.218468189239502\n"
     ]
    },
    {
     "data": {
      "application/vnd.jupyter.widget-view+json": {
       "model_id": "c56e352da82245e7ae7afba6189556b6",
       "version_major": 2,
       "version_minor": 0
      },
      "text/plain": [
       "  0%|          | 0/6 [00:00<?, ?it/s]"
      ]
     },
     "metadata": {},
     "output_type": "display_data"
    },
    {
     "name": "stdout",
     "output_type": "stream",
     "text": [
      "Time to clip: 12.562846660614014\n",
      "Now processing lucas-nz-land-use-map-1990-2008-2012-2016-v011\n",
      "Time to read file: 19.994372367858887\n"
     ]
    },
    {
     "data": {
      "application/vnd.jupyter.widget-view+json": {
       "model_id": "51ff4d2284a64c5cb6418b76edef0feb",
       "version_major": 2,
       "version_minor": 0
      },
      "text/plain": [
       "  0%|          | 0/6 [00:00<?, ?it/s]"
      ]
     },
     "metadata": {},
     "output_type": "display_data"
    },
    {
     "name": "stdout",
     "output_type": "stream",
     "text": [
      "Time to clip: 63.67674779891968\n",
      "Now processing nz-railway-centre-lines\n",
      "Time to read file: 0.702153205871582\n"
     ]
    },
    {
     "data": {
      "application/vnd.jupyter.widget-view+json": {
       "model_id": "bc647231a05047ea9c384a861b0be413",
       "version_major": 2,
       "version_minor": 0
      },
      "text/plain": [
       "  0%|          | 0/6 [00:00<?, ?it/s]"
      ]
     },
     "metadata": {},
     "output_type": "display_data"
    },
    {
     "name": "stdout",
     "output_type": "stream",
     "text": [
      "Time to clip: 0.4301753044128418\n",
      "Now processing nz-monument-points-topo-150k\n",
      "Time to read file: 0.01855754852294922\n"
     ]
    },
    {
     "data": {
      "application/vnd.jupyter.widget-view+json": {
       "model_id": "fdf05c3f983848b68f70f8d902a00dcd",
       "version_major": 2,
       "version_minor": 0
      },
      "text/plain": [
       "  0%|          | 0/6 [00:00<?, ?it/s]"
      ]
     },
     "metadata": {},
     "output_type": "display_data"
    },
    {
     "name": "stdout",
     "output_type": "stream",
     "text": [
      "Time to clip: 0.05759596824645996\n",
      "Now processing nz-track-centrelines-topo-150k\n",
      "Time to read file: 0.6206855773925781\n"
     ]
    },
    {
     "data": {
      "application/vnd.jupyter.widget-view+json": {
       "model_id": "1e945408be8b4d92979d8449d8a14a91",
       "version_major": 2,
       "version_minor": 0
      },
      "text/plain": [
       "  0%|          | 0/6 [00:00<?, ?it/s]"
      ]
     },
     "metadata": {},
     "output_type": "display_data"
    },
    {
     "name": "stdout",
     "output_type": "stream",
     "text": [
      "Time to clip: 1.5065758228302002\n",
      "Now processing linz-managed-crown-property\n",
      "Time to read file: 0.22681808471679688\n"
     ]
    },
    {
     "data": {
      "application/vnd.jupyter.widget-view+json": {
       "model_id": "42327172420949ebae0b6c21650e8020",
       "version_major": 2,
       "version_minor": 0
      },
      "text/plain": [
       "  0%|          | 0/6 [00:00<?, ?it/s]"
      ]
     },
     "metadata": {},
     "output_type": "display_data"
    },
    {
     "name": "stdout",
     "output_type": "stream",
     "text": [
      "Time to clip: 1.0235378742218018\n",
      "Now processing nz-drain-centrelines-topo-150k\n",
      "Time to read file: 0.16199755668640137\n"
     ]
    },
    {
     "data": {
      "application/vnd.jupyter.widget-view+json": {
       "model_id": "29c79c7cde934557992169410a5a5a1f",
       "version_major": 2,
       "version_minor": 0
      },
      "text/plain": [
       "  0%|          | 0/6 [00:00<?, ?it/s]"
      ]
     },
     "metadata": {},
     "output_type": "display_data"
    },
    {
     "name": "stdout",
     "output_type": "stream",
     "text": [
      "Time to clip: 0.917682409286499\n",
      "Now processing nz-rail-station-points-topo-150k\n",
      "Time to read file: 0.04044032096862793\n"
     ]
    },
    {
     "data": {
      "application/vnd.jupyter.widget-view+json": {
       "model_id": "abb220a951964e41b64fbda4d98a7679",
       "version_major": 2,
       "version_minor": 0
      },
      "text/plain": [
       "  0%|          | 0/6 [00:00<?, ?it/s]"
      ]
     },
     "metadata": {},
     "output_type": "display_data"
    },
    {
     "name": "stdout",
     "output_type": "stream",
     "text": [
      "Time to clip: 0.06265091896057129\n",
      "No intersection for nz-rail-station-points-topo-150k\n",
      "Now processing nz-telephone-centrelines-topo-150k\n",
      "Time to read file: 0.012549161911010742\n"
     ]
    },
    {
     "data": {
      "application/vnd.jupyter.widget-view+json": {
       "model_id": "7532a0fd6fe64c4eb4c10d62b6894f0c",
       "version_major": 2,
       "version_minor": 0
      },
      "text/plain": [
       "  0%|          | 0/6 [00:00<?, ?it/s]"
      ]
     },
     "metadata": {},
     "output_type": "display_data"
    },
    {
     "name": "stdout",
     "output_type": "stream",
     "text": [
      "Time to clip: 0.09563779830932617\n",
      "No intersection for nz-telephone-centrelines-topo-150k\n",
      "Now processing nz-facilities\n",
      "Time to read file: 0.042550086975097656\n"
     ]
    },
    {
     "data": {
      "application/vnd.jupyter.widget-view+json": {
       "model_id": "78c010807ef14b48830c6ea62f35f52d",
       "version_major": 2,
       "version_minor": 0
      },
      "text/plain": [
       "  0%|          | 0/6 [00:00<?, ?it/s]"
      ]
     },
     "metadata": {},
     "output_type": "display_data"
    },
    {
     "name": "stdout",
     "output_type": "stream",
     "text": [
      "Time to clip: 0.29476213455200195\n",
      "Now processing nz-road-centrelines-topo-150k\n",
      "Time to read file: 1.4070615768432617\n"
     ]
    },
    {
     "data": {
      "application/vnd.jupyter.widget-view+json": {
       "model_id": "32ba72723820460ea6df8add5faa454e",
       "version_major": 2,
       "version_minor": 0
      },
      "text/plain": [
       "  0%|          | 0/6 [00:00<?, ?it/s]"
      ]
     },
     "metadata": {},
     "output_type": "display_data"
    },
    {
     "name": "stdout",
     "output_type": "stream",
     "text": [
      "Time to clip: 2.237434148788452\n",
      "Now processing nz-windmill-points-topo-150k\n",
      "Time to read file: 0.10303544998168945\n"
     ]
    },
    {
     "data": {
      "application/vnd.jupyter.widget-view+json": {
       "model_id": "59ecd395796d48d2aa233eebfac0f745",
       "version_major": 2,
       "version_minor": 0
      },
      "text/plain": [
       "  0%|          | 0/6 [00:00<?, ?it/s]"
      ]
     },
     "metadata": {},
     "output_type": "display_data"
    },
    {
     "name": "stdout",
     "output_type": "stream",
     "text": [
      "Time to clip: 0.07126545906066895\n",
      "No intersection for nz-windmill-points-topo-150k\n",
      "Now processing nz-powerline-centrelines-topo-150k\n",
      "Time to read file: 0.040038347244262695\n"
     ]
    },
    {
     "data": {
      "application/vnd.jupyter.widget-view+json": {
       "model_id": "a3748c9c21524091a24cb1c7bf7c4d6b",
       "version_major": 2,
       "version_minor": 0
      },
      "text/plain": [
       "  0%|          | 0/6 [00:00<?, ?it/s]"
      ]
     },
     "metadata": {},
     "output_type": "display_data"
    },
    {
     "name": "stdout",
     "output_type": "stream",
     "text": [
      "Time to clip: 0.14558720588684082\n",
      "Now processing nz-well-points-topo-150k\n",
      "Time to read file: 0.016059398651123047\n"
     ]
    },
    {
     "data": {
      "application/vnd.jupyter.widget-view+json": {
       "model_id": "e3645e57f8164bbdb99e81cdbea2639e",
       "version_major": 2,
       "version_minor": 0
      },
      "text/plain": [
       "  0%|          | 0/6 [00:00<?, ?it/s]"
      ]
     },
     "metadata": {},
     "output_type": "display_data"
    },
    {
     "name": "stdout",
     "output_type": "stream",
     "text": [
      "Time to clip: 0.05679917335510254\n",
      "No intersection for nz-well-points-topo-150k\n",
      "Now processing nz-building-outlines\n",
      "Time to read file: 44.21686792373657\n"
     ]
    },
    {
     "data": {
      "application/vnd.jupyter.widget-view+json": {
       "model_id": "12ee65d459b946a7882bc99f851692e7",
       "version_major": 2,
       "version_minor": 0
      },
      "text/plain": [
       "  0%|          | 0/6 [00:00<?, ?it/s]"
      ]
     },
     "metadata": {},
     "output_type": "display_data"
    },
    {
     "name": "stdout",
     "output_type": "stream",
     "text": [
      "Time to clip: 178.35583758354187\n",
      "Now processing nz-geodetic-marks\n",
      "Time to read file: 3.2797412872314453\n"
     ]
    },
    {
     "data": {
      "application/vnd.jupyter.widget-view+json": {
       "model_id": "e5213279a8e440458a44507aabe29d86",
       "version_major": 2,
       "version_minor": 0
      },
      "text/plain": [
       "  0%|          | 0/6 [00:00<?, ?it/s]"
      ]
     },
     "metadata": {},
     "output_type": "display_data"
    },
    {
     "name": "stdout",
     "output_type": "stream",
     "text": [
      "Time to clip: 0.2401735782623291\n",
      "Now processing nz-cemetery-polygons-topo-150k\n",
      "Time to read file: 0.06569600105285645\n"
     ]
    },
    {
     "data": {
      "application/vnd.jupyter.widget-view+json": {
       "model_id": "b212987f4c0e4f9e9a4d65eebfbd2b72",
       "version_major": 2,
       "version_minor": 0
      },
      "text/plain": [
       "  0%|          | 0/6 [00:00<?, ?it/s]"
      ]
     },
     "metadata": {},
     "output_type": "display_data"
    },
    {
     "name": "stdout",
     "output_type": "stream",
     "text": [
      "Time to clip: 0.10473918914794922\n",
      "No intersection for nz-cemetery-polygons-topo-150k\n",
      "Now processing nz-historic-site-points-topo-150k\n",
      "Time to read file: 0.01385354995727539\n"
     ]
    },
    {
     "data": {
      "application/vnd.jupyter.widget-view+json": {
       "model_id": "b1e49afe3a884078ab32a7e19c824d4b",
       "version_major": 2,
       "version_minor": 0
      },
      "text/plain": [
       "  0%|          | 0/6 [00:00<?, ?it/s]"
      ]
     },
     "metadata": {},
     "output_type": "display_data"
    },
    {
     "name": "stdout",
     "output_type": "stream",
     "text": [
      "Time to clip: 0.047965049743652344\n",
      "Now processing nz-residential-area-polygons-topo-1250k\n",
      "Time to read file: 0.020827293395996094\n"
     ]
    },
    {
     "data": {
      "application/vnd.jupyter.widget-view+json": {
       "model_id": "0d1fd6b961f2478595a878e557a62bf5",
       "version_major": 2,
       "version_minor": 0
      },
      "text/plain": [
       "  0%|          | 0/6 [00:00<?, ?it/s]"
      ]
     },
     "metadata": {},
     "output_type": "display_data"
    },
    {
     "name": "stdout",
     "output_type": "stream",
     "text": [
      "Time to clip: 0.469616174697876\n",
      "Now processing nz-airport-polygons-topo-150k\n",
      "Time to read file: 0.011785268783569336\n"
     ]
    },
    {
     "data": {
      "application/vnd.jupyter.widget-view+json": {
       "model_id": "4302459c9e6844869bc3b2a6acd39531",
       "version_major": 2,
       "version_minor": 0
      },
      "text/plain": [
       "  0%|          | 0/6 [00:00<?, ?it/s]"
      ]
     },
     "metadata": {},
     "output_type": "display_data"
    },
    {
     "name": "stdout",
     "output_type": "stream",
     "text": [
      "Time to clip: 0.10065817832946777\n",
      "Now processing nz-gas-valve-points-topo-150k\n",
      "Time to read file: 0.008452177047729492\n"
     ]
    },
    {
     "data": {
      "application/vnd.jupyter.widget-view+json": {
       "model_id": "cc9a37f5305e430fa41249e3c953acd2",
       "version_major": 2,
       "version_minor": 0
      },
      "text/plain": [
       "  0%|          | 0/6 [00:00<?, ?it/s]"
      ]
     },
     "metadata": {},
     "output_type": "display_data"
    },
    {
     "name": "stdout",
     "output_type": "stream",
     "text": [
      "Time to clip: 0.037380218505859375\n",
      "No intersection for nz-gas-valve-points-topo-150k\n",
      "Now processing nz-pa-points-topo-150k\n",
      "Time to read file: 0.019535303115844727\n"
     ]
    },
    {
     "data": {
      "application/vnd.jupyter.widget-view+json": {
       "model_id": "d51c08c16a6043b98f52e54c9b78b370",
       "version_major": 2,
       "version_minor": 0
      },
      "text/plain": [
       "  0%|          | 0/6 [00:00<?, ?it/s]"
      ]
     },
     "metadata": {},
     "output_type": "display_data"
    },
    {
     "name": "stdout",
     "output_type": "stream",
     "text": [
      "Time to clip: 0.049820661544799805\n",
      "Now processing Transpower Transmission Lines\n",
      "Time to read file: 0.03642702102661133\n"
     ]
    },
    {
     "data": {
      "application/vnd.jupyter.widget-view+json": {
       "model_id": "e43292dae0c64725bdaf992fd18e20df",
       "version_major": 2,
       "version_minor": 0
      },
      "text/plain": [
       "  0%|          | 0/6 [00:00<?, ?it/s]"
      ]
     },
     "metadata": {},
     "output_type": "display_data"
    },
    {
     "name": "stdout",
     "output_type": "stream",
     "text": [
      "Time to clip: 0.08669757843017578\n",
      "No intersection for Transpower Transmission Lines\n",
      "Now processing DOC_Public_Conservation_Land\n",
      "Time to read file: 0.6021947860717773\n"
     ]
    },
    {
     "data": {
      "application/vnd.jupyter.widget-view+json": {
       "model_id": "8eefb833810448ea8da4423c36706748",
       "version_major": 2,
       "version_minor": 0
      },
      "text/plain": [
       "  0%|          | 0/6 [00:00<?, ?it/s]"
      ]
     },
     "metadata": {},
     "output_type": "display_data"
    },
    {
     "name": "stdout",
     "output_type": "stream",
     "text": [
      "Time to clip: 4.5629723072052\n",
      "Now processing Covenant_Areas\n",
      "Time to read file: 0.05447793006896973\n"
     ]
    },
    {
     "data": {
      "application/vnd.jupyter.widget-view+json": {
       "model_id": "1133ce314c354a68bb39d514fb5e55bf",
       "version_major": 2,
       "version_minor": 0
      },
      "text/plain": [
       "  0%|          | 0/6 [00:00<?, ?it/s]"
      ]
     },
     "metadata": {},
     "output_type": "display_data"
    },
    {
     "name": "stdout",
     "output_type": "stream",
     "text": [
      "Time to clip: 0.1894216537475586\n",
      "Now processing DOC_Sanctuaries_to_Protect_Marine_Mammals\n",
      "Time to read file: 0.08338451385498047\n"
     ]
    },
    {
     "data": {
      "application/vnd.jupyter.widget-view+json": {
       "model_id": "ef9cb3b408e74581a533b258b612f80f",
       "version_major": 2,
       "version_minor": 0
      },
      "text/plain": [
       "  0%|          | 0/6 [00:00<?, ?it/s]"
      ]
     },
     "metadata": {},
     "output_type": "display_data"
    },
    {
     "name": "stdout",
     "output_type": "stream",
     "text": [
      "Time to clip: 0.5139925479888916\n",
      "Now processing Internationally_Recognised_Areas\n",
      "Time to read file: 0.030223369598388672\n"
     ]
    },
    {
     "name": "stderr",
     "output_type": "stream",
     "text": [
      "/usr/local/lib/python3.10/dist-packages/pyogrio/raw.py:196: RuntimeWarning: Asset Directory/DOC/Internationally_Recognised_Areas.shp contains polygon(s) with rings with invalid winding order. Autocorrecting them, but that shapefile should be corrected using ogr2ogr for example.\n",
      "  return ogr_read(\n"
     ]
    },
    {
     "data": {
      "application/vnd.jupyter.widget-view+json": {
       "model_id": "f107b97b014f4a3aabbaf7b895f01eb2",
       "version_major": 2,
       "version_minor": 0
      },
      "text/plain": [
       "  0%|          | 0/6 [00:00<?, ?it/s]"
      ]
     },
     "metadata": {},
     "output_type": "display_data"
    },
    {
     "name": "stdout",
     "output_type": "stream",
     "text": [
      "Time to clip: 0.3527343273162842\n"
     ]
    },
    {
     "name": "stderr",
     "output_type": "stream",
     "text": [
      "/usr/local/lib/python3.10/dist-packages/pyogrio/geopandas.py:523: UserWarning: GeoSeries.notna() previously returned False for both missing (None) and empty geometries. Now, it only returns False for missing values. Since the calling GeoSeries contains empty geometries, the result has changed compared to previous versions of GeoPandas.\n",
      "Given a GeoSeries 's', you can use '~s.is_empty & s.notna()' to get back the old behaviour.\n",
      "\n",
      "To further ignore this warning, you can do: \n",
      "import warnings; warnings.filterwarnings('ignore', 'GeoSeries.notna', UserWarning)\n",
      "  has_z_arr = geometry[geometry.notna() & (~geometry.is_empty)].has_z\n"
     ]
    },
    {
     "name": "stdout",
     "output_type": "stream",
     "text": [
      "Now processing DOC_Offices\n",
      "Time to read file: 0.01543569564819336\n"
     ]
    },
    {
     "data": {
      "application/vnd.jupyter.widget-view+json": {
       "model_id": "00f53cc306e345378d25795676299e34",
       "version_major": 2,
       "version_minor": 0
      },
      "text/plain": [
       "  0%|          | 0/6 [00:00<?, ?it/s]"
      ]
     },
     "metadata": {},
     "output_type": "display_data"
    },
    {
     "name": "stdout",
     "output_type": "stream",
     "text": [
      "Time to clip: 0.04414057731628418\n",
      "No intersection for DOC_Offices\n",
      "Now processing DOC_Campsites\n",
      "Time to read file: 0.01862168312072754\n"
     ]
    },
    {
     "data": {
      "application/vnd.jupyter.widget-view+json": {
       "model_id": "97cf46a13c984adeae24cd39ceeab04e",
       "version_major": 2,
       "version_minor": 0
      },
      "text/plain": [
       "  0%|          | 0/6 [00:00<?, ?it/s]"
      ]
     },
     "metadata": {},
     "output_type": "display_data"
    },
    {
     "name": "stdout",
     "output_type": "stream",
     "text": [
      "Time to clip: 0.047327518463134766\n",
      "Now processing DOC_Marine_Reserves\n",
      "Time to read file: 0.020059585571289062\n"
     ]
    },
    {
     "data": {
      "application/vnd.jupyter.widget-view+json": {
       "model_id": "dc104325154c42f4b732f7392f428ac5",
       "version_major": 2,
       "version_minor": 0
      },
      "text/plain": [
       "  0%|          | 0/6 [00:00<?, ?it/s]"
      ]
     },
     "metadata": {},
     "output_type": "display_data"
    },
    {
     "name": "stdout",
     "output_type": "stream",
     "text": [
      "Time to clip: 0.19724369049072266\n",
      "Now processing Ecological_Districts\n",
      "Time to read file: 0.020129919052124023\n"
     ]
    },
    {
     "data": {
      "application/vnd.jupyter.widget-view+json": {
       "model_id": "1e8204af5d3f47dda6bd0a72552e2673",
       "version_major": 2,
       "version_minor": 0
      },
      "text/plain": [
       "  0%|          | 0/6 [00:00<?, ?it/s]"
      ]
     },
     "metadata": {},
     "output_type": "display_data"
    },
    {
     "name": "stdout",
     "output_type": "stream",
     "text": [
      "Time to clip: 1.0588293075561523\n",
      "Now processing zone_substations\n",
      "Time to read file: 0.021008968353271484\n"
     ]
    },
    {
     "data": {
      "application/vnd.jupyter.widget-view+json": {
       "model_id": "cd07787fdaa048248cb968cf3443a84e",
       "version_major": 2,
       "version_minor": 0
      },
      "text/plain": [
       "  0%|          | 0/6 [00:00<?, ?it/s]"
      ]
     },
     "metadata": {},
     "output_type": "display_data"
    },
    {
     "name": "stdout",
     "output_type": "stream",
     "text": [
      "Time to clip: 0.05328702926635742\n",
      "No intersection for zone_substations\n",
      "Now processing KiwiRailTrack\n",
      "Time to read file: 0.07429671287536621\n"
     ]
    },
    {
     "data": {
      "application/vnd.jupyter.widget-view+json": {
       "model_id": "3b56603f390540269a42143a1949362a",
       "version_major": 2,
       "version_minor": 0
      },
      "text/plain": [
       "  0%|          | 0/6 [00:00<?, ?it/s]"
      ]
     },
     "metadata": {},
     "output_type": "display_data"
    },
    {
     "name": "stdout",
     "output_type": "stream",
     "text": [
      "Time to clip: 0.028932571411132812\n",
      "No intersection for KiwiRailTrack\n",
      "Now processing roads\n",
      "Time to read file: 4.3590967655181885\n"
     ]
    },
    {
     "data": {
      "application/vnd.jupyter.widget-view+json": {
       "model_id": "8c5eda8048dc47cebe6ea8d4ed7703c6",
       "version_major": 2,
       "version_minor": 0
      },
      "text/plain": [
       "  0%|          | 0/6 [00:00<?, ?it/s]"
      ]
     },
     "metadata": {},
     "output_type": "display_data"
    },
    {
     "name": "stdout",
     "output_type": "stream",
     "text": [
      "Time to clip: 1.435107707977295\n",
      "Now processing CAA NZ_Aerodromes\n",
      "Time to read file: 0.161027193069458\n"
     ]
    },
    {
     "data": {
      "application/vnd.jupyter.widget-view+json": {
       "model_id": "5b81aaeb98b04006a363a48f7a13522d",
       "version_major": 2,
       "version_minor": 0
      },
      "text/plain": [
       "  0%|          | 0/6 [00:00<?, ?it/s]"
      ]
     },
     "metadata": {},
     "output_type": "display_data"
    },
    {
     "name": "stdout",
     "output_type": "stream",
     "text": [
      "Time to clip: 0.01769232749938965\n",
      "No intersection for CAA NZ_Aerodromes\n",
      "Now processing protected-areas\n",
      "Time to read file: 0.6427047252655029\n"
     ]
    },
    {
     "data": {
      "application/vnd.jupyter.widget-view+json": {
       "model_id": "291adf3319a84e0590a930ec8d742c50",
       "version_major": 2,
       "version_minor": 0
      },
      "text/plain": [
       "  0%|          | 0/6 [00:00<?, ?it/s]"
      ]
     },
     "metadata": {},
     "output_type": "display_data"
    },
    {
     "name": "stdout",
     "output_type": "stream",
     "text": [
      "Time to clip: 6.822289943695068\n",
      "Now processing nz-walking-and-biking-tracks\n",
      "Time to read file: 0.5749161243438721\n"
     ]
    },
    {
     "data": {
      "application/vnd.jupyter.widget-view+json": {
       "model_id": "005b4ef726094e5a8d52f3a380da4413",
       "version_major": 2,
       "version_minor": 0
      },
      "text/plain": [
       "  0%|          | 0/6 [00:00<?, ?it/s]"
      ]
     },
     "metadata": {},
     "output_type": "display_data"
    },
    {
     "name": "stdout",
     "output_type": "stream",
     "text": [
      "Time to clip: 2.564138412475586\n",
      "Now processing smap-soil-drainage-dec-2023\n",
      "Time to read file: 20.64946985244751\n"
     ]
    },
    {
     "data": {
      "application/vnd.jupyter.widget-view+json": {
       "model_id": "a2e3618dd6c1405081554337d8057afc",
       "version_major": 2,
       "version_minor": 0
      },
      "text/plain": [
       "  0%|          | 0/6 [00:00<?, ?it/s]"
      ]
     },
     "metadata": {},
     "output_type": "display_data"
    },
    {
     "name": "stdout",
     "output_type": "stream",
     "text": [
      "Time to clip: 15.740724086761475\n",
      "Now processing nzlri-land-use-capability-2021\n",
      "Time to read file: 4.3067307472229\n"
     ]
    },
    {
     "data": {
      "application/vnd.jupyter.widget-view+json": {
       "model_id": "d82a36ed5d344548b7add8ad42f65103",
       "version_major": 2,
       "version_minor": 0
      },
      "text/plain": [
       "  0%|          | 0/6 [00:00<?, ?it/s]"
      ]
     },
     "metadata": {},
     "output_type": "display_data"
    },
    {
     "name": "stdout",
     "output_type": "stream",
     "text": [
      "Time to clip: 12.018612623214722\n"
     ]
    }
   ],
   "source": [
    "if os.path.isfile(\"affected_assets.gpkg\"):\n",
    "  os.unlink(\"affected_assets.gpkg\")\n",
    "\n",
    "for row in tqdm(files.itertuples(index=False), total=len(files)):\n",
    "  print(f\"Now processing {row.filename}\")\n",
    "  start = time.time()\n",
    "  asset = gpd.read_file(row.filepath)#, engine=\"pyogrio\", use_arrow=True)\n",
    "  print(f\"Time to read file: {time.time() - start}\")\n",
    "  start = time.time()\n",
    "  clipped_asset = pd.concat(gpd.clip(asset, poly) for poly in tqdm(polys))\n",
    "  print(f\"Time to clip: {time.time() - start}\")\n",
    "  if len(clipped_asset) == 0:\n",
    "    print(f\"No intersection for {row.filename}\")\n",
    "    continue\n",
    "  clipped_asset[\"affected_area\"] = clipped_asset.area\n",
    "  clipped_asset[\"affected_length\"] = clipped_asset.length\n",
    "  clipped_asset.to_file(\"affected_assets.gpkg\", layer=row.filename, driver='GPKG')\n",
    "  os.makedirs(\"affected_assets_CSVs\", exist_ok=True)\n",
    "  clipped_asset.to_csv(f\"affected_assets_CSVs/{row.filename}.csv\")"
   ]
  },
  {
   "cell_type": "code",
   "execution_count": 5,
   "metadata": {},
   "outputs": [
    {
     "data": {
      "text/html": [
       "<pre>✔️ 27 ms (2025-01-13T17:22:13/2025-01-13T17:22:13)</pre>"
      ],
      "text/plain": [
       "<IPython.core.display.HTML object>"
      ]
     },
     "metadata": {},
     "output_type": "display_data"
    },
    {
     "data": {
      "text/html": [
       "<div>\n",
       "<style scoped>\n",
       "    .dataframe tbody tr th:only-of-type {\n",
       "        vertical-align: middle;\n",
       "    }\n",
       "\n",
       "    .dataframe tbody tr th {\n",
       "        vertical-align: top;\n",
       "    }\n",
       "\n",
       "    .dataframe thead th {\n",
       "        text-align: right;\n",
       "    }\n",
       "</style>\n",
       "<table border=\"1\" class=\"dataframe\">\n",
       "  <thead>\n",
       "    <tr style=\"text-align: right;\">\n",
       "      <th></th>\n",
       "      <th>name</th>\n",
       "      <th>geometry_type</th>\n",
       "    </tr>\n",
       "  </thead>\n",
       "  <tbody>\n",
       "    <tr>\n",
       "      <th>0</th>\n",
       "      <td>fsl-soil-drainage-class</td>\n",
       "      <td>MultiPolygon</td>\n",
       "    </tr>\n",
       "    <tr>\n",
       "      <th>1</th>\n",
       "      <td>lucas-nz-land-use-map-1990-2008-2012-2016-v011</td>\n",
       "      <td>MultiPolygon</td>\n",
       "    </tr>\n",
       "    <tr>\n",
       "      <th>2</th>\n",
       "      <td>nz-railway-centre-lines</td>\n",
       "      <td>MultiLineString</td>\n",
       "    </tr>\n",
       "    <tr>\n",
       "      <th>3</th>\n",
       "      <td>nz-monument-points-topo-150k</td>\n",
       "      <td>Point</td>\n",
       "    </tr>\n",
       "    <tr>\n",
       "      <th>4</th>\n",
       "      <td>nz-track-centrelines-topo-150k</td>\n",
       "      <td>MultiLineString</td>\n",
       "    </tr>\n",
       "    <tr>\n",
       "      <th>5</th>\n",
       "      <td>linz-managed-crown-property</td>\n",
       "      <td>MultiPolygon</td>\n",
       "    </tr>\n",
       "    <tr>\n",
       "      <th>6</th>\n",
       "      <td>nz-drain-centrelines-topo-150k</td>\n",
       "      <td>MultiLineString</td>\n",
       "    </tr>\n",
       "    <tr>\n",
       "      <th>7</th>\n",
       "      <td>nz-facilities</td>\n",
       "      <td>Polygon</td>\n",
       "    </tr>\n",
       "    <tr>\n",
       "      <th>8</th>\n",
       "      <td>nz-road-centrelines-topo-150k</td>\n",
       "      <td>MultiLineString</td>\n",
       "    </tr>\n",
       "    <tr>\n",
       "      <th>9</th>\n",
       "      <td>nz-powerline-centrelines-topo-150k</td>\n",
       "      <td>MultiLineString</td>\n",
       "    </tr>\n",
       "    <tr>\n",
       "      <th>10</th>\n",
       "      <td>nz-building-outlines</td>\n",
       "      <td>MultiPolygon</td>\n",
       "    </tr>\n",
       "    <tr>\n",
       "      <th>11</th>\n",
       "      <td>nz-geodetic-marks</td>\n",
       "      <td>Point</td>\n",
       "    </tr>\n",
       "    <tr>\n",
       "      <th>12</th>\n",
       "      <td>nz-historic-site-points-topo-150k</td>\n",
       "      <td>Point</td>\n",
       "    </tr>\n",
       "    <tr>\n",
       "      <th>13</th>\n",
       "      <td>nz-residential-area-polygons-topo-1250k</td>\n",
       "      <td>MultiPolygon</td>\n",
       "    </tr>\n",
       "    <tr>\n",
       "      <th>14</th>\n",
       "      <td>nz-airport-polygons-topo-150k</td>\n",
       "      <td>MultiPolygon</td>\n",
       "    </tr>\n",
       "    <tr>\n",
       "      <th>15</th>\n",
       "      <td>nz-pa-points-topo-150k</td>\n",
       "      <td>Point</td>\n",
       "    </tr>\n",
       "    <tr>\n",
       "      <th>16</th>\n",
       "      <td>DOC_Public_Conservation_Land</td>\n",
       "      <td>MultiPolygon</td>\n",
       "    </tr>\n",
       "    <tr>\n",
       "      <th>17</th>\n",
       "      <td>Covenant_Areas</td>\n",
       "      <td>MultiPolygon</td>\n",
       "    </tr>\n",
       "    <tr>\n",
       "      <th>18</th>\n",
       "      <td>DOC_Sanctuaries_to_Protect_Marine_Mammals</td>\n",
       "      <td>MultiPolygon</td>\n",
       "    </tr>\n",
       "    <tr>\n",
       "      <th>19</th>\n",
       "      <td>Internationally_Recognised_Areas</td>\n",
       "      <td>MultiPolygon</td>\n",
       "    </tr>\n",
       "    <tr>\n",
       "      <th>20</th>\n",
       "      <td>DOC_Campsites</td>\n",
       "      <td>Point</td>\n",
       "    </tr>\n",
       "    <tr>\n",
       "      <th>21</th>\n",
       "      <td>DOC_Marine_Reserves</td>\n",
       "      <td>MultiPolygon</td>\n",
       "    </tr>\n",
       "    <tr>\n",
       "      <th>22</th>\n",
       "      <td>Ecological_Districts</td>\n",
       "      <td>MultiPolygon</td>\n",
       "    </tr>\n",
       "    <tr>\n",
       "      <th>23</th>\n",
       "      <td>roads</td>\n",
       "      <td>MultiLineString Z</td>\n",
       "    </tr>\n",
       "    <tr>\n",
       "      <th>24</th>\n",
       "      <td>protected-areas</td>\n",
       "      <td>MultiPolygon</td>\n",
       "    </tr>\n",
       "    <tr>\n",
       "      <th>25</th>\n",
       "      <td>nz-walking-and-biking-tracks</td>\n",
       "      <td>MultiLineString</td>\n",
       "    </tr>\n",
       "    <tr>\n",
       "      <th>26</th>\n",
       "      <td>smap-soil-drainage-dec-2023</td>\n",
       "      <td>MultiPolygon</td>\n",
       "    </tr>\n",
       "    <tr>\n",
       "      <th>27</th>\n",
       "      <td>nzlri-land-use-capability-2021</td>\n",
       "      <td>MultiPolygon</td>\n",
       "    </tr>\n",
       "  </tbody>\n",
       "</table>\n",
       "</div>"
      ],
      "text/plain": [
       "                                              name      geometry_type\n",
       "0                          fsl-soil-drainage-class       MultiPolygon\n",
       "1   lucas-nz-land-use-map-1990-2008-2012-2016-v011       MultiPolygon\n",
       "2                          nz-railway-centre-lines    MultiLineString\n",
       "3                     nz-monument-points-topo-150k              Point\n",
       "4                   nz-track-centrelines-topo-150k    MultiLineString\n",
       "5                      linz-managed-crown-property       MultiPolygon\n",
       "6                   nz-drain-centrelines-topo-150k    MultiLineString\n",
       "7                                    nz-facilities            Polygon\n",
       "8                    nz-road-centrelines-topo-150k    MultiLineString\n",
       "9               nz-powerline-centrelines-topo-150k    MultiLineString\n",
       "10                            nz-building-outlines       MultiPolygon\n",
       "11                               nz-geodetic-marks              Point\n",
       "12               nz-historic-site-points-topo-150k              Point\n",
       "13         nz-residential-area-polygons-topo-1250k       MultiPolygon\n",
       "14                   nz-airport-polygons-topo-150k       MultiPolygon\n",
       "15                          nz-pa-points-topo-150k              Point\n",
       "16                    DOC_Public_Conservation_Land       MultiPolygon\n",
       "17                                  Covenant_Areas       MultiPolygon\n",
       "18       DOC_Sanctuaries_to_Protect_Marine_Mammals       MultiPolygon\n",
       "19                Internationally_Recognised_Areas       MultiPolygon\n",
       "20                                   DOC_Campsites              Point\n",
       "21                             DOC_Marine_Reserves       MultiPolygon\n",
       "22                            Ecological_Districts       MultiPolygon\n",
       "23                                           roads  MultiLineString Z\n",
       "24                                 protected-areas       MultiPolygon\n",
       "25                    nz-walking-and-biking-tracks    MultiLineString\n",
       "26                     smap-soil-drainage-dec-2023       MultiPolygon\n",
       "27                  nzlri-land-use-capability-2021       MultiPolygon"
      ]
     },
     "execution_count": 5,
     "metadata": {},
     "output_type": "execute_result"
    }
   ],
   "source": [
    "gpd.list_layers(\"affected_assets.gpkg\")"
   ]
  }
 ],
 "metadata": {
  "kernelspec": {
   "display_name": "Python 3",
   "language": "python",
   "name": "python3"
  },
  "language_info": {
   "codemirror_mode": {
    "name": "ipython",
    "version": 3
   },
   "file_extension": ".py",
   "mimetype": "text/x-python",
   "name": "python",
   "nbconvert_exporter": "python",
   "pygments_lexer": "ipython3",
   "version": "3.10.12"
  }
 },
 "nbformat": 4,
 "nbformat_minor": 2
}
